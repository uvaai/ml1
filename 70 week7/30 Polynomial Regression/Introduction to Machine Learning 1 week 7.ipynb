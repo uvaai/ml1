{
 "cells": [
  {
   "cell_type": "markdown",
   "metadata": {},
   "source": [
    "# Polynomial Regression and Cross Validation\n",
    "\n",
    "For this assignment we will try to fit a polynomial function to a provided dataset. Fitting a function is a quintessential example of *supervised learning*, specifically *regression*. There are several concepts in this notebook that are applicable to lots of *supervised learning* algorithms.\n",
    "\n",
    "In earlier exercises we have used the notion of a **cost function**, which describes how well a given model fits the provided data. This function can be minimized in several different ways, depending on complexity of the model and associated cost function. Examples of methods you might use are using *gradient descent* to iteratively approach the minimum or computing the minimum directly using an analytic method, both of which you have seen some version of before.\n",
    "\n",
    "We will start with the most basic polynomial model (linear) and compute the parameters that minimize the cost function directly, based on the derivative. It is important that you try and comprehend what you are doing in this most basic version, as it will help you understand the more complex models that use the same principles later on. \n",
    "\n",
    "The other common concept introduced is model selection using **cross validation**. In this assignment it will be used to determine the model that has the best matching polynomial degree with respect to the function we are fitting. Both cross validation for model selection and minizing the cost function to achieve the best possible fit, are used in many other supervised models like *neural networks*.\n",
    "\n",
    "Below are some imports to get your started. You do not need to add code for this cell to work, just make sure you run the cell to import the libraries in your notebook."
   ]
  },
  {
   "cell_type": "code",
   "execution_count": 34,
   "metadata": {},
   "outputs": [],
   "source": [
    "%matplotlib inline\n",
    "\n",
    "import numpy as np\n",
    "import matplotlib.pyplot as plt"
   ]
  },
  {
   "cell_type": "markdown",
   "metadata": {},
   "source": [
    "## Loading the data [1 pt]\n",
    "\n",
    "Write a function to read the data stored in the file *points.csv* and convert it to a *Numpy* array. Each line in the file is a data point consisting of an **x**-value and **y**-value, separated by a comma. You could use Numpy's [loadtxt](https://docs.scipy.org/doc/numpy/reference/generated/numpy.loadtxt.html), or any other method of your choice to read csv-files and convert that to the correct type.\n",
    "\n",
    "Test your function and print the resulting array to make sure you know what the data looks like."
   ]
  },
  {
   "cell_type": "code",
   "execution_count": 35,
   "metadata": {},
   "outputs": [
    {
     "name": "stdout",
     "output_type": "stream",
     "text": [
      "[[-5.00000000e+00  4.20260155e+01]\n",
      " [-4.65517241e+00  5.93194247e+01]\n",
      " [-4.31034483e+00 -5.88431515e+01]\n",
      " [-3.96551724e+00 -6.69165975e+01]\n",
      " [-3.62068966e+00 -1.15078069e+02]\n",
      " [-3.27586207e+00 -7.97426725e+01]\n",
      " [-2.93103448e+00 -5.51717987e+01]\n",
      " [-2.58620690e+00 -3.51889839e+01]\n",
      " [-2.24137931e+00 -2.70522179e+01]\n",
      " [-1.89655172e+00 -6.09114952e-01]\n",
      " [-1.55172414e+00 -3.15679234e+01]\n",
      " [-1.20689655e+00 -3.84826305e+01]\n",
      " [-8.62068966e-01 -1.58177415e+01]\n",
      " [-5.17241379e-01 -1.80653645e+01]\n",
      " [-1.72413793e-01  3.06491073e+01]\n",
      " [ 1.72413793e-01  4.51857925e+01]\n",
      " [ 5.17241379e-01 -3.38493633e+01]\n",
      " [ 8.62068966e-01 -6.53415429e+00]\n",
      " [ 1.20689655e+00 -1.80395279e+00]\n",
      " [ 1.55172414e+00  2.00521571e+01]\n",
      " [ 1.89655172e+00  1.04010654e+01]\n",
      " [ 2.24137931e+00  2.63662035e+01]\n",
      " [ 2.58620690e+00  5.19151860e+01]\n",
      " [ 2.93103448e+00  9.85175983e+01]\n",
      " [ 3.27586207e+00  2.00295883e+02]\n",
      " [ 3.62068966e+00  2.54697656e+02]\n",
      " [ 3.96551724e+00  3.26024319e+02]\n",
      " [ 4.31034483e+00  4.98548820e+02]\n",
      " [ 4.65517241e+00  6.49658929e+02]\n",
      " [ 5.00000000e+00  8.47241909e+02]]\n"
     ]
    }
   ],
   "source": [
    "### YOUR SOLUTION HERE\n",
    "def load_file(filename):\n",
    "    return np.loadtxt(filename, delimiter=',', dtype=float)\n",
    "\n",
    "data = load_file('points.csv')\n",
    "print(data)"
   ]
  },
  {
   "cell_type": "code",
   "execution_count": 36,
   "metadata": {},
   "outputs": [],
   "source": [
    "# assert shape ofzo"
   ]
  },
  {
   "cell_type": "markdown",
   "metadata": {},
   "source": [
    "## Plotting the points [2 pt]\n",
    "\n",
    "Write a function `split_X_r` to separate your `data` into an `X` (input) matrix and a `Y` (output) matrix using [slicing](https://docs.scipy.org/doc/numpy/reference/arrays.indexing.html).\n",
    "\n",
    "Using both vectors, create a graph containing the plotted points you just read from the file. A plot of data should be visible below your code. As you can se in the cell below, [we can check the shapes](https://docs.scipy.org/doc/numpy/reference/generated/numpy.ndarray.shape.html) of X and Y, they should both be (30,1) as we are creating input and output *matrices*."
   ]
  },
  {
   "cell_type": "code",
   "execution_count": 37,
   "metadata": {},
   "outputs": [
    {
     "data": {
      "image/png": "[encoded data removed]",
      "text/plain": [
       "<Figure size 432x288 with 1 Axes>"
      ]
     },
     "metadata": {
      "needs_background": "light"
     },
     "output_type": "display_data"
    }
   ],
   "source": [
    "### YOUR SOLUTION HERE\n",
    "def split_X_Y(data):\n",
    "    return (data[:, 0, None], data[:, 1, None])\n",
    "    \n",
    "X, Y = split_X_Y(data)\n",
    "\n",
    "plt.plot(X, Y, 'r.')\n",
    "plt.show()"
   ]
  },
  {
   "cell_type": "code",
   "execution_count": 38,
   "metadata": {},
   "outputs": [],
   "source": [
    "assert X.shape == (30, 1)\n",
    "assert Y.shape == (30, 1)"
   ]
  },
  {
   "cell_type": "markdown",
   "metadata": {},
   "source": [
    "## Defining the linear model [1 pt]\n",
    "\n",
    "Now we are going to try to find the polynomial function which best relates these points. We will start by fitting a simple linear function of the form:\n",
    "\n",
    "$$g(x) = w_1x + w_0$$\n",
    "\n",
    "Write a function that computes the predicted output value $g(x)$ given a value of $x$ and the parameters $w_0$ and $w_1$. \n",
    "\n",
    "Check the output of the function by entering some values for `w0` and `w1`, then plot points for values `x in range(10)`."
   ]
  },
  {
   "cell_type": "code",
   "execution_count": 39,
   "metadata": {},
   "outputs": [],
   "source": [
    "### YOUR SOLUTION HERE\n",
    "def linear_model(w0, w1, x):\n",
    "    return w1 * x + w0"
   ]
  },
  {
   "cell_type": "code",
   "execution_count": 46,
   "metadata": {},
   "outputs": [],
   "source": [
    "### YOUR CHECKS HERE"
   ]
  },
  {
   "cell_type": "markdown",
   "metadata": {},
   "source": [
    "## Creating the cost function [2 pt]\n",
    "\n",
    "Our cost function is defined as the sum of the squared errors of each prediction:\n",
    "\n",
    "$$E(w_1, w_0|X) = \\frac{1}{2N}\\sum^N_{t=1} (y^t - g(x^t))^2$$\n",
    "\n",
    "Write a function to compute the cost based on the dataset $X$, $Y$ and parameters $w_0$ and $w_1$. Based on your plot of the data, try to estimate some sensible values for $w_0$ and $w_1$ and compute the corresponding cost. Try at least 3 different values and print their cost. Order the prints of your guesses from highest to lowest cost."
   ]
  },
  {
   "cell_type": "code",
   "execution_count": 47,
   "metadata": {},
   "outputs": [
    {
     "name": "stdout",
     "output_type": "stream",
     "text": [
      "300 150 154844.4089548642\n",
      "300 100 89941.33914518029\n",
      "250 100 71028.59357660078\n"
     ]
    }
   ],
   "source": [
    "### YOUR SOLUTION HERE\n",
    "def linear_cost(w0, w1, X, Y):\n",
    "    d = Y - linear_model(w0, w1, X)\n",
    "    return (np.dot(np.transpose(d), d) / X.shape[0])[0,0]\n",
    "\n",
    "print(300, 150, linear_cost(300, 150, X, Y))\n",
    "print(300, 100, linear_cost(300, 100, X, Y))\n",
    "print(250, 100, linear_cost(250, 100, X, Y))"
   ]
  },
  {
   "cell_type": "markdown",
   "metadata": {},
   "source": [
    "## Fitting the linear model [4 pt]\n",
    "\n",
    "We can find the minimum value of the cost function by taking the partial derivatives of that cost function for both of the weights $w_0$ and $w_1$ and setting them equal to $0$, resulting in the equations:\n",
    "\n",
    "$$w_1 = \\frac{\\sum_tx^ty^t - \\bar{x}\\bar{y}N}{\\sum_t(x^t)^2 - N\\bar{x}^2}$$\n",
    "$$w_0 = \\bar{y} - w_1\\bar{x}$$\n",
    "\n",
    "You can compute the partial derivates of the cost function yourself and set them both equal to zero, to check whether you understand where these two equations come from. Minimizing the cost function gives us the best possible parameters for a linear model predicting the values of the provided dataset. *Note:* If you are unfamiliar with the notation $\\bar{x}$, it is the mean of the $n$ values $x_1,x_2,\\ldots,x_n$:\n",
    "\n",
    "$$\\bar{x} = \\frac{\\sum_{i=0}^n x_i}{n}$$\n",
    "\n",
    "Write a function which computes the optimal values of $w_0$ and $w_1$ for a dataset consisting of the matrices $X$ and $Y$, containing $N$ elements each. Use *matplotlib* again to plot the points, but now also add the line representing the hypothesis function you found. As the line is linear, you can simply plot it by computing the first and last points and have *matplotlib* draw the connecting line.\n",
    "\n",
    "Note that with some clever [array operations](https://docs.scipy.org/doc/numpy/reference/routines.array-manipulation.html) and [linear algebra](https://docs.scipy.org/doc/numpy/reference/routines.linalg.html) you can avoid explicitly looping over all the elements in $X$ and $Y$ in `linear_fit`, which will make you code a lot faster. However, this is just an optional extra and any working implementation of the equations above will be considered correct; this will become clearer in the further exercises."
   ]
  },
  {
   "cell_type": "code",
   "execution_count": 41,
   "metadata": {},
   "outputs": [
    {
     "data": {
      "image/png": "[encoded data removed]",
      "text/plain": [
       "<Figure size 432x288 with 1 Axes>"
      ]
     },
     "metadata": {
      "needs_background": "light"
     },
     "output_type": "display_data"
    }
   ],
   "source": [
    "### YOUR SOLUTION HERE \n",
    "def linear_fit(X, Y, N):\n",
    "    w1 = (np.dot(np.transpose(X), Y) - sum(X)/N*sum(Y)) / (np.dot(np.transpose(X), X) - (sum(X)/N)**2*N)\n",
    "    w0 = sum(Y)/N - w1*sum(X)/N\n",
    "    return w0[0,0], w1[0,0]\n",
    "\n",
    "N = X.shape[0]\n",
    "w0, w1 = linear_fit(X, Y, N)\n",
    "plt.plot(X, Y, 'r.')\n",
    "plt.plot([-5, 5], [linear_model(w0, w1, -5.), linear_model(w0, w1, 5.)], 'b-')\n",
    "plt.show()"
   ]
  },
  {
   "cell_type": "markdown",
   "metadata": {},
   "source": [
    "## Polynomial data [3 pt]\n",
    "\n",
    "The linear model can easily be extended to polynomials of any order by expanding the original input with the squared input $x^2$, the cubed input $x^3$, etc and adding additional weights to the model. At the same time, we can prepare the structure we are using for the clever [array operations](https://docs.scipy.org/doc/numpy/reference/routines.array-manipulation.html) and [linear algebra](https://docs.scipy.org/doc/numpy/reference/routines.linalg.html) named in the previous exercise. To make this easier, we will need to create a so-called $D$ matrix. This matrix contains the data for a $k^{th}$-order polynomial such that we can easily multiply it with the values for our weights $w_0$, $w_1$, $w_2$, etc..\n",
    "\n",
    "If originally the dataset of $N$ elements is of the form $X$ (superscripts are indices here):\n",
    "\n",
    "$$ X = \\left[\\begin{array}{c} x^1 \\\\ x^2 \\\\ \\vdots \\\\ x^N \\end{array} \\right]$$\n",
    "\n",
    "Then the matrix $D$ for a $k^{th}$-order polynomial becomes:\n",
    "\n",
    "$$ D = \\left[\\begin{array}{cccc}\n",
    "1 & x^1 & (x^1)^2 & \\cdots & (x^1)^k \\\\ \n",
    "1 & x^2 & (x^2)^2 & \\cdots & (x^2)^k \\\\ \n",
    "\\vdots \\\\\n",
    "1 & x^N & (x^N)^2 & \\cdots & (x^N)^k \\\\ \n",
    "\\end{array} \\right]$$\n",
    "\n",
    "For ease of calculation and implementation, the input is expanded with a vector of $1$'s, to represent the input for the constant parameter $w_0$. The parameters then become $w_0$, $w_1$, $w_2$, etc., one factor for each term of the polynomial.\n",
    "\n",
    "Write a function `create_D_matrix` that constructs this matrix for a given vector $X$ up the specified order $k$. Looking at plots for the dataset we have been using so far, the relationship between the points will probably be at least be quadratic. Use the function to construct a matrix $D$ of order $2$, print the matrix and verify that it looks correct."
   ]
  },
  {
   "cell_type": "code",
   "execution_count": 42,
   "metadata": {},
   "outputs": [
    {
     "name": "stdout",
     "output_type": "stream",
     "text": [
      "[[ 1.         -5.         25.        ]\n",
      " [ 1.         -4.65517241 21.6706302 ]\n",
      " [ 1.         -4.31034483 18.57907253]\n",
      " [ 1.         -3.96551724 15.72532699]\n",
      " [ 1.         -3.62068966 13.10939358]\n",
      " [ 1.         -3.27586207 10.73127229]\n",
      " [ 1.         -2.93103448  8.59096314]\n",
      " [ 1.         -2.5862069   6.68846611]\n",
      " [ 1.         -2.24137931  5.02378121]\n",
      " [ 1.         -1.89655172  3.59690844]\n",
      " [ 1.         -1.55172414  2.4078478 ]\n",
      " [ 1.         -1.20689655  1.45659929]\n",
      " [ 1.         -0.86206897  0.7431629 ]\n",
      " [ 1.         -0.51724138  0.26753864]\n",
      " [ 1.         -0.17241379  0.02972652]\n",
      " [ 1.          0.17241379  0.02972652]\n",
      " [ 1.          0.51724138  0.26753864]\n",
      " [ 1.          0.86206897  0.7431629 ]\n",
      " [ 1.          1.20689655  1.45659929]\n",
      " [ 1.          1.55172414  2.4078478 ]\n",
      " [ 1.          1.89655172  3.59690844]\n",
      " [ 1.          2.24137931  5.02378121]\n",
      " [ 1.          2.5862069   6.68846611]\n",
      " [ 1.          2.93103448  8.59096314]\n",
      " [ 1.          3.27586207 10.73127229]\n",
      " [ 1.          3.62068966 13.10939358]\n",
      " [ 1.          3.96551724 15.72532699]\n",
      " [ 1.          4.31034483 18.57907253]\n",
      " [ 1.          4.65517241 21.6706302 ]\n",
      " [ 1.          5.         25.        ]]\n"
     ]
    }
   ],
   "source": [
    "def create_D_matrix(X, k):\n",
    "    D = np.ones(X.shape, dtype=float)\n",
    "    for i in range(k):\n",
    "        D = np.concatenate((D, np.power(X, i+1)), axis=1)\n",
    "    return D\n",
    "\n",
    "D = create_D_matrix(X, 2)\n",
    "print(D)"
   ]
  },
  {
   "cell_type": "markdown",
   "metadata": {},
   "source": [
    "## Polynomial model [1 pt]\n",
    "\n",
    "Thus far, we have passed the weights for our polynomials through the use of the variables $w_0$ and $w_1$. To enable us to change the order of the polynomial we are fitting, we need to give our functions a set number of variables. Our solution will be to use a vector of weights $w$. The parameters can now be represented as:\n",
    "\n",
    "$$ w = \\left[\\begin{array}{c} w_0 \\\\ w_1 \\\\ \\vdots \\\\ w_k \\end{array} \\right]$$\n",
    "\n",
    "The hypothesis for a single input then just becomes:\n",
    "\n",
    "$$ g(x^t) = \\sum_{i=0}^k D^t_iw_i $$\n",
    "\n",
    "Which can write as a matrix multiplication for all inputs in a single equation:\n",
    "\n",
    "$$ \\left[\\begin{array}{cccc}\n",
    "1 & x^1 & (x^1)^2 & \\cdots & (x^1)^k \\\\ \n",
    "1 & x^2 & (x^2)^2 & \\cdots & (x^2)^k \\\\ \n",
    "\\vdots \\\\\n",
    "1 & x^N & (x^N)^2 & \\cdots & (x^N)^k \\\\ \n",
    "\\end{array} \\right]\n",
    "\\left[\\begin{array}{c} w_0 \\\\ w_1 \\\\ \\vdots \\\\ w_k \\end{array} \\right] = \\left[\\begin{array}{c} g(x^1) \\\\ g(x^2) \\\\ \\vdots \\\\ g(x^N) \\end{array} \\right]$$\n",
    "\n",
    "You can do matrix multiplication using the [dot](https://docs.scipy.org/doc/numpy/reference/generated/numpy.dot.html) function. Write the function `poly_model`, which should take a matrix $D$ and weight vector $W$ and compute the corresponding vector of hypotheses. "
   ]
  },
  {
   "cell_type": "code",
   "execution_count": 57,
   "metadata": {},
   "outputs": [],
   "source": [
    "def poly_model(D, W):\n",
    "    return np.dot(D, W)"
   ]
  },
  {
   "cell_type": "markdown",
   "metadata": {},
   "source": [
    "## Polynomial cost function and model fitting [3 pts]\n",
    "\n",
    "For the cost function we can now use:\n",
    "\n",
    "$$ E(w|X) = \\frac{1}{2N} \\sum_{t=1}^N [y^t - D^tw]^2$$\n",
    "\n",
    "Here, we compute the hypothesis $g(x)$ for every example using $D^tw$, take the difference with the actual output $y^t$ and finally square and sum each difference. Note that this is extremely similar to the mean squared error function we used for the linear case.\n",
    "\n",
    "Now we have the cost function equation and can again take the partial derivative for each of the weights $w_0$ to $w_k$ and set their value equal to $0$. Solving the resulting system of equations will give the set of weights that minimize the cost function. The weights describing this lowest point of the cost function are the parameters which will produce the line that best fits our dataset.\n",
    "\n",
    "Solving all partial derivate equations for each weight can actually be done with just a couple of matrix operations. Deriving the equation yourself can be a bit involved, but know that the principle is exactly the same as for the linear model computing just $w_0$ and $w_1$. The final equation for weight vector becomes:\n",
    "\n",
    "$$ w = (D^TD)^{-1}D^Ty $$\n",
    "\n",
    "Numpy has built in functions for [transpose](https://docs.scipy.org/doc/numpy/reference/generated/numpy.transpose.html) and [inverse](https://docs.scipy.org/doc/numpy/reference/generated/numpy.linalg.inv.html). Use them to write the code for the following functions.\n",
    "\n",
    "* `poly_cost` should return the total cost $E$ given $w$, $D$ and $y$. We can use this to see how good a fit is.\n",
    "* `poly_fit` should return the vector $w$ that bests fits the polynomial relationship between matrix $D$ and vector $y$\n",
    "\n",
    "Using the quadratic matrix $D$ you constructed earlier and this `poly_fit` function, find the best fitting weights for a quadric polynomial on the data and print these weights"
   ]
  },
  {
   "cell_type": "code",
   "execution_count": 44,
   "metadata": {},
   "outputs": [
    {
     "name": "stdout",
     "output_type": "stream",
     "text": [
      "[[-56.87348684]\n",
      " [ 52.14107002]\n",
      " [ 16.02439317]]\n"
     ]
    }
   ],
   "source": [
    "def poly_cost(W, D, Y):\n",
    "    return np.sum(np.square(Y - poly_model(D, W))) / (2 * D.shape[0])\n",
    "\n",
    "def poly_fit(D, Y):\n",
    "    return np.dot(np.dot(np.linalg.inv(np.dot(np.transpose(D), D)), np.transpose(D)), Y)\n",
    "\n",
    "W = poly_fit(D, Y)\n",
    "print(W)"
   ]
  },
  {
   "cell_type": "markdown",
   "metadata": {},
   "source": [
    "## Plotting polynomials [1 pt]\n",
    "\n",
    "Now lets try and figure out what our fitted quadratic polynomial looks like. As the function is not linear, we will need more than just 2 points to actually plot the line. The easiest solution is to create a whole bunch of x-values as samples, compute the corresponding y-values and plot those. With enough samples the line will look smooth, even if it is connected with linear segments.\n",
    "\n",
    "To create these x-values, we can use the function [linspace](https://docs.scipy.org/doc/numpy/reference/generated/numpy.linspace.html). Then use the `create_D_matrix` and `poly_val` functions you wrote earlier and apply it to every x-value to compute the array of y-values. Now plot the original datapoints as dots and the hypothesis as a line, just as you've already done for the linear plot. \n",
    "\n",
    "Use these steps to fill in the `poly_plot` function below and show the polynomial function defined by the weights you found for the quadratic polynomial."
   ]
  },
  {
   "cell_type": "code",
   "execution_count": 56,
   "metadata": {},
   "outputs": [
    {
     "data": {
      "image/png": "[encoded data removed]",
      "text/plain": [
       "<Figure size 432x288 with 1 Axes>"
      ]
     },
     "metadata": {
      "needs_background": "light"
     },
     "output_type": "display_data"
    }
   ],
   "source": [
    "def poly_plot(W, X, Y):\n",
    "    # Create 100 linearly spaced values between 5 and -5 and shape it as (100, 1)\n",
    "    xvals = np.linspace((5,), (-5,), num=100)\n",
    "    \n",
    "    ### YOUR SOLUTION HERE\n",
    "    D = create_D_matrix(xvals, W.shape[0] - 1)\n",
    "    yvals = poly_model(D, W)\n",
    "\n",
    "    plt.plot(X, Y, 'r.')\n",
    "    plt.plot(xvals, yvals, 'b-')\n",
    "    plt.show()\n",
    "\n",
    "poly_plot(W, X, Y)"
   ]
  },
  {
   "cell_type": "markdown",
   "metadata": {},
   "source": [
    "## Polynomial order [1 pt]\n",
    "\n",
    "You can now create a polynomial fit on the data for a polynomial of any order. The next question then becomes: *What order polynomial fits the data best?*\n",
    "\n",
    "Using the `create_D_matrix`, `poly_fit` and `poly_plot`, try to fit different order polynomials to the data. Show the plot for the order polynomial you think fits best.\n",
    "\n",
    "Note that the cost function will most likely decrease with each added polynomial term, as there is more flexibility in the model to fit the data points exactly. However, these weights will fit those few data points very well, but might have very extreme values in between points that would not be good predictors for new inputs. Something like an order 20 polynomial might have a very well fitting shape for the existing data points, but looks like it would be strange predictor at some of the possible other points. Try to find a fit that looks visually like it would generalize well to new points.\n"
   ]
  },
  {
   "cell_type": "code",
   "execution_count": 63,
   "metadata": {},
   "outputs": [
    {
     "data": {
      "image/png": "[encoded data removed]",
      "text/plain": [
       "<Figure size 432x288 with 1 Axes>"
      ]
     },
     "metadata": {
      "needs_background": "light"
     },
     "output_type": "display_data"
    },
    {
     "name": "stdout",
     "output_type": "stream",
     "text": [
      "260.78836847978704\n"
     ]
    }
   ],
   "source": [
    "D = create_D_matrix(X, 5)\n",
    "W = poly_fit(D, Y)\n",
    "poly_plot(W, X, Y)\n",
    "print(poly_cost(W, D, Y))"
   ]
  },
  {
   "cell_type": "markdown",
   "metadata": {},
   "source": [
    "## Cross validation [2 pt]\n",
    "As discussed in the last exercise, training the model on all of our data, and then taking the polynomial that has the lowest error will probably not give the model that generalises best; this model will overfit the training data, and perform really bad on most \"new\" data the model will get. Manually observing which model is best works great on our model now, but might become difficult when we get more data, or when the dimensionality of our data increases. Another way to see what order polynomial fits the data best *and* generalises to new data is to use cross validation. \n",
    "\n",
    "With cross validation you split the data into 2 parts and use one part to fit the model (training set) and the other part to see how well the model fits the remaining data (validation set). This way, we can *automatically* select a model that is less prone to overfitting. \n",
    "\n",
    "Write a function below to split the original dataset into 2 sets according to a given ratio. It is important to randomize your division, as simply using the first half of data for the one set and the second half for the other might result in a strange distribution. You could use a function like [permutation](https://docs.scipy.org/doc/numpy-1.15.0/reference/generated/numpy.random.permutation.html#numpy.random.permutation) for this purpose.\n",
    "\n",
    "Split the original dataset using a ratio of 0.6 into a training and a validation set. Then for both of these sets, use your old `split_X_Y` function to split them into their $X$ and $Y$ parts."
   ]
  },
  {
   "cell_type": "code",
   "execution_count": 61,
   "metadata": {},
   "outputs": [],
   "source": [
    "def validation_split(data, ratio):\n",
    "    shuffled_data = np.random.permutation(data)\n",
    "    sp = int(len(shuffled_data) * ratio)\n",
    "    return shuffled_data[:sp], shuffled_data[sp:]\n",
    "\n",
    "train, validate = validation_split(data, 0.6)\n",
    "tr_x, tr_y = split_X_Y(train)\n",
    "val_x, val_y = split_X_Y(validate)"
   ]
  },
  {
   "cell_type": "markdown",
   "metadata": {},
   "source": [
    "## Model selection [5 pt]\n",
    "\n",
    "With this new split of the data you can repeatedly fit different order polynomials to the training set and see which produces the lowest cost on the validation set. The set of weights with the lowests cost on the validation set generalizes the best to new data and is thus the best overal fit on the dataset. \n",
    "\n",
    "Write the function `best_poly_fit` below:\n",
    "- Try a large range of polynomial orders (like 1 to 50), and for every of these polynomial orders:\n",
    "  - Create the $D$ matrix based on the training set\n",
    "  - Fit the weights \n",
    "  - Create the $D$ matrix based on the validation set\n",
    "  - Using the weights, the validation $D$ matrix, and the validation output to compute the cost\n",
    "- Return the set of weights with the lowest cost on the validation set and the corresponding cost.\n",
    "\n",
    "Run this fitting function with your training and validation sets. Plot the hypothesis function and show the weights that were found and what the cost was. Note that rerunning your validation split code above will result in a different random distribution and thus a slightly different final fit."
   ]
  },
  {
   "cell_type": "code",
   "execution_count": 62,
   "metadata": {},
   "outputs": [
    {
     "data": {
      "image/png": "[encoded data removed]",
      "text/plain": [
       "<Figure size 432x288 with 1 Axes>"
      ]
     },
     "metadata": {
      "needs_background": "light"
     },
     "output_type": "display_data"
    },
    {
     "name": "stdout",
     "output_type": "stream",
     "text": [
      "6\n",
      "[[-1.24481665e+00  6.63343151e+00 -6.86889407e+00  3.02189101e+00\n",
      "   1.02278462e+00 -4.04051340e-03]]\n"
     ]
    }
   ],
   "source": [
    "def best_poly_fit(train_x, train_y, val_x, val_y):\n",
    "    bW = np.array([])\n",
    "    bE = float('inf')\n",
    "    \n",
    "    for order in range(50):\n",
    "        train_d = create_D_matrix(train_x, order)\n",
    "        W = poly_fit(train_d, train_y)\n",
    "        \n",
    "        val_d = create_D_matrix(val_x, order)\n",
    "        E = poly_cost(W, val_d, val_y)\n",
    "        \n",
    "        if E < bE:\n",
    "            bW = W\n",
    "            bE = E\n",
    "    \n",
    "    return bW, bE\n",
    "\n",
    "W_best, E_best = best_poly_fit(tr_x, tr_y, val_x, val_y)\n",
    "poly_plot(W_best, X, Y)\n",
    "print(len(W_best))\n",
    "print(np.transpose(W_best))"
   ]
  },
  {
   "cell_type": "code",
   "execution_count": null,
   "metadata": {},
   "outputs": [],
   "source": []
  }
 ],
 "metadata": {
  "kernelspec": {
   "display_name": "Python 3",
   "language": "python",
   "name": "python3"
  },
  "language_info": {
   "codemirror_mode": {
    "name": "ipython",
    "version": 3
   },
   "file_extension": ".py",
   "mimetype": "text/x-python",
   "name": "python",
   "nbconvert_exporter": "python",
   "pygments_lexer": "ipython3",
   "version": "3.7.4"
  }
 },
 "nbformat": 4,
 "nbformat_minor": 4
}
