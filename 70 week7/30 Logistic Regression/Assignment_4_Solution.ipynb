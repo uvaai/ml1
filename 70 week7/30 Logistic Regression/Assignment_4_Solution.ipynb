{
 "cells": [
  {
   "cell_type": "markdown",
   "metadata": {},
   "source": [
    "# Decision Trees\n",
    "\n",
    "Decision trees are a supervised learning algorithm used for both classification and regression tasks. For this assignment we are going to take a look at classification. We can use decision trees for issues where we have numerical but also categorical input and target features. The decision tree algorithm you will be making will be based off the *ID3* algorithm as described in chapter 3 of the book \"Machine Learning\" by Tom Mitchell, sections **3.1-3.4**.\n",
    "\n",
    "After building our own *ID3* tree, we will then use scikit-learn to explore numerical univariate decision trees and some possibilities for improving them. Besides working with data containing both categorical and numeric features, this assignment will give us a chance to study the following topics:\n",
    "\n",
    "* Dealing with a more realistic data set. The Iris dataset is useful to get started, as it just works out of the box, but real world datasets will almost always be a lot messier. Having to do some preprocessing to end up with a usable representation is extremely common.\n",
    "* Working with dataframes. `pandas` is a very popular Python library for Data Science that enables you to perform database-like operations on large datasets with great performance. It is a very useful tool to add to your arsenal.\n",
    "* Analysing the results of an algorithm. The results you get when you have (correctly) implemented the algorithm might surprise you. Trying to set up hypotheses about why this is the case and what you could do to improve / prevent / fix this, is a key skill in applying machine learning on real problems."
   ]
  },
  {
   "cell_type": "markdown",
   "metadata": {},
   "source": [
    "# Pandas\n",
    "\n",
    "Before we start with the actual assignment, we will introduce `pandas` through a set of small exercises. For this we will use the book by the creator of `pandas`: \"Python for Data Analysis\". You won't have to read the whole book, but it will serve as a useful reference while you figure out how certain operations are done in `pandas`. We will always refer to the relevant pages, which are included in the *syllabus*.\n",
    "\n",
    "Below each of the exercises is a set of assertions that test whether you gave the correct answer."
   ]
  },
  {
   "cell_type": "markdown",
   "metadata": {},
   "source": [
    "### Series [1 pt]\n",
    "\n",
    "Start by reading Python for Data Analysis pages 111-115 on Series.\n",
    "\n",
    "Create a `Series`-object named `earnings` containing the following *figures* and using the *sources* as its index."
   ]
  },
  {
   "cell_type": "code",
   "execution_count": 2,
   "metadata": {},
   "outputs": [],
   "source": [
    "# Ignore deprecation warnings\n",
    "import warnings\n",
    "warnings.filterwarnings(\"ignore\")"
   ]
  },
  {
   "cell_type": "code",
   "execution_count": 3,
   "metadata": {},
   "outputs": [
    {
     "data": {
      "text/plain": [
       "sales            39041\n",
       "ads               8702\n",
       "subscriptions    13200\n",
       "donations          292\n",
       "dtype: int64"
      ]
     },
     "execution_count": 3,
     "metadata": {},
     "output_type": "execute_result"
    }
   ],
   "source": [
    "import pandas as pd\n",
    "\n",
    "earnings_sources = [\"sales\", \"ads\", \"subscriptions\", \"donations\"]\n",
    "earnings_figures = [39041, 8702, 13200, 292]\n",
    "\n",
    "### BEGIN SOLUTION\n",
    "earnings = pd.Series(earnings_figures, index=earnings_sources)\n",
    "### END SOLUTION\n",
    "\n",
    "earnings"
   ]
  },
  {
   "cell_type": "code",
   "execution_count": 4,
   "metadata": {},
   "outputs": [],
   "source": [
    "assert type(earnings) is pd.Series, \"Income has to be a Series\"\n",
    "assert list(earnings.index) == [\"sales\", \"ads\", \"subscriptions\", \"donations\"]\n",
    "assert list(earnings) == [39041, 8702, 13200, 292]"
   ]
  },
  {
   "cell_type": "markdown",
   "metadata": {},
   "source": [
    "Create a `Series`-object named `expenses` using the same format as `earning` with the expenses *figures*. Then create another `Series`-object named `profit` with the profit figures for each category (earnings minus expenses). Lastly, create a variable `total_profit` containing the summed total of `profit`."
   ]
  },
  {
   "cell_type": "code",
   "execution_count": 5,
   "metadata": {},
   "outputs": [],
   "source": [
    "expenses_sources = [\"ads\", \"sales\", \"donations\", \"subscriptions\"]\n",
    "expenses_figures = [4713, 24282, 0, 3302]\n",
    "\n",
    "### BEGIN SOLUTION\n",
    "expenses = pd.Series(expenses_figures, index=expenses_sources)\n",
    "profit = earnings - expenses\n",
    "total_profit = profit.sum()\n",
    "### END SOLUTION"
   ]
  },
  {
   "cell_type": "code",
   "execution_count": 6,
   "metadata": {},
   "outputs": [],
   "source": [
    "assert type(expenses) is pd.Series\n",
    "assert type(profit) is pd.Series\n",
    "float(total_profit)\n",
    "assert list(profit) == [3989, 292, 14759, 9898]\n",
    "assert total_profit == 28938"
   ]
  },
  {
   "cell_type": "markdown",
   "metadata": {},
   "source": [
    "### DataFrames [1 pt]\n",
    "\n",
    "Next read Python for Data Analysis pages 115-120 on DataFrames.\n",
    "\n",
    "Create a `DataFrame` named `skittles` with the *columns* `amount` and `rating`, using the different colors as the *index*.\n",
    "\n",
    "|&nbsp;      | amount | rating |\n",
    "|------------|--------|--------|\n",
    "| **red**    | 7      | 3      |\n",
    "| **green**  | 4      | 4      |\n",
    "| **blue**   | 6      | 2      |\n",
    "| **purple** | 5      | 4      |\n",
    "| **pink**   | 6      | 3.5    |"
   ]
  },
  {
   "cell_type": "code",
   "execution_count": 7,
   "metadata": {},
   "outputs": [],
   "source": [
    "from pandas import DataFrame\n",
    "\n",
    "### BEGIN SOLUTION\n",
    "skittles = DataFrame([(7, 3), (4, 4), (6, 2), (5, 4), (6, 3.5)],\n",
    "                     columns=[\"amount\", \"rating\"],\n",
    "                     index=[\"red\", \"green\", \"blue\", \"purple\", \"pink\"])\n",
    "### END SOLUTION"
   ]
  },
  {
   "cell_type": "code",
   "execution_count": 8,
   "metadata": {},
   "outputs": [],
   "source": [
    "assert type(skittles) is DataFrame\n",
    "assert list(skittles.index) == [\"red\", \"green\", \"blue\", \"purple\", \"pink\"]\n",
    "assert list(skittles.columns) == [\"amount\", \"rating\"]\n",
    "assert skittles.loc[\"red\", \"amount\"] == 7\n",
    "assert skittles.loc[\"blue\", \"rating\"] == 2\n",
    "\n",
    "solution = pd.read_msgpack(b'\\x84\\xa3typ\\xadblock_manager\\xa5klass\\xa9DataFrame\\xa4axes\\x92\\x86\\xa3typ\\xa5index\\xa5klass\\xa5Index\\xa4name\\xc0\\xa5dtype\\xa6object\\xa4data\\x92\\xa6amount\\xa6rating\\xa8compress\\xc0\\x86\\xa3typ\\xa5index\\xa5klass\\xa5Index\\xa4name\\xc0\\xa5dtype\\xa6object\\xa4data\\x95\\xa3red\\xa5green\\xa4blue\\xa6purple\\xa4pink\\xa8compress\\xc0\\xa6blocks\\x92\\x86\\xa4locs\\x86\\xa3typ\\xa7ndarray\\xa5shape\\x91\\x01\\xa4ndim\\x01\\xa5dtype\\xa5int64\\xa4data\\xd7\\x00\\x01\\x00\\x00\\x00\\x00\\x00\\x00\\x00\\xa8compress\\xc0\\xa6values\\xc7(\\x00\\x00\\x00\\x00\\x00\\x00\\x00\\x08@\\x00\\x00\\x00\\x00\\x00\\x00\\x10@\\x00\\x00\\x00\\x00\\x00\\x00\\x00@\\x00\\x00\\x00\\x00\\x00\\x00\\x10@\\x00\\x00\\x00\\x00\\x00\\x00\\x0c@\\xa5shape\\x92\\x01\\x05\\xa5dtype\\xa7float64\\xa5klass\\xaaFloatBlock\\xa8compress\\xc0\\x86\\xa4locs\\x86\\xa3typ\\xa7ndarray\\xa5shape\\x91\\x01\\xa4ndim\\x01\\xa5dtype\\xa5int64\\xa4data\\xd7\\x00\\x00\\x00\\x00\\x00\\x00\\x00\\x00\\x00\\xa8compress\\xc0\\xa6values\\xc7(\\x00\\x07\\x00\\x00\\x00\\x00\\x00\\x00\\x00\\x04\\x00\\x00\\x00\\x00\\x00\\x00\\x00\\x06\\x00\\x00\\x00\\x00\\x00\\x00\\x00\\x05\\x00\\x00\\x00\\x00\\x00\\x00\\x00\\x06\\x00\\x00\\x00\\x00\\x00\\x00\\x00\\xa5shape\\x92\\x01\\x05\\xa5dtype\\xa5int64\\xa5klass\\xa8IntBlock\\xa8compress\\xc0')\n",
    "pd.testing.assert_frame_equal(skittles, solution)"
   ]
  },
  {
   "cell_type": "markdown",
   "metadata": {},
   "source": [
    "Calculate the average _rating_ of all the skittles and store it in a variable called `skittles_average`."
   ]
  },
  {
   "cell_type": "code",
   "execution_count": 9,
   "metadata": {},
   "outputs": [],
   "source": [
    "### BEGIN SOLUTION\n",
    "skittles_average = skittles[\"rating\"].mean()\n",
    "### END SOLUTION"
   ]
  },
  {
   "cell_type": "code",
   "execution_count": 10,
   "metadata": {},
   "outputs": [],
   "source": [
    "float(skittles_average)\n",
    "assert skittles_average == 3.3"
   ]
  },
  {
   "cell_type": "markdown",
   "metadata": {},
   "source": [
    "Add a new column to the skittles `DataFrame` called `score`. The score of a color is equal to `amount * rating`."
   ]
  },
  {
   "cell_type": "code",
   "execution_count": 11,
   "metadata": {},
   "outputs": [],
   "source": [
    "### BEGIN SOLUTION\n",
    "skittles[\"score\"] = skittles[\"amount\"] * skittles[\"rating\"]\n",
    "### END SOLUTION"
   ]
  },
  {
   "cell_type": "code",
   "execution_count": 12,
   "metadata": {},
   "outputs": [],
   "source": [
    "assert \"score\" in skittles\n",
    "solution = pd.read_msgpack(b'\\x87\\xa3typ\\xa6series\\xa5klass\\xa6Series\\xa4name\\xa5score\\xa5index\\x86\\xa3typ\\xa5index\\xa5klass\\xa5Index\\xa4name\\xc0\\xa5dtype\\xa6object\\xa4data\\x95\\xa3red\\xa5green\\xa4blue\\xa6purple\\xa4pink\\xa8compress\\xc0\\xa5dtype\\xa7float64\\xa4data\\xc7(\\x00\\x00\\x00\\x00\\x00\\x00\\x005@\\x00\\x00\\x00\\x00\\x00\\x000@\\x00\\x00\\x00\\x00\\x00\\x00(@\\x00\\x00\\x00\\x00\\x00\\x004@\\x00\\x00\\x00\\x00\\x00\\x005@\\xa8compress\\xc0')\n",
    "pd.testing.assert_series_equal(skittles[\"score\"], solution)"
   ]
  },
  {
   "cell_type": "markdown",
   "metadata": {},
   "source": [
    "### (Re)Indexing [1 pt]\n",
    "\n",
    "Read Python for Data Analysis pages 122-128, Reindexing, Dropping entries, and \"Indexing, selection, and filtering\".\n",
    "\n",
    "Reindex the given `DataFrame` on columns 'a', 'c', and 'e', using indices 10, 20, 50, 60 and store the result in the same `frame` variable."
   ]
  },
  {
   "cell_type": "code",
   "execution_count": 13,
   "metadata": {},
   "outputs": [
    {
     "data": {
      "text/html": [
       "<div>\n",
       "<style scoped>\n",
       "    .dataframe tbody tr th:only-of-type {\n",
       "        vertical-align: middle;\n",
       "    }\n",
       "\n",
       "    .dataframe tbody tr th {\n",
       "        vertical-align: top;\n",
       "    }\n",
       "\n",
       "    .dataframe thead th {\n",
       "        text-align: right;\n",
       "    }\n",
       "</style>\n",
       "<table border=\"1\" class=\"dataframe\">\n",
       "  <thead>\n",
       "    <tr style=\"text-align: right;\">\n",
       "      <th></th>\n",
       "      <th>a</th>\n",
       "      <th>c</th>\n",
       "      <th>e</th>\n",
       "    </tr>\n",
       "  </thead>\n",
       "  <tbody>\n",
       "    <tr>\n",
       "      <th>10</th>\n",
       "      <td>0.0</td>\n",
       "      <td>2.0</td>\n",
       "      <td>4.0</td>\n",
       "    </tr>\n",
       "    <tr>\n",
       "      <th>20</th>\n",
       "      <td>7.0</td>\n",
       "      <td>9.0</td>\n",
       "      <td>11.0</td>\n",
       "    </tr>\n",
       "    <tr>\n",
       "      <th>50</th>\n",
       "      <td>28.0</td>\n",
       "      <td>30.0</td>\n",
       "      <td>32.0</td>\n",
       "    </tr>\n",
       "    <tr>\n",
       "      <th>60</th>\n",
       "      <td>35.0</td>\n",
       "      <td>37.0</td>\n",
       "      <td>39.0</td>\n",
       "    </tr>\n",
       "  </tbody>\n",
       "</table>\n",
       "</div>"
      ],
      "text/plain": [
       "       a     c     e\n",
       "10   0.0   2.0   4.0\n",
       "20   7.0   9.0  11.0\n",
       "50  28.0  30.0  32.0\n",
       "60  35.0  37.0  39.0"
      ]
     },
     "execution_count": 13,
     "metadata": {},
     "output_type": "execute_result"
    }
   ],
   "source": [
    "import numpy as np\n",
    "\n",
    "frame = DataFrame(np.arange(6 * 7.).reshape((6, 7)), index=[10, 20, 30, 40, 50, 60], columns=list('abcdefg'))\n",
    "### BEGIN SOLUTION\n",
    "frame = frame.reindex(index=[10, 20, 50, 60], columns=['a', 'c', 'e'])\n",
    "### END SOLUTION\n",
    "frame"
   ]
  },
  {
   "cell_type": "code",
   "execution_count": 14,
   "metadata": {},
   "outputs": [],
   "source": [
    "assert type(frame) == DataFrame\n",
    "solution = pd.read_msgpack(b'\\x84\\xa3typ\\xadblock_manager\\xa5klass\\xa9DataFrame\\xa4axes\\x92\\x86\\xa3typ\\xa5index\\xa5klass\\xa5Index\\xa4name\\xc0\\xa5dtype\\xa6object\\xa4data\\x93\\xa1a\\xa1c\\xa1e\\xa8compress\\xc0\\x86\\xa3typ\\xa5index\\xa5klass\\xaaInt64Index\\xa4name\\xc0\\xa5dtype\\xa5int64\\xa4data\\xc7 \\x00\\n\\x00\\x00\\x00\\x00\\x00\\x00\\x00\\x14\\x00\\x00\\x00\\x00\\x00\\x00\\x002\\x00\\x00\\x00\\x00\\x00\\x00\\x00<\\x00\\x00\\x00\\x00\\x00\\x00\\x00\\xa8compress\\xc0\\xa6blocks\\x91\\x86\\xa4locs\\x86\\xa3typ\\xa7ndarray\\xa5shape\\x91\\x03\\xa4ndim\\x01\\xa5dtype\\xa5int64\\xa4data\\xc7\\x18\\x00\\x00\\x00\\x00\\x00\\x00\\x00\\x00\\x00\\x01\\x00\\x00\\x00\\x00\\x00\\x00\\x00\\x02\\x00\\x00\\x00\\x00\\x00\\x00\\x00\\xa8compress\\xc0\\xa6values\\xc7`\\x00\\x00\\x00\\x00\\x00\\x00\\x00\\x00\\x00\\x00\\x00\\x00\\x00\\x00\\x00\\x1c@\\x00\\x00\\x00\\x00\\x00\\x00<@\\x00\\x00\\x00\\x00\\x00\\x80A@\\x00\\x00\\x00\\x00\\x00\\x00\\x00@\\x00\\x00\\x00\\x00\\x00\\x00\"@\\x00\\x00\\x00\\x00\\x00\\x00>@\\x00\\x00\\x00\\x00\\x00\\x80B@\\x00\\x00\\x00\\x00\\x00\\x00\\x10@\\x00\\x00\\x00\\x00\\x00\\x00&@\\x00\\x00\\x00\\x00\\x00\\x00@@\\x00\\x00\\x00\\x00\\x00\\x80C@\\xa5shape\\x92\\x03\\x04\\xa5dtype\\xa7float64\\xa5klass\\xaaFloatBlock\\xa8compress\\xc0')\n",
    "pd.testing.assert_frame_equal(frame, solution)"
   ]
  },
  {
   "cell_type": "markdown",
   "metadata": {},
   "source": [
    "Replace all values in the data frame that are *divisible by 3* with the value *0*, and once again store the result in the `frame` variable."
   ]
  },
  {
   "cell_type": "code",
   "execution_count": 15,
   "metadata": {},
   "outputs": [
    {
     "data": {
      "text/html": [
       "<div>\n",
       "<style scoped>\n",
       "    .dataframe tbody tr th:only-of-type {\n",
       "        vertical-align: middle;\n",
       "    }\n",
       "\n",
       "    .dataframe tbody tr th {\n",
       "        vertical-align: top;\n",
       "    }\n",
       "\n",
       "    .dataframe thead th {\n",
       "        text-align: right;\n",
       "    }\n",
       "</style>\n",
       "<table border=\"1\" class=\"dataframe\">\n",
       "  <thead>\n",
       "    <tr style=\"text-align: right;\">\n",
       "      <th></th>\n",
       "      <th>a</th>\n",
       "      <th>b</th>\n",
       "      <th>c</th>\n",
       "      <th>d</th>\n",
       "      <th>e</th>\n",
       "      <th>f</th>\n",
       "      <th>g</th>\n",
       "    </tr>\n",
       "  </thead>\n",
       "  <tbody>\n",
       "    <tr>\n",
       "      <th>10</th>\n",
       "      <td>0.0</td>\n",
       "      <td>1.0</td>\n",
       "      <td>2.0</td>\n",
       "      <td>0.0</td>\n",
       "      <td>4.0</td>\n",
       "      <td>5.0</td>\n",
       "      <td>0.0</td>\n",
       "    </tr>\n",
       "    <tr>\n",
       "      <th>20</th>\n",
       "      <td>7.0</td>\n",
       "      <td>8.0</td>\n",
       "      <td>0.0</td>\n",
       "      <td>10.0</td>\n",
       "      <td>11.0</td>\n",
       "      <td>0.0</td>\n",
       "      <td>13.0</td>\n",
       "    </tr>\n",
       "    <tr>\n",
       "      <th>30</th>\n",
       "      <td>14.0</td>\n",
       "      <td>0.0</td>\n",
       "      <td>16.0</td>\n",
       "      <td>17.0</td>\n",
       "      <td>0.0</td>\n",
       "      <td>19.0</td>\n",
       "      <td>20.0</td>\n",
       "    </tr>\n",
       "    <tr>\n",
       "      <th>40</th>\n",
       "      <td>0.0</td>\n",
       "      <td>22.0</td>\n",
       "      <td>23.0</td>\n",
       "      <td>0.0</td>\n",
       "      <td>25.0</td>\n",
       "      <td>26.0</td>\n",
       "      <td>0.0</td>\n",
       "    </tr>\n",
       "    <tr>\n",
       "      <th>50</th>\n",
       "      <td>28.0</td>\n",
       "      <td>29.0</td>\n",
       "      <td>0.0</td>\n",
       "      <td>31.0</td>\n",
       "      <td>32.0</td>\n",
       "      <td>0.0</td>\n",
       "      <td>34.0</td>\n",
       "    </tr>\n",
       "    <tr>\n",
       "      <th>60</th>\n",
       "      <td>35.0</td>\n",
       "      <td>0.0</td>\n",
       "      <td>37.0</td>\n",
       "      <td>38.0</td>\n",
       "      <td>0.0</td>\n",
       "      <td>40.0</td>\n",
       "      <td>41.0</td>\n",
       "    </tr>\n",
       "  </tbody>\n",
       "</table>\n",
       "</div>"
      ],
      "text/plain": [
       "       a     b     c     d     e     f     g\n",
       "10   0.0   1.0   2.0   0.0   4.0   5.0   0.0\n",
       "20   7.0   8.0   0.0  10.0  11.0   0.0  13.0\n",
       "30  14.0   0.0  16.0  17.0   0.0  19.0  20.0\n",
       "40   0.0  22.0  23.0   0.0  25.0  26.0   0.0\n",
       "50  28.0  29.0   0.0  31.0  32.0   0.0  34.0\n",
       "60  35.0   0.0  37.0  38.0   0.0  40.0  41.0"
      ]
     },
     "execution_count": 15,
     "metadata": {},
     "output_type": "execute_result"
    }
   ],
   "source": [
    "frame = DataFrame(np.arange(6 * 7.).reshape((6, 7)), index=[10, 20, 30, 40, 50, 60], columns=list('abcdefg'))\n",
    "### BEGIN SOLUTION\n",
    "frame[frame % 3 == 0] = 0\n",
    "### END SOLUTION\n",
    "frame"
   ]
  },
  {
   "cell_type": "code",
   "execution_count": 16,
   "metadata": {},
   "outputs": [],
   "source": [
    "assert type(frame) == DataFrame\n",
    "\n",
    "solution = pd.read_msgpack(b'\\x84\\xa3typ\\xadblock_manager\\xa5klass\\xa9DataFrame\\xa4axes\\x92\\x86\\xa3typ\\xa5index\\xa5klass\\xa5Index\\xa4name\\xc0\\xa5dtype\\xa6object\\xa4data\\x97\\xa1a\\xa1b\\xa1c\\xa1d\\xa1e\\xa1f\\xa1g\\xa8compress\\xc0\\x86\\xa3typ\\xa5index\\xa5klass\\xaaInt64Index\\xa4name\\xc0\\xa5dtype\\xa5int64\\xa4data\\xc70\\x00\\n\\x00\\x00\\x00\\x00\\x00\\x00\\x00\\x14\\x00\\x00\\x00\\x00\\x00\\x00\\x00\\x1e\\x00\\x00\\x00\\x00\\x00\\x00\\x00(\\x00\\x00\\x00\\x00\\x00\\x00\\x002\\x00\\x00\\x00\\x00\\x00\\x00\\x00<\\x00\\x00\\x00\\x00\\x00\\x00\\x00\\xa8compress\\xc0\\xa6blocks\\x91\\x86\\xa4locs\\x86\\xa3typ\\xa7ndarray\\xa5shape\\x91\\x07\\xa4ndim\\x01\\xa5dtype\\xa5int64\\xa4data\\xc78\\x00\\x00\\x00\\x00\\x00\\x00\\x00\\x00\\x00\\x01\\x00\\x00\\x00\\x00\\x00\\x00\\x00\\x02\\x00\\x00\\x00\\x00\\x00\\x00\\x00\\x03\\x00\\x00\\x00\\x00\\x00\\x00\\x00\\x04\\x00\\x00\\x00\\x00\\x00\\x00\\x00\\x05\\x00\\x00\\x00\\x00\\x00\\x00\\x00\\x06\\x00\\x00\\x00\\x00\\x00\\x00\\x00\\xa8compress\\xc0\\xa6values\\xc8\\x01P\\x00\\x00\\x00\\x00\\x00\\x00\\x00\\x00\\x00\\x00\\x00\\x00\\x00\\x00\\x00\\x1c@\\x00\\x00\\x00\\x00\\x00\\x00,@\\x00\\x00\\x00\\x00\\x00\\x00\\x00\\x00\\x00\\x00\\x00\\x00\\x00\\x00<@\\x00\\x00\\x00\\x00\\x00\\x80A@\\x00\\x00\\x00\\x00\\x00\\x00\\xf0?\\x00\\x00\\x00\\x00\\x00\\x00 @\\x00\\x00\\x00\\x00\\x00\\x00\\x00\\x00\\x00\\x00\\x00\\x00\\x00\\x006@\\x00\\x00\\x00\\x00\\x00\\x00=@\\x00\\x00\\x00\\x00\\x00\\x00\\x00\\x00\\x00\\x00\\x00\\x00\\x00\\x00\\x00@\\x00\\x00\\x00\\x00\\x00\\x00\\x00\\x00\\x00\\x00\\x00\\x00\\x00\\x000@\\x00\\x00\\x00\\x00\\x00\\x007@\\x00\\x00\\x00\\x00\\x00\\x00\\x00\\x00\\x00\\x00\\x00\\x00\\x00\\x80B@\\x00\\x00\\x00\\x00\\x00\\x00\\x00\\x00\\x00\\x00\\x00\\x00\\x00\\x00$@\\x00\\x00\\x00\\x00\\x00\\x001@\\x00\\x00\\x00\\x00\\x00\\x00\\x00\\x00\\x00\\x00\\x00\\x00\\x00\\x00?@\\x00\\x00\\x00\\x00\\x00\\x00C@\\x00\\x00\\x00\\x00\\x00\\x00\\x10@\\x00\\x00\\x00\\x00\\x00\\x00&@\\x00\\x00\\x00\\x00\\x00\\x00\\x00\\x00\\x00\\x00\\x00\\x00\\x00\\x009@\\x00\\x00\\x00\\x00\\x00\\x00@@\\x00\\x00\\x00\\x00\\x00\\x00\\x00\\x00\\x00\\x00\\x00\\x00\\x00\\x00\\x14@\\x00\\x00\\x00\\x00\\x00\\x00\\x00\\x00\\x00\\x00\\x00\\x00\\x00\\x003@\\x00\\x00\\x00\\x00\\x00\\x00:@\\x00\\x00\\x00\\x00\\x00\\x00\\x00\\x00\\x00\\x00\\x00\\x00\\x00\\x00D@\\x00\\x00\\x00\\x00\\x00\\x00\\x00\\x00\\x00\\x00\\x00\\x00\\x00\\x00*@\\x00\\x00\\x00\\x00\\x00\\x004@\\x00\\x00\\x00\\x00\\x00\\x00\\x00\\x00\\x00\\x00\\x00\\x00\\x00\\x00A@\\x00\\x00\\x00\\x00\\x00\\x80D@\\xa5shape\\x92\\x07\\x06\\xa5dtype\\xa7float64\\xa5klass\\xaaFloatBlock\\xa8compress\\xc0')\n",
    "pd.testing.assert_frame_equal(frame, solution)"
   ]
  },
  {
   "cell_type": "markdown",
   "metadata": {},
   "source": [
    "This completes this `pandas` introduction. Now lets move on to the actual decision tree assignment."
   ]
  },
  {
   "cell_type": "markdown",
   "metadata": {},
   "source": [
    "# Predicting heart disease \n",
    "\n",
    "The data set we will be using for this assignment contains heart disease diagnosis results from 4 different hospitals. The data set can be found [here](https://archive.ics.uci.edu/ml/machine-learning-databases/heart-disease/). Download the dataset, and place the files in the same folder as this notebook.\n",
    "\n",
    "Lets start by looking at the [heart-disease.names](https://archive.ics.uci.edu/ml/machine-learning-databases/heart-disease/heart-disease.names) file, which contains a description of the data set. The file also gives an explanation for the values of the different variables, so when our tree is complete we can interpret the decision rules created by the algorithm. \n",
    "\n",
    "Some variables included here, like *#9 cp: chest pain type*, with 4 labels for different types of chest pain, are clearly categorical. Then there are variables like *#12 chol: serum cholestoral in mg/dl*, containing the concentration of cholesterol, an obvious numeric value. The ability to handle both of these types of data is something not many other machine learning algorithms can do effectively, so in theory a decision tree should be perfect for this data.\n",
    "\n",
    "### Taking a first look [2 pts]\n",
    "\n",
    "Start by downloading the 4 `processed.X.data` files and loading them into a *Pandas DataFrame* with the function `pd.read_csv`. Do not forget to manually set the names of the columns! You can find these names listed in the [heart-disease.names](https://archive.ics.uci.edu/ml/machine-learning-databases/heart-disease/heart-disease.names) file. \n",
    "\n",
    "Create a list `data` that contains these four dataframes and print the dataset. You should see a couple of unexpected values pop up, which probably indicate a missing value. The file describing the data sets states that missing values are indicated by $-9.0$, but this doesn't seem to be the case. \n"
   ]
  },
  {
   "cell_type": "code",
   "execution_count": 17,
   "metadata": {},
   "outputs": [
    {
     "data": {
      "text/html": [
       "<div>\n",
       "<style scoped>\n",
       "    .dataframe tbody tr th:only-of-type {\n",
       "        vertical-align: middle;\n",
       "    }\n",
       "\n",
       "    .dataframe tbody tr th {\n",
       "        vertical-align: top;\n",
       "    }\n",
       "\n",
       "    .dataframe thead th {\n",
       "        text-align: right;\n",
       "    }\n",
       "</style>\n",
       "<table border=\"1\" class=\"dataframe\">\n",
       "  <thead>\n",
       "    <tr style=\"text-align: right;\">\n",
       "      <th></th>\n",
       "      <th>age</th>\n",
       "      <th>sex</th>\n",
       "      <th>cp</th>\n",
       "      <th>trestbps</th>\n",
       "      <th>chol</th>\n",
       "      <th>fbs</th>\n",
       "      <th>restecg</th>\n",
       "      <th>thalach</th>\n",
       "      <th>exang</th>\n",
       "      <th>oldpeak</th>\n",
       "      <th>slope</th>\n",
       "      <th>ca</th>\n",
       "      <th>thal</th>\n",
       "      <th>num</th>\n",
       "    </tr>\n",
       "  </thead>\n",
       "  <tbody>\n",
       "    <tr>\n",
       "      <th>0</th>\n",
       "      <td>63</td>\n",
       "      <td>1</td>\n",
       "      <td>4</td>\n",
       "      <td>140</td>\n",
       "      <td>260</td>\n",
       "      <td>0</td>\n",
       "      <td>1</td>\n",
       "      <td>112</td>\n",
       "      <td>1</td>\n",
       "      <td>3</td>\n",
       "      <td>2</td>\n",
       "      <td>?</td>\n",
       "      <td>?</td>\n",
       "      <td>2</td>\n",
       "    </tr>\n",
       "    <tr>\n",
       "      <th>1</th>\n",
       "      <td>44</td>\n",
       "      <td>1</td>\n",
       "      <td>4</td>\n",
       "      <td>130</td>\n",
       "      <td>209</td>\n",
       "      <td>0</td>\n",
       "      <td>1</td>\n",
       "      <td>127</td>\n",
       "      <td>0</td>\n",
       "      <td>0</td>\n",
       "      <td>?</td>\n",
       "      <td>?</td>\n",
       "      <td>?</td>\n",
       "      <td>0</td>\n",
       "    </tr>\n",
       "    <tr>\n",
       "      <th>2</th>\n",
       "      <td>60</td>\n",
       "      <td>1</td>\n",
       "      <td>4</td>\n",
       "      <td>132</td>\n",
       "      <td>218</td>\n",
       "      <td>0</td>\n",
       "      <td>1</td>\n",
       "      <td>140</td>\n",
       "      <td>1</td>\n",
       "      <td>1.5</td>\n",
       "      <td>3</td>\n",
       "      <td>?</td>\n",
       "      <td>?</td>\n",
       "      <td>2</td>\n",
       "    </tr>\n",
       "    <tr>\n",
       "      <th>3</th>\n",
       "      <td>55</td>\n",
       "      <td>1</td>\n",
       "      <td>4</td>\n",
       "      <td>142</td>\n",
       "      <td>228</td>\n",
       "      <td>0</td>\n",
       "      <td>1</td>\n",
       "      <td>149</td>\n",
       "      <td>1</td>\n",
       "      <td>2.5</td>\n",
       "      <td>1</td>\n",
       "      <td>?</td>\n",
       "      <td>?</td>\n",
       "      <td>1</td>\n",
       "    </tr>\n",
       "    <tr>\n",
       "      <th>4</th>\n",
       "      <td>66</td>\n",
       "      <td>1</td>\n",
       "      <td>3</td>\n",
       "      <td>110</td>\n",
       "      <td>213</td>\n",
       "      <td>1</td>\n",
       "      <td>2</td>\n",
       "      <td>99</td>\n",
       "      <td>1</td>\n",
       "      <td>1.3</td>\n",
       "      <td>2</td>\n",
       "      <td>?</td>\n",
       "      <td>?</td>\n",
       "      <td>0</td>\n",
       "    </tr>\n",
       "    <tr>\n",
       "      <th>...</th>\n",
       "      <td>...</td>\n",
       "      <td>...</td>\n",
       "      <td>...</td>\n",
       "      <td>...</td>\n",
       "      <td>...</td>\n",
       "      <td>...</td>\n",
       "      <td>...</td>\n",
       "      <td>...</td>\n",
       "      <td>...</td>\n",
       "      <td>...</td>\n",
       "      <td>...</td>\n",
       "      <td>...</td>\n",
       "      <td>...</td>\n",
       "      <td>...</td>\n",
       "    </tr>\n",
       "    <tr>\n",
       "      <th>195</th>\n",
       "      <td>54</td>\n",
       "      <td>0</td>\n",
       "      <td>4</td>\n",
       "      <td>127</td>\n",
       "      <td>333</td>\n",
       "      <td>1</td>\n",
       "      <td>1</td>\n",
       "      <td>154</td>\n",
       "      <td>0</td>\n",
       "      <td>0</td>\n",
       "      <td>?</td>\n",
       "      <td>?</td>\n",
       "      <td>?</td>\n",
       "      <td>1</td>\n",
       "    </tr>\n",
       "    <tr>\n",
       "      <th>196</th>\n",
       "      <td>62</td>\n",
       "      <td>1</td>\n",
       "      <td>1</td>\n",
       "      <td>?</td>\n",
       "      <td>139</td>\n",
       "      <td>0</td>\n",
       "      <td>1</td>\n",
       "      <td>?</td>\n",
       "      <td>?</td>\n",
       "      <td>?</td>\n",
       "      <td>?</td>\n",
       "      <td>?</td>\n",
       "      <td>?</td>\n",
       "      <td>0</td>\n",
       "    </tr>\n",
       "    <tr>\n",
       "      <th>197</th>\n",
       "      <td>55</td>\n",
       "      <td>1</td>\n",
       "      <td>4</td>\n",
       "      <td>122</td>\n",
       "      <td>223</td>\n",
       "      <td>1</td>\n",
       "      <td>1</td>\n",
       "      <td>100</td>\n",
       "      <td>0</td>\n",
       "      <td>0</td>\n",
       "      <td>?</td>\n",
       "      <td>?</td>\n",
       "      <td>6</td>\n",
       "      <td>2</td>\n",
       "    </tr>\n",
       "    <tr>\n",
       "      <th>198</th>\n",
       "      <td>58</td>\n",
       "      <td>1</td>\n",
       "      <td>4</td>\n",
       "      <td>?</td>\n",
       "      <td>385</td>\n",
       "      <td>1</td>\n",
       "      <td>2</td>\n",
       "      <td>?</td>\n",
       "      <td>?</td>\n",
       "      <td>?</td>\n",
       "      <td>?</td>\n",
       "      <td>?</td>\n",
       "      <td>?</td>\n",
       "      <td>0</td>\n",
       "    </tr>\n",
       "    <tr>\n",
       "      <th>199</th>\n",
       "      <td>62</td>\n",
       "      <td>1</td>\n",
       "      <td>2</td>\n",
       "      <td>120</td>\n",
       "      <td>254</td>\n",
       "      <td>0</td>\n",
       "      <td>2</td>\n",
       "      <td>93</td>\n",
       "      <td>1</td>\n",
       "      <td>0</td>\n",
       "      <td>?</td>\n",
       "      <td>?</td>\n",
       "      <td>?</td>\n",
       "      <td>1</td>\n",
       "    </tr>\n",
       "  </tbody>\n",
       "</table>\n",
       "<p>200 rows × 14 columns</p>\n",
       "</div>"
      ],
      "text/plain": [
       "     age  sex  cp trestbps chol fbs  restecg thalach exang oldpeak slope ca  \\\n",
       "0     63    1   4      140  260   0        1     112     1       3     2  ?   \n",
       "1     44    1   4      130  209   0        1     127     0       0     ?  ?   \n",
       "2     60    1   4      132  218   0        1     140     1     1.5     3  ?   \n",
       "3     55    1   4      142  228   0        1     149     1     2.5     1  ?   \n",
       "4     66    1   3      110  213   1        2      99     1     1.3     2  ?   \n",
       "..   ...  ...  ..      ...  ...  ..      ...     ...   ...     ...   ... ..   \n",
       "195   54    0   4      127  333   1        1     154     0       0     ?  ?   \n",
       "196   62    1   1        ?  139   0        1       ?     ?       ?     ?  ?   \n",
       "197   55    1   4      122  223   1        1     100     0       0     ?  ?   \n",
       "198   58    1   4        ?  385   1        2       ?     ?       ?     ?  ?   \n",
       "199   62    1   2      120  254   0        2      93     1       0     ?  ?   \n",
       "\n",
       "    thal  num  \n",
       "0      ?    2  \n",
       "1      ?    0  \n",
       "2      ?    2  \n",
       "3      ?    1  \n",
       "4      ?    0  \n",
       "..   ...  ...  \n",
       "195    ?    1  \n",
       "196    ?    0  \n",
       "197    6    2  \n",
       "198    ?    0  \n",
       "199    ?    1  \n",
       "\n",
       "[200 rows x 14 columns]"
      ]
     },
     "execution_count": 17,
     "metadata": {},
     "output_type": "execute_result"
    }
   ],
   "source": [
    "file_names = []\n",
    "column_names = []\n",
    "data = []\n",
    "\n",
    "### BEGIN SOLUTION\n",
    "file_names = ['va', 'hungarian', 'switzerland', 'cleveland']\n",
    "column_names = ['age', 'sex', 'cp', 'trestbps', 'chol', 'fbs', 'restecg', 'thalach', 'exang', 'oldpeak', 'slope', 'ca', 'thal', 'num']\n",
    "\n",
    "data = [pd.read_csv(f'processed.{fn}.data', header=None, names=column_names) for fn in file_names]\n",
    "\n",
    "data[0]\n",
    "### END SOLUTION\n"
   ]
  },
  {
   "cell_type": "markdown",
   "metadata": {},
   "source": [
    "Lets inspect the scope of this problem by writing the `count_missing` function, which should count the number of missing elements for each feature / column of a data set. The function should thus return a *Series* of missing counts, one count for each column in the data set. We have provided you with the code to print some statistics."
   ]
  },
  {
   "cell_type": "code",
   "execution_count": 18,
   "metadata": {},
   "outputs": [
    {
     "name": "stdout",
     "output_type": "stream",
     "text": [
      "Filename: va\n",
      "Rows: 200\n",
      "Missing per column: \n",
      "   age  sex  cp  trestbps  chol  fbs  restecg  thalach  exang  oldpeak  slope  \\\n",
      "0    0    0   0        56     7    7        0       53     53       56    102   \n",
      "\n",
      "    ca  thal  num  \n",
      "0  198   166    0  \n",
      "\n",
      "Filename: hungarian\n",
      "Rows: 294\n",
      "Missing per column: \n",
      "   age  sex  cp  trestbps  chol  fbs  restecg  thalach  exang  oldpeak  slope  \\\n",
      "0    0    0   0         1    23    8        1        1      1        0    190   \n",
      "\n",
      "    ca  thal  num  \n",
      "0  291   266    0  \n",
      "\n",
      "Filename: switzerland\n",
      "Rows: 123\n",
      "Missing per column: \n",
      "   age  sex  cp  trestbps  chol  fbs  restecg  thalach  exang  oldpeak  slope  \\\n",
      "0    0    0   0         2     0   75        1        1      1        6     17   \n",
      "\n",
      "    ca  thal  num  \n",
      "0  118    52    0  \n",
      "\n",
      "Filename: cleveland\n",
      "Rows: 303\n",
      "Missing per column: \n",
      "   age  sex  cp  trestbps  chol  fbs  restecg  thalach  exang  oldpeak  slope  \\\n",
      "0    0    0   0         0     0    0        0        0      0        0      0   \n",
      "\n",
      "   ca  thal  num  \n",
      "0   4     2    0  \n",
      "\n"
     ]
    }
   ],
   "source": [
    "def count_missing(df):\n",
    "    ### BEGIN SOLUTION\n",
    "    return np.sum(df.applymap(lambda x: x == '?'), axis=0)\n",
    "    ### END SOLUTION\n",
    "\n",
    "for i in range(len(data)):\n",
    "    print(f'Filename: {file_names[i]}')\n",
    "    print(f'Rows: {len(data[i])}')\n",
    "    \n",
    "    # The following code makes sure that we print horizontally and not vertically\n",
    "    print(f'Missing per column: \\n{count_missing(data[i]).to_frame().T}')\n",
    "    print()"
   ]
  },
  {
   "cell_type": "markdown",
   "metadata": {},
   "source": [
    "### Cleaning the data [1 pt]\n",
    "\n",
    "Looking at the results from the previous step, it seems like the sets from some hospitals are more complete than others. There are different approaches you might take to solve this, like replacing the missing values with the average value for that variable, or handling missing values within the algorithm in a seperate way. For now we will take the simplest approach, discarding any rows that contain missing values. This way we only use the complete patient records from each data set. \n",
    "\n",
    "We have concatenated all four DataFrames into a single DataFrame called `df`. Drop any rows containing a missing value. You can use pandas `pd.to_numeric` with keyword `errors='coerce'` to easily convert entries to floats. When trying to convert the missing values, the DataFrame will transform these into `NaN` (Not a Number) instead of a float. After you remove the rows with `NaN`, you should end up with about 300 patient records, most of which are from the Cleveland hospital. Each patient has 14 variables, one of which (the 14th variable) is the target variable."
   ]
  },
  {
   "cell_type": "code",
   "execution_count": 19,
   "metadata": {},
   "outputs": [],
   "source": [
    "df = pd.concat(data, ignore_index=True)\n",
    "\n",
    "### BEGIN SOLUTION\n",
    "df = df.apply(pd.to_numeric, errors='coerce')\n",
    "\n",
    "df = df.dropna()\n",
    "### END SOLUTION\n",
    "\n",
    "assert len(df) == 299\n",
    "assert len(df.columns) == 14\n",
    "\n",
    "target = df.columns[-1]"
   ]
  },
  {
   "cell_type": "markdown",
   "metadata": {},
   "source": [
    "Lets take a look at how how often each label in the target variable actually occurs."
   ]
  },
  {
   "cell_type": "code",
   "execution_count": 20,
   "metadata": {},
   "outputs": [
    {
     "data": {
      "text/plain": [
       "Counter({1: 56, 0: 160, 2: 35, 3: 35, 4: 13})"
      ]
     },
     "execution_count": 20,
     "metadata": {},
     "output_type": "execute_result"
    }
   ],
   "source": [
    "from collections import Counter\n",
    "\n",
    "Counter(df[target])"
   ]
  },
  {
   "cell_type": "markdown",
   "metadata": {},
   "source": [
    "We can see that the number of each of the labels of our target variable differs greatly. While there are 160 labels with the value $0$, we only have 13 labels with value $4$. In virtually all classification tasks, training data that contains different numbers of representatives from each class might result in a classifier that is biased towards the most common class. When applied to a test set that is similarly imbalanced, this classifier yields an optimistic accuracy estimate. In an extreme case, the classifier might assign every single test case to the majority class, thereby trivially achieving an accuracy equal to the proportion of test cases belonging to the majority class!\n",
    "\n",
    "In the description file ([heart-disease.names](https://archive.ics.uci.edu/ml/machine-learning-databases/heart-disease/heart-disease.names)) it says *Value 0: < 50% diameter narrowing* and *Value 1: > 50% diameter narrowing*, but it does not explain all the other values. It might be logical to assume that these are different degrees of narrowing, where $0$ would mean no disease and higher values would mean different levels of disease present. Because the distribution of the different values is so skewed however, for now we will just focus on classifying the difference between a value of $0$  and any of the higher values.\n",
    "\n",
    "Change the target column to contain a boolean value that is `True` if there is more than $50\\%$ narrowing and `False` otherwise. Then print the counts."
   ]
  },
  {
   "cell_type": "code",
   "execution_count": 21,
   "metadata": {},
   "outputs": [
    {
     "data": {
      "text/plain": [
       "Counter({True: 139, False: 160})"
      ]
     },
     "execution_count": 21,
     "metadata": {},
     "output_type": "execute_result"
    }
   ],
   "source": [
    "### BEGIN SOLUTION\n",
    "df[target] = df[target] > 0\n",
    "\n",
    "Counter(df[target])\n",
    "### END SOLUTION"
   ]
  },
  {
   "cell_type": "markdown",
   "metadata": {},
   "source": [
    "# Categorical Decision Trees\n",
    "\n",
    "If you have not yet read sections **3.1-3.4** of \"Machine Learning\" by Tom Mitchell, do so now. The entire chapter 3 on Decision Trees is included in the syllabus.\n",
    "\n",
    "The main idea of decision trees is to find the feature that contains the most \"information\" and then split/group the dataset along the rows of this feature that have the same value. This process of finding the \"most informative\" feature and then splitting is repeated until we arrive at a stopping criterium.\n",
    "\n",
    "We will implement this process over several steps:\n",
    "- Generate splits from a given dataset\n",
    "- Calculate the Shannon entropy; a measure of the amount of information in a given dataset\n",
    "- Calculate the Information Gain for a given split\n",
    "- Combine these metrics into an algorithm that creates the Decision Tree\n",
    "\n",
    "## Splits [3 pts]\n",
    "\n",
    "Before we can determine which of our features produce the most descriptive split, we must create each split. **A split is a grouping of rows in a dataset by each of the unique values in _one_ of the columns.**\n",
    "\n",
    "First, we need to determine what unique values are present in a column. Implement a function named `unique_values` that takes a dataframe `df` and a column name `m` and returns a list of the unique values in the given column. Test the function by entering a couple of the column names and see if the outcome is as expected."
   ]
  },
  {
   "cell_type": "code",
   "execution_count": 22,
   "metadata": {},
   "outputs": [
    {
     "name": "stdout",
     "output_type": "stream",
     "text": [
      "[29. 34. 35. 37. 38. 39. 40. 41. 42. 43. 44. 45. 46. 47. 48. 49. 50. 51.\n",
      " 52. 53. 54. 55. 56. 57. 58. 59. 60. 61. 62. 63. 64. 65. 66. 67. 68. 69.\n",
      " 70. 71. 74. 76. 77.]\n"
     ]
    }
   ],
   "source": [
    "def unique_values(df, m):\n",
    "    ### BEGIN SOLUTION\n",
    "    return np.unique(df[m])\n",
    "    ### END SOLUTION\n",
    "\n",
    "print(unique_values(df, 'age'))"
   ]
  },
  {
   "cell_type": "markdown",
   "metadata": {},
   "source": [
    "Now implement a function named `create_split` that takes a dataframe `df` and a column name `m` and returns a dictionary. This dictionary has the *unique column values* as its keys, and the split dataframes as its values. Remember that you just wrote a function for getting the unique keys! Each of the dataframes consist of only data rows that match with the same unique value. Simply put, the data frame rows are \"grouped\" by each of the different unique values from that column.\n",
    "\n",
    "*Note:* When adding each of the frames in the dictionary, remove the column that was used to create the split. We have already split it into its different unique values, so the information in that column is now redundant and further splits on this column would not be possible.\n",
    "\n",
    "You should end up with a dictionary that has a set of rows for each unique value in the given column. Test the function by entering a column name, and see if the outcome is as expected."
   ]
  },
  {
   "cell_type": "code",
   "execution_count": 1,
   "metadata": {},
   "outputs": [
    {
     "ename": "NameError",
     "evalue": "name 'pd' is not defined",
     "output_type": "error",
     "traceback": [
      "\u001b[1;31m---------------------------------------------------------------------------\u001b[0m",
      "\u001b[1;31mNameError\u001b[0m                                 Traceback (most recent call last)",
      "\u001b[1;32m<ipython-input-1-55280b5b72f6>\u001b[0m in \u001b[0;36m<module>\u001b[1;34m\u001b[0m\n\u001b[0;32m      5\u001b[0m     \u001b[1;31m### END SOLUTION\u001b[0m\u001b[1;33m\u001b[0m\u001b[1;33m\u001b[0m\u001b[1;33m\u001b[0m\u001b[0m\n\u001b[0;32m      6\u001b[0m \u001b[1;33m\u001b[0m\u001b[0m\n\u001b[1;32m----> 7\u001b[1;33m \u001b[0msolution\u001b[0m \u001b[1;33m=\u001b[0m \u001b[0mpd\u001b[0m\u001b[1;33m.\u001b[0m\u001b[0mread_msgpack\u001b[0m\u001b[1;33m(\u001b[0m\u001b[1;34mb'\\x84\\xa3typ\\xadblock_manager\\xa5klass\\xa9DataFrame\\xa4axes\\x92\\x86\\xa3typ\\xa5index\\xa5klass\\xa5Index\\xa4name\\xc0\\xa5dtype\\xa6object\\xa4data\\x9d\\xa3sex\\xa2cp\\xa8trestbps\\xa4chol\\xa3fbs\\xa7restecg\\xa7thalach\\xa5exang\\xa7oldpeak\\xa5slope\\xa2ca\\xa4thal\\xa3num\\xa8compress\\xc0\\x86\\xa3typ\\xa5index\\xa5klass\\xaaInt64Index\\xa4name\\xc0\\xa5dtype\\xa5int64\\xa4data\\xd8\\x00\\xce\\x02\\x00\\x00\\x00\\x00\\x00\\x00J\\x03\\x00\\x00\\x00\\x00\\x00\\x00\\xa8compress\\xc0\\xa6blocks\\x92\\x86\\xa4locs\\x86\\xa3typ\\xa7ndarray\\xa5shape\\x91\\x0c\\xa4ndim\\x01\\xa5dtype\\xa5int64\\xa4data\\xc7`\\x00\\x00\\x00\\x00\\x00\\x00\\x00\\x00\\x00\\x01\\x00\\x00\\x00\\x00\\x00\\x00\\x00\\x02\\x00\\x00\\x00\\x00\\x00\\x00\\x00\\x03\\x00\\x00\\x00\\x00\\x00\\x00\\x00\\x04\\x00\\x00\\x00\\x00\\x00\\x00\\x00\\x05\\x00\\x00\\x00\\x00\\x00\\x00\\x00\\x06\\x00\\x00\\x00\\x00\\x00\\x00\\x00\\x07\\x00\\x00\\x00\\x00\\x00\\x00\\x00\\x08\\x00\\x00\\x00\\x00\\x00\\x00\\x00\\t\\x00\\x00\\x00\\x00\\x00\\x00\\x00\\n\\x00\\x00\\x00\\x00\\x00\\x00\\x00\\x0b\\x00\\x00\\x00\\x00\\x00\\x00\\x00\\xa8compress\\xc0\\xa6values\\xc7\\xc0\\x00\\x00\\x00\\x00\\x00\\x00\\x00\\xf0?\\x00\\x00\\x00\\x00\\x00\\x00\\x00\\x00\\x00\\x00\\x00\\x00\\x00\\x00\\xf0?\\x00\\x00\\x00\\x00\\x00\\x00\\x00@\\x00\\x00\\x00\\x00\\x00\\x80]@\\x00\\x00\\x00\\x00\\x00\\x80]@\\x00\\x00\\x00\\x00\\x00\\xc0f@\\x00\\x00\\x00\\x00\\x00@j@\\x00\\x00\\x00\\x00\\x00\\x00\\x00\\x00\\x00\\x00\\x00\\x00\\x00\\x00\\x00\\x00\\x00\\x00\\x00\\x00\\x00\\x00\\x00@\\x00\\x00\\x00\\x00\\x00\\x00\\x00\\x00\\x00\\x00\\x00\\x00\\x00\\xc0e@\\x00\\x00\\x00\\x00\\x00\\x00h@\\x00\\x00\\x00\\x00\\x00\\x00\\x00\\x00\\x00\\x00\\x00\\x00\\x00\\x00\\x00\\x00\\x00\\x00\\x00\\x00\\x00\\x00\\x00\\x00ffffff\\xe6?\\x00\\x00\\x00\\x00\\x00\\x00\\xf0?\\x00\\x00\\x00\\x00\\x00\\x00\\xf0?\\x00\\x00\\x00\\x00\\x00\\x00\\x00\\x00\\x00\\x00\\x00\\x00\\x00\\x00\\x00\\x00\\x00\\x00\\x00\\x00\\x00\\x00\\x08@\\x00\\x00\\x00\\x00\\x00\\x00\\x08@\\xa5shape\\x92\\x0c\\x02\\xa5dtype\\xa7float64\\xa5klass\\xaaFloatBlock\\xa8compress\\xc0\\x86\\xa4locs\\x86\\xa3typ\\xa7ndarray\\xa5shape\\x91\\x01\\xa4ndim\\x01\\xa5dtype\\xa5int64\\xa4data\\xd7\\x00\\x0c\\x00\\x00\\x00\\x00\\x00\\x00\\x00\\xa8compress\\xc0\\xa6values\\xd5\\x00\\x00\\x00\\xa5shape\\x92\\x01\\x02\\xa5dtype\\xa4bool\\xa5klass\\xa9BoolBlock\\xa8compress\\xc0'\u001b[0m\u001b[1;33m)\u001b[0m\u001b[1;33m\u001b[0m\u001b[1;33m\u001b[0m\u001b[0m\n\u001b[0m\u001b[0;32m      8\u001b[0m \u001b[0mpd\u001b[0m\u001b[1;33m.\u001b[0m\u001b[0mtesting\u001b[0m\u001b[1;33m.\u001b[0m\u001b[0massert_frame_equal\u001b[0m\u001b[1;33m(\u001b[0m\u001b[0mcreate_split\u001b[0m\u001b[1;33m(\u001b[0m\u001b[0mdf\u001b[0m\u001b[1;33m,\u001b[0m \u001b[1;34m'age'\u001b[0m\u001b[1;33m)\u001b[0m\u001b[1;33m[\u001b[0m\u001b[1;36m34\u001b[0m\u001b[1;33m]\u001b[0m\u001b[1;33m,\u001b[0m \u001b[0msolution\u001b[0m\u001b[1;33m)\u001b[0m\u001b[1;33m\u001b[0m\u001b[1;33m\u001b[0m\u001b[0m\n",
      "\u001b[1;31mNameError\u001b[0m: name 'pd' is not defined"
     ]
    }
   ],
   "source": [
    "def create_split(df, m):\n",
    "    ### BEGIN SOLUTION\n",
    "    uvs = unique_values(df, m)\n",
    "    return {uv: df[df[m] == uv].drop(m, axis=1) for uv in uvs}\n",
    "    ### END SOLUTION\n",
    "\n",
    "solution = pd.read_msgpack(b'\\x84\\xa3typ\\xadblock_manager\\xa5klass\\xa9DataFrame\\xa4axes\\x92\\x86\\xa3typ\\xa5index\\xa5klass\\xa5Index\\xa4name\\xc0\\xa5dtype\\xa6object\\xa4data\\x9d\\xa3sex\\xa2cp\\xa8trestbps\\xa4chol\\xa3fbs\\xa7restecg\\xa7thalach\\xa5exang\\xa7oldpeak\\xa5slope\\xa2ca\\xa4thal\\xa3num\\xa8compress\\xc0\\x86\\xa3typ\\xa5index\\xa5klass\\xaaInt64Index\\xa4name\\xc0\\xa5dtype\\xa5int64\\xa4data\\xd8\\x00\\xce\\x02\\x00\\x00\\x00\\x00\\x00\\x00J\\x03\\x00\\x00\\x00\\x00\\x00\\x00\\xa8compress\\xc0\\xa6blocks\\x92\\x86\\xa4locs\\x86\\xa3typ\\xa7ndarray\\xa5shape\\x91\\x0c\\xa4ndim\\x01\\xa5dtype\\xa5int64\\xa4data\\xc7`\\x00\\x00\\x00\\x00\\x00\\x00\\x00\\x00\\x00\\x01\\x00\\x00\\x00\\x00\\x00\\x00\\x00\\x02\\x00\\x00\\x00\\x00\\x00\\x00\\x00\\x03\\x00\\x00\\x00\\x00\\x00\\x00\\x00\\x04\\x00\\x00\\x00\\x00\\x00\\x00\\x00\\x05\\x00\\x00\\x00\\x00\\x00\\x00\\x00\\x06\\x00\\x00\\x00\\x00\\x00\\x00\\x00\\x07\\x00\\x00\\x00\\x00\\x00\\x00\\x00\\x08\\x00\\x00\\x00\\x00\\x00\\x00\\x00\\t\\x00\\x00\\x00\\x00\\x00\\x00\\x00\\n\\x00\\x00\\x00\\x00\\x00\\x00\\x00\\x0b\\x00\\x00\\x00\\x00\\x00\\x00\\x00\\xa8compress\\xc0\\xa6values\\xc7\\xc0\\x00\\x00\\x00\\x00\\x00\\x00\\x00\\xf0?\\x00\\x00\\x00\\x00\\x00\\x00\\x00\\x00\\x00\\x00\\x00\\x00\\x00\\x00\\xf0?\\x00\\x00\\x00\\x00\\x00\\x00\\x00@\\x00\\x00\\x00\\x00\\x00\\x80]@\\x00\\x00\\x00\\x00\\x00\\x80]@\\x00\\x00\\x00\\x00\\x00\\xc0f@\\x00\\x00\\x00\\x00\\x00@j@\\x00\\x00\\x00\\x00\\x00\\x00\\x00\\x00\\x00\\x00\\x00\\x00\\x00\\x00\\x00\\x00\\x00\\x00\\x00\\x00\\x00\\x00\\x00@\\x00\\x00\\x00\\x00\\x00\\x00\\x00\\x00\\x00\\x00\\x00\\x00\\x00\\xc0e@\\x00\\x00\\x00\\x00\\x00\\x00h@\\x00\\x00\\x00\\x00\\x00\\x00\\x00\\x00\\x00\\x00\\x00\\x00\\x00\\x00\\x00\\x00\\x00\\x00\\x00\\x00\\x00\\x00\\x00\\x00ffffff\\xe6?\\x00\\x00\\x00\\x00\\x00\\x00\\xf0?\\x00\\x00\\x00\\x00\\x00\\x00\\xf0?\\x00\\x00\\x00\\x00\\x00\\x00\\x00\\x00\\x00\\x00\\x00\\x00\\x00\\x00\\x00\\x00\\x00\\x00\\x00\\x00\\x00\\x00\\x08@\\x00\\x00\\x00\\x00\\x00\\x00\\x08@\\xa5shape\\x92\\x0c\\x02\\xa5dtype\\xa7float64\\xa5klass\\xaaFloatBlock\\xa8compress\\xc0\\x86\\xa4locs\\x86\\xa3typ\\xa7ndarray\\xa5shape\\x91\\x01\\xa4ndim\\x01\\xa5dtype\\xa5int64\\xa4data\\xd7\\x00\\x0c\\x00\\x00\\x00\\x00\\x00\\x00\\x00\\xa8compress\\xc0\\xa6values\\xd5\\x00\\x00\\x00\\xa5shape\\x92\\x01\\x02\\xa5dtype\\xa4bool\\xa5klass\\xa9BoolBlock\\xa8compress\\xc0')\n",
    "pd.testing.assert_frame_equal(create_split(df, 'age')[34], solution)"
   ]
  },
  {
   "cell_type": "markdown",
   "metadata": {},
   "source": [
    "## Entropy [3 pts]\n",
    "There quite a few different definitions of what entropy is; all of them relate to the notion of chaos / order in a system, but the exact definition strongly depends on the context in which the term is used. Most commonly the term refers to thermodynamic entropy, where it is the describes the number possible configurations a thermodynamic system can have in a specific state. This is related to the idea of a universal entropy, as used in Asimov's classic short story [The Last Question](http://multivax.com/last_question.html). For decision trees we need the information theoretic entropy, or Shannon entropy, which says something about the amount of information contained in a distribution of data. The more ordered or one-sided the distribution is, the less bits we would need on average to express the exact distribution.\n",
    "\n",
    "We will use this measure of entropy to compare the results of decision tree splits to see which is the \"most informative\". For the heart disease problem there are now only 2 class labels we are considering, `True` if *vascular narrowing >= 50% diameter* and `False` otherwise. For a 2 class problem, the entropy is defined as:\n",
    "\n",
    "(3.1) $$\\phi(p) = −p\\ log_2(p) − (1 − p)\\ log_2(1 − p)$$\n",
    "\n",
    "where $p$ is the ratio between between the labels for class 1 and class 2. \n",
    "\n",
    "First, write a `ratio` function to compute $p$. The function should, given a list of boolean values as class labels, return the ratio of `True` labels in the list, e.g. $1.0$ would indicate the list only contained `True`."
   ]
  },
  {
   "cell_type": "code",
   "execution_count": 24,
   "metadata": {},
   "outputs": [],
   "source": [
    "def ratio(labels):\n",
    "    ### BEGIN SOLUTION\n",
    "    return sum(labels) / len(labels)\n",
    "    ### END SOLUTION"
   ]
  },
  {
   "cell_type": "markdown",
   "metadata": {},
   "source": [
    "Now lets assume that $p=0$; meaning there are no labels that equal `True`. The computation of $-0\\ log_2(0)$ would then (correctly) result in a math error, however this could also just be defined as having the value $0$ (as it is multiplied by $0$). \n",
    "\n",
    "Write the function `entropy_sub` to compute the value of the log product ($-p\\ log_2(p)$), making sure to return $0$ in the case that $p = 0$. Combine `ratio` and `entropy_sub` to compute the `entropy` of a list of boolean class labels (equation 3.1)."
   ]
  },
  {
   "cell_type": "code",
   "execution_count": 25,
   "metadata": {},
   "outputs": [],
   "source": [
    "import math\n",
    "\n",
    "def entropy_sub(p):\n",
    "    ### BEGIN SOLUTION\n",
    "    return -1 * p * math.log(p, 2) if p != 0 else 0\n",
    "    ### END SOLUTION\n",
    "\n",
    "def entropy(labels):\n",
    "    ### BEGIN SOLUTION\n",
    "    p = ratio(labels)\n",
    "    return entropy_sub(p) + entropy_sub(1 - p)\n",
    "    ### END SOLUTION"
   ]
  },
  {
   "cell_type": "markdown",
   "metadata": {},
   "source": [
    "Write a `plot_entropy` function to check whether the entropy function works correctly. This function should create many different lists of boolean labels of length N and compute ratio and entropy for each of these lists. Note that for a list of booleans of length 𝑁, there are only 𝑁+1 different possible ratios of labels you need to create. The x-axis of your plot should show the ratios and the y-axis their resulting entropies, which should produce a graph like Figure 3.2 in Mitchell. Show this plot at the end of your code and make sure it looks correct."
   ]
  },
  {
   "cell_type": "code",
   "execution_count": 26,
   "metadata": {},
   "outputs": [
    {
     "data": {
      "text/plain": [
       "<Figure size 640x480 with 1 Axes>"
      ]
     },
     "metadata": {},
     "output_type": "display_data"
    }
   ],
   "source": [
    "import matplotlib.pyplot as plt\n",
    "\n",
    "def plot_entropy(N):\n",
    "    ### BEGIN SOLUTION\n",
    "    rat, ent = [], []\n",
    "    \n",
    "    for i in range(N + 1):\n",
    "        labels = i * [True] + (N - i) * [False]\n",
    "        rat.append(ratio(labels))\n",
    "        ent.append(entropy(labels))\n",
    "        \n",
    "    plt.plot(rat, ent)\n",
    "    plt.show()\n",
    "    \n",
    "plot_entropy(50)\n",
    "### END SOLUTION"
   ]
  },
  {
   "cell_type": "markdown",
   "metadata": {},
   "source": [
    "## Information gain [3 pts]\n",
    "There are several metrics we can use to asses how good a split is in a decision tree. For this implemenation we will use the *Information Gain*, which is defined as the entropy of the original distribution $\\phi(p)$, minus the entropy of the split distribution $I_m$ resulting from the split on variable $m$.\n",
    "\n",
    "(3.4a) $$IG_m = \\phi(p) - I_m$$\n",
    "\n",
    "Information Gain measures how much the entropy changes from making a specific split, i.e. the gain in predictablity of the data as a result of making a distribution based on a specific variable. When a set of target labels is split on a variable $m$, two or more new lists are created, each with their own entropy. Combining the resulting entropies from a split into $s$ new sets is a simple weighted sum:\n",
    "\n",
    "(3.4b) $$I_m = \\sum_{j=1}^s \\frac{N_j}{N} \\phi(p_j)$$\n",
    "\n",
    "where $N_j$ is the size of the $j^{th}$ split distribution, $p_j$ is the ratio of the target labels for that same $j^{th}$ distribution and $N$ is the size of the distribution before the split. \n",
    "\n",
    "Write the function `split_entropy` to compute $I_m$ for some list of target labels and a given `N`. The `split_labels` argument is a list containing $s$ different lists, each containing the target labels for one part of the split."
   ]
  },
  {
   "cell_type": "code",
   "execution_count": 31,
   "metadata": {},
   "outputs": [
    {
     "name": "stdout",
     "output_type": "stream",
     "text": [
      "0.603759374819711\n"
     ]
    }
   ],
   "source": [
    "def split_entropy(split_labels, N):\n",
    "    ### BEGIN SOLUTION\n",
    "    return sum([len(labels) / N * entropy(labels) for labels in split_labels])\n",
    "    ### END SOLUTION\n",
    "print(split_entropy([[True,False,False,True],[False,False,False,False],[True,False,False,False]],12))"
   ]
  },
  {
   "cell_type": "markdown",
   "metadata": {},
   "source": [
    "Currently, our function `create_split` returns a dictionary where the keys are the unique entries present in the column chosen and the values are dataframes that contain the rows that have those unique entries. However, the function `split_entropy` expects a list wherein each element is a list of target labels.\n",
    "\n",
    "Write the function `get_split_labels` that accepts a `split` dictionary and `target` (the name of the column that contains the labels) and returns the `split_labels`. This returned list of lists should be of the same format as before, so it can be used directly as input for the `split_entropy` function."
   ]
  },
  {
   "cell_type": "code",
   "execution_count": 32,
   "metadata": {},
   "outputs": [
    {
     "name": "stdout",
     "output_type": "stream",
     "text": [
      "50\n",
      "[748    False\n",
      "839    False\n",
      "Name: num, dtype: bool, 739    False\n",
      "780    False\n",
      "812     True\n",
      "863     True\n",
      "Name: num, dtype: bool, 777    False\n",
      "Name: num, dtype: bool, 766    False\n",
      "768    False\n",
      "Name: num, dtype: bool, 697    False\n",
      "Name: num, dtype: bool, 667    False\n",
      "761    False\n",
      "833    False\n",
      "Name: num, dtype: bool, 873    False\n",
      "Name: num, dtype: bool, 710    False\n",
      "722    False\n",
      "762     True\n",
      "793    False\n",
      "838    False\n",
      "841     True\n",
      "Name: num, dtype: bool, 633     True\n",
      "637    False\n",
      "646     True\n",
      "663    False\n",
      "674     True\n",
      "690     True\n",
      "691     True\n",
      "713     True\n",
      "720    False\n",
      "744     True\n",
      "779    False\n",
      "817    False\n",
      "821    False\n",
      "845     True\n",
      "857    False\n",
      "864     True\n",
      "867    False\n",
      "897     True\n",
      "915     True\n",
      "Name: num, dtype: bool, 662     True\n",
      "669     True\n",
      "764    False\n",
      "786    False\n",
      "831     True\n",
      "837    False\n",
      "843    False\n",
      "846     True\n",
      "890    False\n",
      "Name: num, dtype: bool, 902    True\n",
      "Name: num, dtype: bool, 717    False\n",
      "769    False\n",
      "871    False\n",
      "Name: num, dtype: bool, 648    True\n",
      "Name: num, dtype: bool, 718    False\n",
      "726     True\n",
      "729    False\n",
      "776    False\n",
      "842    False\n",
      "849     True\n",
      "877    False\n",
      "Name: num, dtype: bool, 28      True\n",
      "619     True\n",
      "622    False\n",
      "624    False\n",
      "630    False\n",
      "639     True\n",
      "642    False\n",
      "643    False\n",
      "653     True\n",
      "668    False\n",
      "681     True\n",
      "689     True\n",
      "701    False\n",
      "707    False\n",
      "721     True\n",
      "725     True\n",
      "745    False\n",
      "747    False\n",
      "754     True\n",
      "755     True\n",
      "771     True\n",
      "803    False\n",
      "811    False\n",
      "815    False\n",
      "827    False\n",
      "828     True\n",
      "832    False\n",
      "850    False\n",
      "854     True\n",
      "856    False\n",
      "861    False\n",
      "862     True\n",
      "870    False\n",
      "872    False\n",
      "880    False\n",
      "906    False\n",
      "909     True\n",
      "912    False\n",
      "Name: num, dtype: bool, 716    False\n",
      "751    False\n",
      "852     True\n",
      "900    False\n",
      "Name: num, dtype: bool, 840    True\n",
      "Name: num, dtype: bool, 672     True\n",
      "746    False\n",
      "781    False\n",
      "797     True\n",
      "876     True\n",
      "911     True\n",
      "Name: num, dtype: bool, 675    False\n",
      "676    False\n",
      "688     True\n",
      "693     True\n",
      "728     True\n",
      "756    False\n",
      "760     True\n",
      "774     True\n",
      "778     True\n",
      "865     True\n",
      "Name: num, dtype: bool, 785     True\n",
      "858    False\n",
      "884     True\n",
      "Name: num, dtype: bool, 679     True\n",
      "712     True\n",
      "719    False\n",
      "724     True\n",
      "759    False\n",
      "765    False\n",
      "823     True\n",
      "866    False\n",
      "869    False\n",
      "899     True\n",
      "Name: num, dtype: bool, 807    False\n",
      "Name: num, dtype: bool, 620    False\n",
      "621    False\n",
      "625     True\n",
      "629     True\n",
      "635    False\n",
      "636    False\n",
      "641     True\n",
      "651    False\n",
      "661     True\n",
      "666    False\n",
      "670    False\n",
      "671     True\n",
      "677     True\n",
      "695    False\n",
      "698    False\n",
      "706    False\n",
      "709    False\n",
      "731     True\n",
      "735     True\n",
      "737     True\n",
      "742    False\n",
      "749    False\n",
      "772     True\n",
      "795    False\n",
      "796    False\n",
      "825    False\n",
      "829    False\n",
      "835    False\n",
      "853     True\n",
      "859    False\n",
      "886    False\n",
      "896    False\n",
      "898    False\n",
      "905    False\n",
      "917     True\n",
      "918     True\n",
      "Name: num, dtype: bool, 640     True\n",
      "655     True\n",
      "730     True\n",
      "782    False\n",
      "784    False\n",
      "794     True\n",
      "908    False\n",
      "Name: num, dtype: bool, 715    False\n",
      "798     True\n",
      "855    False\n",
      "860     True\n",
      "891     True\n",
      "Name: num, dtype: bool, 650    False\n",
      "680    False\n",
      "711    False\n",
      "732    False\n",
      "736     True\n",
      "752    False\n",
      "Name: num, dtype: bool, 847    False\n",
      "878     True\n",
      "882     True\n",
      "Name: num, dtype: bool, 703    False\n",
      "705    False\n",
      "734    False\n",
      "741     True\n",
      "810     True\n",
      "814    False\n",
      "834    False\n",
      "836    False\n",
      "881     True\n",
      "894    False\n",
      "Name: num, dtype: bool, 623     True\n",
      "626     True\n",
      "627    False\n",
      "628    False\n",
      "634    False\n",
      "647    False\n",
      "649     True\n",
      "652    False\n",
      "658    False\n",
      "665    False\n",
      "673     True\n",
      "683     True\n",
      "694    False\n",
      "699    False\n",
      "702    False\n",
      "723     True\n",
      "733    False\n",
      "740     True\n",
      "750    False\n",
      "757    False\n",
      "773     True\n",
      "775     True\n",
      "790    False\n",
      "802    False\n",
      "806     True\n",
      "808     True\n",
      "820    False\n",
      "874    False\n",
      "887     True\n",
      "889     True\n",
      "910     True\n",
      "914     True\n",
      "Name: num, dtype: bool, 678    False\n",
      "788    False\n",
      "822     True\n",
      "Name: num, dtype: bool, 824    True\n",
      "916    True\n",
      "Name: num, dtype: bool, 617    False\n",
      "682     True\n",
      "727     True\n",
      "753     True\n",
      "791     True\n",
      "Name: num, dtype: bool, 868     True\n",
      "893    False\n",
      "Name: num, dtype: bool, 799    False\n",
      "901     True\n",
      "Name: num, dtype: bool, 405     True\n",
      "632    False\n",
      "638    False\n",
      "644    False\n",
      "645    False\n",
      "654     True\n",
      "656    False\n",
      "657     True\n",
      "660    False\n",
      "664     True\n",
      "684    False\n",
      "686     True\n",
      "696     True\n",
      "714     True\n",
      "738     True\n",
      "819    False\n",
      "826     True\n",
      "879    False\n",
      "Name: num, dtype: bool, 767    False\n",
      "792     True\n",
      "844    False\n",
      "885     True\n",
      "907     True\n",
      "Name: num, dtype: bool, 895    True\n",
      "Name: num, dtype: bool, 687    False\n",
      "Name: num, dtype: bool, 875    False\n",
      "Name: num, dtype: bool, 801    True\n",
      "Name: num, dtype: bool, 618     True\n",
      "659    False\n",
      "692    False\n",
      "708     True\n",
      "770     True\n",
      "787     True\n",
      "804     True\n",
      "813    False\n",
      "816     True\n",
      "851    False\n",
      "888    False\n",
      "Name: num, dtype: bool, 913    True\n",
      "Name: num, dtype: bool, 763    True\n",
      "Name: num, dtype: bool, 685     True\n",
      "758     True\n",
      "892    False\n",
      "903     True\n",
      "Name: num, dtype: bool, 631    False\n",
      "Name: num, dtype: bool, 789    True\n",
      "Name: num, dtype: bool, 800    False\n",
      "830     True\n",
      "Name: num, dtype: bool, 700     True\n",
      "818    False\n",
      "848     True\n",
      "Name: num, dtype: bool, 805    True\n",
      "Name: num, dtype: bool, 743    True\n",
      "Name: num, dtype: bool]\n",
      "50\n"
     ]
    }
   ],
   "source": [
    "def get_split_labels(split, target):\n",
    "    ### BEGIN SOLUTION\n",
    "    return [df[target] for df in split.values()]\n",
    "    ### END SOLUTION\n",
    "    \n",
    "print(len(unique_values(df, 'trestbps')))\n",
    "print(get_split_labels(create_split(df,'trestbps'),target))\n",
    "print(len(get_split_labels(create_split(df,'trestbps'),target)))\n"
   ]
  },
  {
   "cell_type": "markdown",
   "metadata": {},
   "source": [
    "Write the `information_gain` function using your earlier functions `entropy` and `split_entropy`. Assume `split_labels` is a list containing $s$ different lists, each containing the target labels from one of each  of the splits. Remember that one split exists of all of the grouped unique values in a column of our data, thus, the total number of target labels given to this function is $N$ and the combination of all labels is $p$. You can use `pd.concat` to \"glue\" the different Series-objects together to compute $p$ directly."
   ]
  },
  {
   "cell_type": "code",
   "execution_count": 34,
   "metadata": {},
   "outputs": [
    {
     "data": {
      "text/plain": [
       "0.14199346662874135"
      ]
     },
     "execution_count": 34,
     "metadata": {},
     "output_type": "execute_result"
    }
   ],
   "source": [
    "def information_gain(split_labels):\n",
    "    ### BEGIN SOLUTION\n",
    "    p = pd.concat(split_labels)\n",
    "    N = len(p)\n",
    "    \n",
    "    return entropy(p) - split_entropy(split_labels, N)\n",
    "    ### END SOLUTION\n",
    "    \n",
    "information_gain(get_split_labels(create_split(df,'trestbps'),target))\n"
   ]
  },
  {
   "cell_type": "markdown",
   "metadata": {},
   "source": [
    "Below, we have created two assertions that check whether your functions were implemented correctly. \n",
    "\n",
    "**Explain why these assertions work.**\n",
    "\n",
    "YOUR ANSWER HERE"
   ]
  },
  {
   "cell_type": "code",
   "execution_count": 30,
   "metadata": {},
   "outputs": [
    {
     "name": "stdout",
     "output_type": "stream",
     "text": [
      "0.996438783594274\n",
      "0.996438783594274\n"
     ]
    }
   ],
   "source": [
    "# We create a copy, because we remove the target in create_split, while it is needed for split_labels\n",
    "test_df = df.copy()\n",
    "target_copy = target + '_copy'\n",
    "test_df[target_copy] = test_df[target]\n",
    "\n",
    "split = create_split(test_df, target_copy)\n",
    "split_labels = get_split_labels(split, target)\n",
    "\n",
    "print(entropy(test_df[target].tolist()))\n",
    "print(information_gain(split_labels))\n",
    "\n",
    "assert entropy(test_df[target].tolist()) == information_gain(split_labels)\n",
    "assert split_entropy(split_labels, len(test_df)) == 0.0"
   ]
  },
  {
   "cell_type": "markdown",
   "metadata": {},
   "source": [
    " "
   ]
  },
  {
   "cell_type": "markdown",
   "metadata": {},
   "source": [
    "## ID3\n",
    "\n",
    "So far, we have determined the total purity of the dataset (entropy), and created the functions that enable us to determine what column of our data is the most informative (Information Gain). That leads us to the introduction of the *ID3* algorithm introduced by Ross Quinlan in 1986. This algorithm can be used to create a categorical decision tree through a process of greedy iterations. Reread table 3.1 in Mitchell's 'Machine Learning', containing the pseudo-code for the algorithm.\n",
    "\n",
    "Our version of the *ID3* algorithm can be described as follows:\n",
    "\n",
    "1. *If the current dataset is pure (all rows have the same label), return the pure label.* Use the `unique_value` function for this.\n",
    "2. *If there are no more possible columns to split; return the most common label.*\n",
    "3. *Calculate the Information Gain of each possible split in the dataset.* First create splits for each of the columns in the dataset (except for the target column), then extract the label lists for each of these splits and use these to calculate the Information Gain of that split.\n",
    "4. *Pick the split with the largest Information Gain.*\n",
    "5. *Create a Node for this new/current branch of the tree.*\n",
    "6. *For each of the sub-datasets in the split, create a sub-tree (recursively call `ID3` with the sub-dataset) and use the sub-tree result as the branches of the tree created in step 5.*\n",
    "7. *Return the complete tree.*\n",
    "\n",
    "We have also provided you with a [namedtuple](https://docs.python.org/3/library/collections.html#collections.namedtuple) `Node` that can hold the name of the selected split column; `column_name`, the most common label in this node; `mode`, and a dictionary mapping to results of the split; `branches`, wherein the key is each of the 'unique values' possible, and the values are the result of the algorithm on the data available for that unique value.\n"
   ]
  },
  {
   "cell_type": "code",
   "execution_count": 30,
   "metadata": {},
   "outputs": [],
   "source": [
    "from collections import namedtuple\n",
    "\n",
    "Node = namedtuple('Node', ['column_name',  'mode', 'branches'])"
   ]
  },
  {
   "cell_type": "markdown",
   "metadata": {},
   "source": [
    "### Example\n",
    "\n",
    "Lets take a look at an example before we start writing out the complete algorithm. Say we have the following data set and want to classify on the target column *Vegetable*:\n",
    "\n",
    "|&nbsp;         | Color  | Pits  | Vegetable |\n",
    "|---------------|--------|-------|-----------|\n",
    "| **Broccoli**  | Green  | False | True      |\n",
    "| **Pear**      | Green  | True  | False     |\n",
    "| **Strawberry**| Red    | False | False     |\n",
    "| **Zucchini**  | Green  | False | True      |\n",
    "| **Orange**    | Orange | True  | False     |\n",
    "\n",
    "\n",
    "We won't bother with computing the exact Information Gain here, but looking at the 2 possible columns and the distribution of the target column *Vegetable*, you might conclude that *Color* would be a good variable to split on.\n",
    "\n",
    "We can use the [*namedtuple*](https://docs.python.org/3/library/collections.html#collections.namedtuple) to create a `Node` in our Decision Tree and have it store all the relevant information at that level of the tree. The `column_name` to split on has already been chosen to be *Color* and the `mode` is the most common label of the target column in this node, so this would be *False*, as there are currently more fruits than vegetables in our data set. The `branches` would start out by just being the result of the `create_split` function, meaning there would be 3 new data frames, one for each *Color*. The whole `Node` would then look something like \n",
    "\n",
    "    Node(column_name='Color', mode=False, branches={\n",
    "    \n",
    "            'Green': \n",
    "\n",
    "|&nbsp;         | Pits  | Vegetable |\n",
    "|---------------|-------|-----------|\n",
    "| **Broccoli**  | False | True      |\n",
    "| **Pear**      | True  | False     |\n",
    "| **Zucchini**  | False | True      |\n",
    "\n",
    "            'Orange':\n",
    "            \n",
    "|&nbsp;         | Pits  | Vegetable |\n",
    "|---------------|-------|-----------|\n",
    "| **Orange**    | True  | False     |\n",
    "\n",
    "            'Red':\n",
    "\n",
    "|&nbsp;         | Pits  | Vegetable |\n",
    "|---------------|-------|-----------|\n",
    "| **Strawberry**| False | False     |\n",
    "            \n",
    "            })\n",
    "    \n",
    "However, this is of course only 1 split of our data. The crucial step in the *ID3* algorithm is step **6**; recursively create the sub-trees. So we want to split each of these data sets again and if those produce new branches, we split those further *again*, etc. This is what creates the actual tree structure, the recursive splitting into nodes, each with new branches.\n",
    "\n",
    "As you hopefully remember from your first year, all recursions need base cases and that is what steps **1 and 2** are for. The *leaf nodes* are reached when we've already perfectly split the data or no more splits are possible, and in those cases we just return the predicted label. The whole purpose of the tree structure is to predict a label for the target column. So when we reach the end of some path in the Decision Tree, all we really care about is what the predicted target label would be at that leaf in the tree, and so that is the only information we will need to store there.\n",
    "\n",
    "Combining these steps, *any* branch in a `Node` should always point to another `Node` or the predicted label for that point in the tree. This means the example structure above, containing 3 data frames, would never actually be returned by the algorithm, as the recursive step to split each frame down to *leaf nodes* is still missing. The result of that would look something like\n",
    "\n",
    "    Node(column='Color', mode=False, branches={\n",
    "    \n",
    "        'Green': Node(column='Pits', mode=True, branches={\n",
    "                \n",
    "                    False: True, \n",
    "\n",
    "                    True: False}),\n",
    "\n",
    "        'Orange': False,\n",
    "        \n",
    "        'Red': False})\n",
    "\n",
    "Note that each terminal value (i.e. leaf node) is now either *True* or *False*, indicating the predicted label for the *Vegetable* column at that point in the tree. If we try and interpret this tree, there is only 1 case where it would predict that something is indeed a vegetable; when it is both *Green* and has *No Pits*. In all other cases this tree would predict it to be a fruit. Verify both the constructed tree and the resulting interpreted rule before moving on to implementation.\n",
    "\n",
    "### Implementation [7 pts]\n",
    "\n",
    "Now that we know what the tree structure will look like, lets build the *ID3* algorithm. So far, we have already included step 5 and 7 for you. Step 5 expects the variables `column_name` and `mode` to already be defined by you, in order to create the `Node`, while the branches start out empty.\n",
    "\n",
    "Implement the other steps and see if your code produces that same tree on `test_df`, which contains the vegetable example. Note that the *white space* was added to make the example more readable, so your actual result should look like:\n",
    "\n",
    "    Node(column_name='Color', mode=False, branches={'Green': Node(column_name='Pits', mode=True, branches={False: True, True: False}), 'Orange': False, 'Red': False})\n",
    "\n",
    "For your convenience we will repeat the steps of the _ID3_ algorithm (this is the same text as you can find above):\n",
    "1. *If the current dataset is pure (all rows have the same label), return the pure label.* Use the `unique_value` function for this.\n",
    "2. *If there are no more possible columns to split; return the most common label.* HINT: You can use pandas [`mode()`](https://pandas.pydata.org/pandas-docs/stable/reference/api/pandas.DataFrame.mode.html).\n",
    "3. *Calculate the Information Gain of each possible split in the dataset.* First create splits for each of the columns in the dataset (except for the target column), then extract the label lists for each of these splits and use these to calculate the Information Gain of that split.\n",
    "4. *Pick the split with the largest Information Gain.*\n",
    "5. *Create a Node for this new/current branch of the tree.*\n",
    "6. *For each of the sub-datasets in the split, create a sub-tree (recursively call `ID3` with the sub-dataset) and use the sub-tree result as the branches of the tree created in step 5.*\n",
    "7. *Return the complete tree.*"
   ]
  },
  {
   "cell_type": "code",
   "execution_count": 31,
   "metadata": {},
   "outputs": [
    {
     "name": "stdout",
     "output_type": "stream",
     "text": [
      "Node(column_name='Color', mode=False, branches={'Green': Node(column_name='Pits', mode=True, branches={False: True, True: False}), 'Orange': False, 'Red': False})\n"
     ]
    }
   ],
   "source": [
    "\n",
    "test_df = pd.DataFrame([['Green', False, True], ['Green', True, False], ['Red', False, False],\n",
    "                        ['Green', False, True], ['Orange', True, False]],\n",
    "                       index=['Broccoli', 'Pear', 'Strawberry', 'Zucchini', 'Orange'],\n",
    "                       columns=['Color', 'Pits', 'Vegetable'])\n",
    "                       \n",
    "test_target = 'Vegetable'\n",
    "\n",
    "def ID3(data, target):    \n",
    "    # step 1\n",
    "    ### BEGIN SOLUTION\n",
    "    uv = unique_values(data, target)\n",
    "    if len(uv) == 1:\n",
    "        return uv[0]\n",
    "    ### END SOLUTION\n",
    "\n",
    "    # step 2\n",
    "    ### BEGIN SOLUTION\n",
    "    mode = data[target].mode()[0]\n",
    "    if len(data.columns) == 1:\n",
    "        return mode\n",
    "    ### END SOLUTION\n",
    "    \n",
    "    # step 3\n",
    "    ### BEGIN SOLUTION\n",
    "    splits = [create_split(data, cn) for cn in data.drop(target, axis=1)]\n",
    "    all_split_labels = [get_split_labels(split, target) for split in splits]\n",
    "    IGs = [information_gain(split_labels) for split_labels in all_split_labels]\n",
    "    ### END SOLUTION\n",
    "    \n",
    "    # step 4\n",
    "    ### BEGIN SOLUTION\n",
    "    best_split_index = np.argmax(IGs)\n",
    "    best_split = splits[best_split_index]\n",
    "    column_name = data.columns[best_split_index]\n",
    "    ### END SOLUTION\n",
    "    \n",
    "    # step 5\n",
    "    branches = {}\n",
    "    tree = Node(column_name, mode, branches)\n",
    "    \n",
    "    # step 6\n",
    "    ### BEGIN SOLUTION\n",
    "    for uv, subset in best_split.items():\n",
    "        subtree = ID3(subset, target)\n",
    "        \n",
    "        branches[uv] = subtree\n",
    "    ### END SOLUTION  \n",
    "\n",
    "    # step 7\n",
    "    return tree\n",
    "\n",
    "tree = ID3(test_df, test_target)\n",
    "print(tree)"
   ]
  },
  {
   "cell_type": "markdown",
   "metadata": {},
   "source": [
    "\n",
    "Now that we have built a tree, it is important to realise that this algorithm *does not* search the entire space of possible trees for the best possible decision tree, but instead opts for the step at each node that will make the most progress at that moment. The tree that results from these locally optimal choices might not be globally optimal (although that happens to be the case for this small toy example).\n",
    "\n",
    "## Classify [2 pts]\n",
    "\n",
    "With this complete tree classifying a new data-entry is pretty easy! Implement the `classify` function, which accepts a tree (a variable containing a `Node` representing the root of the tree), and a *single row* of a DataFrame, i.e. a Series. The function should return the predicted target label for that one row of data.\n",
    "\n",
    "Continuing the example from before; we have a new element from that same data set, but we don't yet know if it would be considered a vegetable, so we want to try and use our decision tree to predict if it is, e.g.\n",
    "\n",
    "|&nbsp;         | Color  | Pits  |\n",
    "|---------------|--------|-------|\n",
    "| **Tomato**    | Red    | False |\n",
    "\n",
    "The function should move through the relevant branches down the tree based on the `column_name` at each node and the corresponding value of the row we are trying to predict. There are 3 options at each branch:\n",
    "\n",
    "1. There is another Node attached to this branch, meaning we should continue further down the tree.\n",
    "2. This branch leads to a *leaf node*, meaning we now have a predicted label for the row we can return.\n",
    "3. The value from the column in our row actually does not have corresponding branch in this node. In that case the function should return the most common label in that node.\n"
   ]
  },
  {
   "cell_type": "code",
   "execution_count": 32,
   "metadata": {},
   "outputs": [],
   "source": [
    "def classify(tree, row):\n",
    "    ### BEGIN SOLUTION\n",
    "    while type(tree) is Node:\n",
    "        value = row[tree.column_name]\n",
    "        tree = tree.branches.get(value, tree.mode)\n",
    "        \n",
    "    return tree\n",
    "    ### END SOLUTION\n",
    "\n",
    "test_tomato = pd.Series(['Red', False], index=['Color', 'Pits'])\n",
    "assert not classify(tree, test_tomato), \"Tomato is a fruit!\"\n",
    "\n",
    "test_grape = pd.Series(['Blue', True], index=['Color', 'Pits'])\n",
    "assert not classify(tree, test_grape), \"Grape is a fruit!\""
   ]
  },
  {
   "cell_type": "markdown",
   "metadata": {},
   "source": [
    "Note that the 3rd option can occur as it is possible the categorical value that is being classified was not present in the training set at that point in the tree. This means that even though there are more branches further down the tree, none of them match the row we are trying to classify. Therefore, the best prediction we can possible give for that row, is simply the most common target label that was present in the training set at that node in the tree.\n",
    "\n",
    "It could be the case that we have never seen this categorical value in our training set before at all, as with the grape example above. However, it is also possible that a specific categorical value *did* occur in our training set, but still some nodes *do not* have a branch for that value.\n",
    "\n",
    "**Explain when this might occur and why returning the most common target label is still a valid solution.**\n",
    "\n",
    "YOUR ANSWER HERE"
   ]
  },
  {
   "cell_type": "markdown",
   "metadata": {},
   "source": [
    "## Validation [4 pts]\n",
    "\n",
    "With all these elements complete, we can start applying the *ID3* algorithm on the heart disease data set and see how well it can predict the *Vascular narrowing* based on the other features describing each patient.\n",
    "\n",
    "Before we see the accuracy of our Decision Tree, we need to create a validation split. Split the DataFrame into `train` and `test` using a ratio of $0.7$ with [sklearn's `train_test_split` function](https://scikit-learn.org/stable/modules/generated/sklearn.model_selection.train_test_split.html)."
   ]
  },
  {
   "cell_type": "code",
   "execution_count": 33,
   "metadata": {},
   "outputs": [],
   "source": [
    "from sklearn.model_selection import train_test_split\n",
    "\n",
    "### BEGIN SOLUTION\n",
    "train, test = train_test_split(df, test_size=0.3)\n",
    "### END SOLUTION"
   ]
  },
  {
   "cell_type": "markdown",
   "metadata": {},
   "source": [
    "We will also need to split the train and test DataFrames into categorical and numerical features, using `cat_num_split`. This could be done manually by taking a good look at the description file ([heart-disease.names](https://archive.ics.uci.edu/ml/machine-learning-databases/heart-disease/heart-disease.names)), but it can also be done by counting the amount of unique values present in a column. As an rule of thumb, it is probably unlikely there are more than 10 different categorical values for any one column, while it is seems very likely that there are more than 10 different numerical values for a column present in the data.\n",
    "\n",
    "Use the `unique_values` function from earlier and select the variables that have no more than the `threshold` argument number of unique values as categorical variables and all others as numerical variables. The categorical variables are all whole numbers, so the resulting 2d-array should be of type `int` and the numeric variables array should of type `float`, for which you can use pandas `astype` method. Remember that both dataframes should have the target column.\n",
    "\n",
    "Apply this function to separate out the categorical and numerical features for both the training and the test set."
   ]
  },
  {
   "cell_type": "code",
   "execution_count": 34,
   "metadata": {},
   "outputs": [],
   "source": [
    "def cat_num_split(df, target, threshold=10):\n",
    "    ### BEGIN SOLUTION\n",
    "    cat_columns = [len(unique_values(df, cn)) < threshold for cn in df.columns]\n",
    "    \n",
    "    cat = df.loc[:, cat_columns].astype(int)\n",
    "    cat[target] = df[target]\n",
    "    \n",
    "    num = df.loc[:, np.logical_not(cat_columns)].astype(float)\n",
    "    num[target] = df[target]\n",
    "    \n",
    "    return cat, num\n",
    "    ### END SOLUTION\n",
    "\n",
    "train_cat, train_num = cat_num_split(train, target)\n",
    "test_cat, test_num = cat_num_split(test, target)"
   ]
  },
  {
   "cell_type": "markdown",
   "metadata": {},
   "source": [
    "Finally, write the function `validate` that takes a decision tree, a dataframe of testing sample, and the target column name. It should `classify` all rows in the dataframe using the decision tree and return the percentage of elements that was classified correctly. \n",
    "\n",
    "\n",
    "Create a decision tree fitted to the categorical training data created above. Validate the results by computing both the train and test accuracy using the categorical features of the heart disease data set."
   ]
  },
  {
   "cell_type": "code",
   "execution_count": 35,
   "metadata": {},
   "outputs": [
    {
     "name": "stdout",
     "output_type": "stream",
     "text": [
      "Train accuracy: 0.9330143540669856\n",
      "Test accuracy: 0.8333333333333334\n"
     ]
    }
   ],
   "source": [
    "def validate(tree, df, target):\n",
    "    ### BEGIN SOLUTION\n",
    "    return sum(df.apply(lambda x: classify(tree, x), axis=1) == df[target]) / len(df)\n",
    "\n",
    "tree = ID3(train_cat, target)\n",
    "\n",
    "print(f'Train accuracy: {validate(tree, train_cat, target)}')\n",
    "print(f'Test accuracy: {validate(tree, test_cat, target)}')\n",
    "### END SOLUTION"
   ]
  },
  {
   "cell_type": "markdown",
   "metadata": {},
   "source": [
    "# Numerical Decision Tree [2 pts]\n",
    "\n",
    "Now that our Categorical Decision Tree is done, we will take a look at a Numerical Decision tree. Start by reading section **3.7.2** from Mitchell. As stated there, it is possible to extend the Categorical Decision Tree to also include numerical boundaries. We could then use this to even select the best Information Gain from *both* the categorical *and* the numerical splits at each node.\n",
    "\n",
    "However, for now we will focus a model that can *only* make numerical splits, as that is what the `scikit-learn` library provides straight out of the box: The [DecisionTreeClassifier](https://scikit-learn.org/stable/modules/generated/sklearn.tree.DecisionTreeClassifier.html#sklearn.tree.DecisionTreeClassifier) is a class that can build a decision tree from numerical data, and so we won't have to implement this tree from scratch.\n",
    "\n",
    "The most important difference between categorical and numerical decision trees is the way the data is split. In categorical data, it is easy to split the tree into the $N$ categories that are present in the data. This is impossible to do in numerical data, as there are infinitely many categories. Categorical Decision trees therefore use binary splits or a so called split boundary; where with each split we create one branch with values smaller than the boundary, and one branch with values greater than or equal to the boundary.\n",
    "\n",
    "This boundary for a column can be determined by trying every possible split boundary available for the set of values. This is done by first sorting the samples and then trying every split half way between two neighbouring values that have different labels. This means there can be as many splits as there are samples, and as such this method is computationally very expensive. An alternative, simpler method that is often used, is trying some amount of random splits for a column and picking the best random split among them.\n",
    "\n",
    "Note that repeated binary splits on the same numerical variable be used to create many different \"decision regions\" for the same variable. For example, consider a label where you want a variable to be above or equal to 3.4, but below 4.8. Here you would need two splits; a first split with 3.4 as the boundary and then in the \"greater equal branch\" of that split, another split boundary of 4.8 on that same variable. This means that while the feature that was split on could be ignored in further splits in the case of a Categorical Decision tree, this is not the case for Numerical Decision Trees, and repeated splits on the same variable can actually greatly improve accuracy.\n",
    "\n",
    "Implement a Numerical Tree Classifier using a `sklearn.tree.DecisionTreeClassifier` and its `fit` and `predict` functions.  Train it using the numerical part of the dataset you split out earlier, and print the training and test accuracies (this can easily be done through the `metrics.accuracy_score` method from the `metrics` module). Note that the `fit` function of the classifier requires you to separate the target column from the dataframe and provide the training set as `X` and `y`; you can use `.drop(target, axis=1)` for this, as it returns a new dataframe, but without the target class column."
   ]
  },
  {
   "cell_type": "code",
   "execution_count": 36,
   "metadata": {},
   "outputs": [
    {
     "name": "stdout",
     "output_type": "stream",
     "text": [
      "Train accuracy: 1.0\n",
      "Test accuracy: 0.6333333333333333\n"
     ]
    }
   ],
   "source": [
    "from sklearn.tree import DecisionTreeClassifier\n",
    "from sklearn import metrics\n",
    "\n",
    "### BEGIN SOLUTION\n",
    "clf = DecisionTreeClassifier()\n",
    "\n",
    "clf.fit(train_num.drop(target, axis=1), train_num[target])\n",
    "\n",
    "y_pred = clf.predict(train_num.drop(target, axis=1))\n",
    "print(f'Train accuracy: {metrics.accuracy_score(y_pred, train_num[target])}')\n",
    "\n",
    "y_pred = clf.predict(test_num.drop(target, axis=1))\n",
    "print(f'Test accuracy: {metrics.accuracy_score(y_pred, test_num[target])}')\n",
    "### END SOLUTION"
   ]
  },
  {
   "cell_type": "markdown",
   "metadata": {},
   "source": [
    "The scikit-learn Decision Trees implemenation is specifically intended for numerical features. This might not be immideately obvious, but if we read the documentation on [Decision Trees](https://scikit-learn.org/stable/modules/tree.html#tree-algorithms-id3-c4-5-c5-0-and-cart) and see what algorithms it uses, we find:\n",
    "\n",
    "```scikit-learn uses an optimised version of the CART algorithm; however, scikit-learn implementation does not support categorical variables for now.```\n",
    "\n",
    "Even if it does not actually support catagorical data, you can *still* make this implementation work, provided that you give each category a number. **Note: This is not recommended (discouraged even), as this suggests that there is an ordering (the numerical order) to the categorical data.** For many models, saying category 1 is before category 3, and category 2 is somewhere in between them, can really screw up your predictions.\n",
    "\n",
    "Even though this is not recommended, since our data already has integer numbers for each of the categories we could easily try and see what works. Train a Numerical Tree Classifier using `sklearn.DecisionTreeClassifier` using the categorical data, and print the training and test accuracies. Next, train using the complete training data, i.e. categorical and numerical combined and also report the training and testing accuracies.\n",
    "\n",
    "*Note: the linked page on Decision Trees contains more useful information and hints if you plan to use this model on any projects of your own, so it might be worth reading through.*"
   ]
  },
  {
   "cell_type": "code",
   "execution_count": 37,
   "metadata": {},
   "outputs": [
    {
     "name": "stdout",
     "output_type": "stream",
     "text": [
      "Train accuracy: 0.9330143540669856\n",
      "Test accuracy: 0.8555555555555555\n",
      "Train accuracy: 1.0\n",
      "Test accuracy: 0.7111111111111111\n"
     ]
    }
   ],
   "source": [
    "### BEGIN SOLUTION\n",
    "clf = DecisionTreeClassifier()\n",
    "\n",
    "clf.fit(train_cat.drop(target, axis=1), train_cat[target])\n",
    "\n",
    "y_pred = clf.predict(train_cat.drop(target, axis=1))\n",
    "print(f'Train accuracy: {metrics.accuracy_score(y_pred, train_cat[target])}')\n",
    "\n",
    "y_pred = clf.predict(test_cat.drop(target, axis=1))\n",
    "print(f'Test accuracy: {metrics.accuracy_score(y_pred, test_cat[target])}')\n",
    "\n",
    "clf = DecisionTreeClassifier()\n",
    "\n",
    "clf.fit(train.drop(target, axis=1), train[target])\n",
    "\n",
    "y_pred = clf.predict(train.drop(target, axis=1))\n",
    "print(f'Train accuracy: {metrics.accuracy_score(y_pred, train[target])}')\n",
    "\n",
    "y_pred = clf.predict(test.drop(target, axis=1))\n",
    "print(f'Test accuracy: {metrics.accuracy_score(y_pred, test[target])}')\n",
    "### END SOLUTION"
   ]
  },
  {
   "cell_type": "markdown",
   "metadata": {},
   "source": [
    "## Analysis questions [4 pts]\n",
    "\n",
    "Answer these questions about the results. Chapter 3.5 from Mitchell's 'Machine Learning' might contain some hints. Write your answers below each question in this cell.\n",
    "\n",
    "**Why does the training accuracy for numerical splits become 1.0 (i.e. a perfect fit), but remains lower for categorical splits?**\n",
    "\n",
    "YOUR ANSWER HERE\n",
    "\n",
    "**Explain how it is possible that the testing accuracy using only the categorical variables is higher than the testing accuracy using the categorical and numeric variables combined. What property of the Decision Tree causes this?**\n",
    "\n",
    "YOUR ANSWER HERE\n",
    "\n",
    "**While using categorical data as if it is numerical is generally not recommended, in Decision Trees it doesn't seem as problematic. In fact, we could always reproduce a discrete split using a combination of numeric splits on that same variable. Explain how many splits we would need and what the structure might look like.**\n",
    "\n",
    "YOUR ANSWER HERE\n",
    "\n",
    "**Aside from just being possible, here the results of using the Numerical Decision Tree of scikit-learn actually seem much better on catagorical data than those of an actual Catagorical Decision Tree. Give a hypothesis on what property of the data might cause this and motivate it with a logical argument.**\n",
    "\n",
    "YOUR ANSWER HERE\n"
   ]
  },
  {
   "cell_type": "markdown",
   "metadata": {},
   "source": [
    "## Preventing overfitting [1 pt]\n",
    "\n",
    "As we now know, trees learn by beginning with **the full training set** and greedily adding conditions that maximize each child nodes' label purity. As the tree grows, each node adds another condition resulting in smaller subgroups. In fact, the number of leaf-nodes grows exponentially as we add more depth to the tree and in just a few splits a training set with thousands of examples can be reduced to a set of leaves with sizes around 1-20, which lack statistical validity. Since our implementation will continue separating nodes until they are either pure or no more conditions can be set to further improve purity, it is very probable that we force our tree to overfit.\n",
    "\n",
    "There are several techniques that deal with tree overfitting. It is possible to prune the tree, for example by removing leaves once the tree is complete, or by preventing it from growing as deep in the first place by setting a threshold on the minimum Information Gain. For more detail on this, read section **3.7.1** from Mitchell's 'Machine Learning'.\n",
    "\n",
    "Scikit-learn's [DecisionTreeClassifier](https://scikit-learn.org/stable/modules/generated/sklearn.tree.DecisionTreeClassifier.html#sklearn.tree.DecisionTreeClassifier) has several argument options to help prevent overfitting. Probably the easiest to get started with is `min_samples_split`, which sets what the minimum number of samples in a node should be before it can be split. If a node has less samples than this number, it will not be split further and the predicted label just becomes the most common label at that node.\n",
    "\n",
    "Try several values for `min_samples_split` and give a value that definitely still overfits, that definitely causes underfitting and the value you think gives the best fit on the data. Report the training and testing accuracy for each.\n"
   ]
  },
  {
   "cell_type": "code",
   "execution_count": 47,
   "metadata": {},
   "outputs": [
    {
     "name": "stdout",
     "output_type": "stream",
     "text": [
      "\n",
      "Minimum sample split: 3\n",
      "Train accuracy: 0.9760765550239234\n",
      "Test accuracy: 0.7333333333333333\n",
      "\n",
      "Minimum sample split: 10\n",
      "Train accuracy: 0.9234449760765551\n",
      "Test accuracy: 0.7222222222222222\n",
      "\n",
      "Minimum sample split: 20\n",
      "Train accuracy: 0.8755980861244019\n",
      "Test accuracy: 0.7333333333333333\n",
      "\n",
      "Minimum sample split: 30\n",
      "Train accuracy: 0.8660287081339713\n",
      "Test accuracy: 0.7666666666666667\n",
      "\n",
      "Minimum sample split: 35\n",
      "Train accuracy: 0.861244019138756\n",
      "Test accuracy: 0.7777777777777778\n",
      "\n",
      "Minimum sample split: 40\n",
      "Train accuracy: 0.861244019138756\n",
      "Test accuracy: 0.7777777777777778\n",
      "\n",
      "Minimum sample split: 50\n",
      "Train accuracy: 0.8086124401913876\n",
      "Test accuracy: 0.6888888888888889\n",
      "\n",
      "Minimum sample split: 100\n",
      "Train accuracy: 0.7942583732057417\n",
      "Test accuracy: 0.7\n",
      "\n",
      "Minimum sample split: 300\n",
      "Train accuracy: 0.5358851674641149\n",
      "Test accuracy: 0.5333333333333333\n"
     ]
    }
   ],
   "source": [
    "### BEGIN SOLUTION\n",
    "for minimum_split in [3, 10, 20, 30, 35, 40, 50, 100, 300]:\n",
    "    d_tree = DecisionTreeClassifier(min_samples_split=minimum_split)\n",
    "    d_tree.fit(train.drop(target, axis=1), train[target])\n",
    "    \n",
    "    print('\\nMinimum sample split:', minimum_split)\n",
    "    y_pred = d_tree.predict(train.drop(target, axis=1))\n",
    "    print(f'Train accuracy: {metrics.accuracy_score(y_pred, train[target])}')\n",
    "    \n",
    "    y_pred = d_tree.predict(test.drop(target, axis=1))\n",
    "    print(f'Test accuracy: {metrics.accuracy_score(y_pred, test[target])}')\n",
    "\n",
    "### END SOLUTION"
   ]
  },
  {
   "cell_type": "markdown",
   "metadata": {},
   "source": [
    "**Which minimum split size gives the best fit on the data? Explain why you choose this value.**\n",
    "\n",
    "YOUR ANSWER HERE"
   ]
  },
  {
   "cell_type": "markdown",
   "metadata": {},
   "source": [
    "### Plotting the Decision Tree [1 pt]\n",
    "\n",
    "Sklearn also comes with a tool that can actually plot the whole decision tree. However, plotting the complete tree would be a bit hard to read, as it wouldn't really fit in the figure. We can again use another `DecisionTreeClassifier` argument to limit the size of the tree. Here using `max_depth` makes the most sense, as we want uniformly cut the tree at certain depth for the plot.\n",
    "\n",
    "Fit a decision tree of a limited depth and call it `d_tree`. The code below will already plot it. Make sure it the tree small enough so you can read off the values in the plot. If not, reduce the `max_depth` further."
   ]
  },
  {
   "cell_type": "code",
   "execution_count": 55,
   "metadata": {},
   "outputs": [
    {
     "data": {
      "image/png": "[encoded data removed]",
      "text/plain": [
       "<Figure size 1080x720 with 1 Axes>"
      ]
     },
     "metadata": {
      "needs_background": "light"
     },
     "output_type": "display_data"
    }
   ],
   "source": [
    "from sklearn import tree\n",
    "from matplotlib.pyplot import figure\n",
    "\n",
    "### BEGIN SOLUTION\n",
    "d_tree = DecisionTreeClassifier(max_depth=2)\n",
    "d_tree.fit(train.drop(target, axis=1), train[target])\n",
    "### END SOLUTION\n",
    "\n",
    "figure(figsize=(15, 10))\n",
    "tree.plot_tree(d_tree, feature_names=df.columns.values,\n",
    "               class_names=['Healthy', 'Heart Disease'], impurity=False);"
   ]
  },
  {
   "cell_type": "markdown",
   "metadata": {},
   "source": [
    "**Try to read out the boundaries set in the decision tree. Refer back to the [heart-disease.names](https://archive.ics.uci.edu/ml/machine-learning-databases/heart-disease/heart-disease.names) if you don't know what a variable means. What parameters seem to be the best indicators for heart disease?**\n",
    "\n",
    "YOUR ANSWER HERE\n",
    "\n",
    "**Explain why considering a very reduced version of the tree should still give some insight in the important factors of heart disease.**\n",
    "\n",
    "YOUR ANSWER HERE"
   ]
  },
  {
   "cell_type": "markdown",
   "metadata": {},
   "source": [
    "# Random Forests [4 pts]\n",
    "\n",
    "A method for reducing overfitting that is not discussed in Mitchell's book is the ensemble approach. In an ensemble approach multiple models are trained on (variations of) the original dataset, and then used to give a combined prediction. A commonly used ensemble method for decision trees is Random Forest. The essence of Random Forest classification is to have many decision trees that have all been trained on a random subset of features with randomly drawn sample rows. These decision trees then all predict on unseen samples and a majority vote is used as the final prediciton. This procedure usually leads to better model performance; while the predictions of a single tree are highly sensitive to noise in the training data; the average of many trees trained on very similar data is not.\n",
    "\n",
    "We will be implementing a simple but effective variant Random Forest that creates a small sample of all training data and trains several of scikit's `DecisionTreeClassifier`s on a random subset of features. First, we will need to create the forest. Implement `create_forest` that should accept `n_trees` the number of trees that should be in the forest, and returns a list containing all of the `DecisionTreeClassifier` objects. Check the [docs](https://scikit-learn.org/stable/modules/generated/sklearn.tree.DecisionTreeClassifier.html#sklearn.tree.DecisionTreeClassifier) for a way to change the maximum amount of features used in the tree to the square root of the number of features and use it when creating the classifiers. *This is an easy way to limit the number of features used in the classifier and will help to differentiate all the models learned by each of the trees.*"
   ]
  },
  {
   "cell_type": "code",
   "execution_count": 40,
   "metadata": {},
   "outputs": [],
   "source": [
    "def create_forest(n_trees):\n",
    "    ### BEGIN SOLUTION\n",
    "    return [DecisionTreeClassifier(max_features='auto') for _ in range(n_trees)]\n",
    "    ### END SOLUTION"
   ]
  },
  {
   "cell_type": "markdown",
   "metadata": {},
   "source": [
    "Now implement the function `train_forest` that accepts a `forest` (a list of `DecisionTreeClassifier` objects) and trains each of the trees with `ratio` samples from `data`. *Training each of the trees on different random subsets of the data will also help to differentiate all the models learned by each of the trees.*\n",
    "\n",
    "Hint: use the pandas `sample` method to create your subsets."
   ]
  },
  {
   "cell_type": "code",
   "execution_count": 41,
   "metadata": {},
   "outputs": [],
   "source": [
    "def train_forest(forest, data, target, ratio=0.5):\n",
    "    ### BEGIN SOLUTION\n",
    "    for tree in forest:\n",
    "        temp_data = data.sample(int(len(data) * ratio))\n",
    "        tree.fit(temp_data.drop(target, axis=1), temp_data[target])\n",
    "    ### END SOLUTION"
   ]
  },
  {
   "cell_type": "markdown",
   "metadata": {},
   "source": [
    "Implement the function `predict_forest` that accepts a `forest` and predicts the target label for the passed `data`.\n",
    "\n",
    "Hint: since we only have two possible predictions, `True` and `False`, which are equal to 1 and 0 respectively, we can just add all predictions of all trees together, adding 1 or 0 for each. If we then divide the total prediction by the number of trees, we end up with an 'average vote' that can be rounded to be either 1 or 0; `True` or `False`."
   ]
  },
  {
   "cell_type": "code",
   "execution_count": 42,
   "metadata": {},
   "outputs": [],
   "source": [
    "def predict_forest(forest, data):\n",
    "    ### BEGIN SOLUTION\n",
    "    pred = np.zeros(data.shape[0])\n",
    "    \n",
    "    for tree in forest:\n",
    "        pred += tree.predict(data)\n",
    "        \n",
    "    return (pred / len(forest)) >= 0.5\n",
    "    ### END SOLUTION"
   ]
  },
  {
   "cell_type": "markdown",
   "metadata": {},
   "source": [
    "Now, create a random forest with 1000 trees, each using only 3 or 4 random features ($\\approx \\sqrt{13}$) and train each forest with a 50% random sample of the complete training data. Print out the train and testing accuracy. Does this result improve over using just 1 tree?"
   ]
  },
  {
   "cell_type": "code",
   "execution_count": 43,
   "metadata": {},
   "outputs": [
    {
     "name": "stdout",
     "output_type": "stream",
     "text": [
      "Train accuracy: 1.0\n",
      "Test accuracy: 0.8333333333333334\n"
     ]
    }
   ],
   "source": [
    "### BEGIN SOLUTION\n",
    "n_trees = 1000\n",
    "\n",
    "forest = create_forest(n_trees)\n",
    "\n",
    "train_forest(forest, train, target, 0.5)\n",
    "\n",
    "train_pred = predict_forest(forest, train.drop(target, axis=1))\n",
    "test_pred = predict_forest(forest, test.drop(target, axis=1))\n",
    "\n",
    "print(f'Train accuracy: {metrics.accuracy_score(train_pred, train[target])}')\n",
    "print(f'Test accuracy: {metrics.accuracy_score(test_pred, test[target])}')\n",
    "### END SOLUTION"
   ]
  }
 ],
 "metadata": {
  "kernelspec": {
   "display_name": "Python 3",
   "language": "python",
   "name": "python3"
  },
  "language_info": {
   "codemirror_mode": {
    "name": "ipython",
    "version": 3
   },
   "file_extension": ".py",
   "mimetype": "text/x-python",
   "name": "python",
   "nbconvert_exporter": "python",
   "pygments_lexer": "ipython3",
   "version": "3.7.4"
  }
 },
 "nbformat": 4,
 "nbformat_minor": 2
}
