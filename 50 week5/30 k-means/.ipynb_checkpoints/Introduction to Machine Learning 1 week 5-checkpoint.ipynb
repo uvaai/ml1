{
 "cells": [
  {
   "cell_type": "markdown",
   "metadata": {},
   "source": [
    "# Part 1: K-means \n",
    "First, watch the three provided video's by Andrew Ng.\n",
    "\n",
    "## Implementing the algorithm\n",
    "The goal of *K-means* is to find $k$ clusters, or groups, within a dataset. \n",
    "The pseudo-code for the algorithm to find $k$ clusters, is shown here:\n",
    "\n",
    "* Initialize $m_i$, $i$ = $1$, ... , $k$, for example, to $k$ random $x^t$\n",
    "* Until $m_i$ converges:\n",
    "    * For all $x^t \\in X$\n",
    "        * $b_i^t \\leftarrow \\left\\{\\begin{array}{ll} 1 & if\\ \\Vert x^t − m_i \\Vert \\ =\\ min_j\\ \\Vert x^t − m_j \\Vert\\\\ \n",
    "            0 & otherwise \\\\ \\end{array}\\right.$\n",
    "    * For all $m_i$, $i$ = $1$, ... , $k$\n",
    "        * $m_i \\leftarrow \\sum_t b_i^t x^t / \\sum_t b_i^t$\n",
    "        \n",
    "Or in text:\n",
    "\n",
    "* Initialize the means\n",
    "* While not converged:\n",
    "    * Get the new cluster assignment\n",
    "    * Get the new cluster mean\n",
    "\n",
    "For your code, we will start making **functions** for each of the following components of the k-means algorithm:\n",
    "\n",
    "* `init_clusters`: Randomly initialize means from the data [1 pt]\n",
    "* `distance`: Compute the distance between 2 points [1 pt]\n",
    "* `cluster_assignment`: Compute the matrix $b$ containing the assignments of points to clusters, based on the current means [4 pts]\n",
    "* `compute_means`: Compute the matrix $m$ containing the computed mean vectors, based on the current assignment of clusters [3 pts]\n",
    "* `plot_clusters`: Plot the means (as x's) and their assigned points (as dots), with a different color for each cluster (here you may assume the points will all be 2-dimensional, to allow them to be plotted) [4 pts]\n",
    "* `is_converged`: Determine if the algorithm has converged based on the sets of current and new means. [2 pts]\n",
    "* `kmeans`: Combine all these functions in a general k-means function [3 pts]\n",
    "\n",
    "To test the code, you will be making use of the iris dataset, which is imported in the cell below. "
   ]
  },
  {
   "cell_type": "code",
   "execution_count": 2,
   "metadata": {},
   "outputs": [],
   "source": [
    "%matplotlib inline\n",
    "\n",
    "import math\n",
    "import matplotlib.pylab as plt\n",
    "import numpy as np\n",
    "\n",
    "from sklearn import datasets\n",
    "\n",
    "iris = datasets.load_iris()\n",
    "data = iris.data[:, 2:]"
   ]
  },
  {
   "cell_type": "markdown",
   "metadata": {},
   "source": [
    "### `init_clusters` [1 pt]\n",
    "\n",
    "This function should randomly initialize `k` means from the `data`. You can find your own solution, or use Andrew Ng's solution from the video on \"Random Initialisation\"."
   ]
  },
  {
   "cell_type": "code",
   "execution_count": 3,
   "metadata": {},
   "outputs": [],
   "source": [
    "def init_clusters(data, k):\n",
    "    ### YOUR SOLUTION HERE\n",
    "    return np.random.permutation(data)[:k, :]"
   ]
  },
  {
   "cell_type": "code",
   "execution_count": 4,
   "metadata": {},
   "outputs": [],
   "source": [
    "assert init_clusters(data, 1).shape == (1,2)\n",
    "assert init_clusters(data, 4).shape == (4,2)\n",
    "assert init_clusters([[1,2,3], [3, 2, 1]], 2).shape == (2, 3)"
   ]
  },
  {
   "cell_type": "markdown",
   "metadata": {},
   "source": [
    "### `distance` [1 pt]\n",
    "\n",
    "This function should compute the euclidean distance between 2 $N$-dimensional points `p` and `q`. The euclidean distance $d$ between point $p$ and point $q$ with $N$ dimensions is defined as:\n",
    "\n",
    "$$ d(p,q) = \\sqrt{\\sum^N_{i=1}(p_i - q_i)^2} $$"
   ]
  },
  {
   "cell_type": "code",
   "execution_count": 5,
   "metadata": {},
   "outputs": [],
   "source": [
    "def distance(p, q):\n",
    "    ### YOUR SOLUTION HERE\n",
    "    return math.sqrt(np.sum(np.square(p - q)))"
   ]
  },
  {
   "cell_type": "code",
   "execution_count": 6,
   "metadata": {},
   "outputs": [],
   "source": [
    "assert distance(np.array([3, 3]), np.array([1, 3])) == 2\n",
    "assert distance(np.array([4, 2]), np.array([5, 1])) == math.sqrt(2)\n",
    "assert distance(np.array([1, 2, 3]), np.array([3, 2, 1])) == math.sqrt(8)"
   ]
  },
  {
   "cell_type": "markdown",
   "metadata": {},
   "source": [
    "### `cluster_assignment` [4 pts]\n",
    "Compute the matrix $b$ containing the assignments of `data` to clusters, based on the current cluster `means`. This means that for every `point` in `data`, you should find the nearest cluster `mean`. The output is expected to be in _\"one-hot\"_ format, which means that for 4 datapoints, and 3 cluster means, the output should look like:\n",
    "\n",
    "\\[\\[1, 0, 0\\],\n",
    "  \\[0, 1, 0\\],\n",
    "  \\[0, 1, 0\\],\n",
    "  \\[0, 0, 1\\]\\]\n",
    " \n",
    "This means that point 0 was assigned to cluster 0, point 1 was assigned to cluster 1, point 2 was assigned to cluster 1, and point 3 was assigned to cluster 2. \n",
    "\n",
    "Essentially, we want to have a row for every 'point' in 'data', where every row contains only one \"1\" on the colum that indicates its nearest cluster mean."
   ]
  },
  {
   "cell_type": "code",
   "execution_count": 7,
   "metadata": {},
   "outputs": [],
   "source": [
    "def cluster_assignment(data, means):\n",
    "    ### YOUR SOLUTION HERE\n",
    "    b = np.zeros((data.shape[0], means.shape[0]), dtype=float)\n",
    "    for t, elem in enumerate(data):\n",
    "        b[t][np.argmin([distance(elem, m) for m in means])] = 1\n",
    "    return b"
   ]
  },
  {
   "cell_type": "code",
   "execution_count": 8,
   "metadata": {},
   "outputs": [],
   "source": [
    "means = np.array([[0, 0], [999999, 999999]])\n",
    "\n",
    "assert cluster_assignment(data, means).shape == (len(data), len(means)), \"The output has the incorrect shape. It should have shape (len(data), len(means)).\"\n",
    "assert np.sum(cluster_assignment(data, means), axis=0)[0] == 150, \"Not everything was assigned to cluster 0.\"\n",
    "assert np.allclose(np.ones((len(data), 1)), np.sum(cluster_assignment(data, means), axis=1)), \"There are rows with more than or less than one \\\"1\\\"\"\n",
    "\n",
    "means = np.array([[4.2, 1.3], [5.6, 2.2], [1.7, 0.2], [5.,  1.5], [4.6, 1.4]])\n",
    "\n",
    "assert cluster_assignment(data, means).shape == (len(data), len(means)), \"The output has the incorrect shape. It should have shape (len(data), len(means)).\"\n",
    "assert np.sum(cluster_assignment(data, means)) == 150, \"Not everything was assigned to a cluster.\"\n",
    "assert np.allclose(np.ones((len(data), 1)), np.sum(cluster_assignment(data, means), axis=1)), \"There are rows with more than or less than one \\\"1\\\"\"\n",
    "assert np.allclose(cluster_assignment(data, means), np.array([[0.,0.,1.,0.,0.], [0.,0.,1.,0.,0.], [0.,0.,1.,0.,0.], [0.,0.,1.,0.,0.], [0.,0.,1.,0.,0.], [0.,0.,1.,0.,0.], [0.,0.,1.,0.,0.], [0.,0.,1.,0.,0.], [0.,0.,1.,0.,0.], [0.,0.,1.,0.,0.], [0.,0.,1.,0.,0.], [0.,0.,1.,0.,0.], [0.,0.,1.,0.,0.], [0.,0.,1.,0.,0.], [0.,0.,1.,0.,0.], [0.,0.,1.,0.,0.], [0.,0.,1.,0.,0.], [0.,0.,1.,0.,0.], [0.,0.,1.,0.,0.], [0.,0.,1.,0.,0.], [0.,0.,1.,0.,0.], [0.,0.,1.,0.,0.], [0.,0.,1.,0.,0.], [0.,0.,1.,0.,0.], [0.,0.,1.,0.,0.], [0.,0.,1.,0.,0.], [0.,0.,1.,0.,0.], [0.,0.,1.,0.,0.], [0.,0.,1.,0.,0.], [0.,0.,1.,0.,0.], [0.,0.,1.,0.,0.], [0.,0.,1.,0.,0.], [0.,0.,1.,0.,0.], [0.,0.,1.,0.,0.], [0.,0.,1.,0.,0.], [0.,0.,1.,0.,0.], [0.,0.,1.,0.,0.], [0.,0.,1.,0.,0.], [0.,0.,1.,0.,0.], [0.,0.,1.,0.,0.], [0.,0.,1.,0.,0.], [0.,0.,1.,0.,0.], [0.,0.,1.,0.,0.], [0.,0.,1.,0.,0.], [0.,0.,1.,0.,0.], [0.,0.,1.,0.,0.], [0.,0.,1.,0.,0.], [0.,0.,1.,0.,0.], [0.,0.,1.,0.,0.], [0.,0.,1.,0.,0.], [0.,0.,0.,0.,1.], [0.,0.,0.,0.,1.], [0.,0.,0.,1.,0.], [1.,0.,0.,0.,0.], [0.,0.,0.,0.,1.], [0.,0.,0.,0.,1.], [0.,0.,0.,0.,1.], [1.,0.,0.,0.,0.], [0.,0.,0.,0.,1.], [1.,0.,0.,0.,0.], [1.,0.,0.,0.,0.], [1.,0.,0.,0.,0.], [1.,0.,0.,0.,0.], [0.,0.,0.,0.,1.], [1.,0.,0.,0.,0.], [0.,0.,0.,0.,1.], [0.,0.,0.,0.,1.], [1.,0.,0.,0.,0.], [0.,0.,0.,0.,1.], [1.,0.,0.,0.,0.], [0.,0.,0.,1.,0.], [1.,0.,0.,0.,0.], [0.,0.,0.,1.,0.], [0.,0.,0.,0.,1.], [1.,0.,0.,0.,0.], [0.,0.,0.,0.,1.], [0.,0.,0.,0.,1.], [0.,0.,0.,1.,0.], [0.,0.,0.,0.,1.], [1.,0.,0.,0.,0.], [1.,0.,0.,0.,0.], [1.,0.,0.,0.,0.], [1.,0.,0.,0.,0.], [0.,0.,0.,1.,0.], [0.,0.,0.,0.,1.], [0.,0.,0.,0.,1.], [0.,0.,0.,0.,1.], [1.,0.,0.,0.,0.], [1.,0.,0.,0.,0.], [1.,0.,0.,0.,0.], [1.,0.,0.,0.,0.], [0.,0.,0.,0.,1.], [1.,0.,0.,0.,0.], [1.,0.,0.,0.,0.], [1.,0.,0.,0.,0.], [1.,0.,0.,0.,0.], [1.,0.,0.,0.,0.], [1.,0.,0.,0.,0.], [1.,0.,0.,0.,0.], [1.,0.,0.,0.,0.], [0.,1.,0.,0.,0.], [0.,0.,0.,1.,0.], [0.,1.,0.,0.,0.], [0.,1.,0.,0.,0.], [0.,1.,0.,0.,0.], [0.,1.,0.,0.,0.], [0.,0.,0.,0.,1.], [0.,1.,0.,0.,0.], [0.,1.,0.,0.,0.], [0.,1.,0.,0.,0.], [0.,0.,0.,1.,0.], [0.,1.,0.,0.,0.], [0.,1.,0.,0.,0.], [0.,0.,0.,1.,0.], [0.,1.,0.,0.,0.], [0.,1.,0.,0.,0.], [0.,1.,0.,0.,0.], [0.,1.,0.,0.,0.], [0.,1.,0.,0.,0.], [0.,0.,0.,1.,0.], [0.,1.,0.,0.,0.], [0.,0.,0.,1.,0.], [0.,1.,0.,0.,0.], [0.,0.,0.,1.,0.], [0.,1.,0.,0.,0.], [0.,1.,0.,0.,0.], [0.,0.,0.,1.,0.], [0.,0.,0.,1.,0.], [0.,1.,0.,0.,0.], [0.,1.,0.,0.,0.], [0.,1.,0.,0.,0.], [0.,1.,0.,0.,0.], [0.,1.,0.,0.,0.], [0.,0.,0.,1.,0.], [0.,0.,0.,1.,0.], [0.,1.,0.,0.,0.], [0.,1.,0.,0.,0.], [0.,1.,0.,0.,0.], [0.,0.,0.,1.,0.], [0.,1.,0.,0.,0.], [0.,1.,0.,0.,0.], [0.,1.,0.,0.,0.], [0.,0.,0.,1.,0.], [0.,1.,0.,0.,0.], [0.,1.,0.,0.,0.], [0.,1.,0.,0.,0.], [0.,0.,0.,1.,0.], [0.,1.,0.,0.,0.], [0.,1.,0.,0.,0.], [0.,0.,0.,1.,0.]])), \"Points were not properly assigned to the closest cluster mean.\""
   ]
  },
  {
   "cell_type": "markdown",
   "metadata": {},
   "source": [
    "### `compute_means` [3 pts]\n",
    "Compute the matrix $m$ containing the new computed mean vectors, based on the current assignment of clusters `b`. Use `b` to get all the `points` in `data` that are assigned to one cluster, and average the values to get the new cluster mean.\n",
    "\n",
    "Note that it is possible that there is a cluster with no assigned points. When this is the case, it is impossible to calculate a new mean, so instead, use the value of a random point from `data` as this clusters' mean. This way, the next iteration in the k-means algorithm will assign at least one point to this cluster."
   ]
  },
  {
   "cell_type": "code",
   "execution_count": 82,
   "metadata": {},
   "outputs": [],
   "source": [
    "def compute_means(data, b):\n",
    "    ### YOUR SOLUTION HERE\n",
    "    means = []\n",
    "    for i in range(b.shape[1]):\n",
    "        s = np.sum(b[:, i])\n",
    "        if s == 0:\n",
    "            means.append(init_clusters(data, 1)[0])\n",
    "        else:\n",
    "            means.append(np.sum(data[b[:, i] == 1, :], axis=0) / s)\n",
    "    return np.array(means)"
   ]
  },
  {
   "cell_type": "code",
   "execution_count": 83,
   "metadata": {},
   "outputs": [],
   "source": [
    "assert compute_means(np.array([[1, 3, 0], [0, 2, 3], [1, 0, 1]]), np.array([[1, 0],[1, 0], [0, 1]])).shape == (2, 3), \"The output shape of your function is incorrect.\"\n",
    "assert np.allclose(compute_means(np.array([[1, 3, 0], [0, 2, 3], [1, 0, 1]]), np.array([[1, 0],[1, 0], [0, 1]])), np.array([[0.5, 2.5, 1.5], [1, 0, 1]])), \"The computed means are incorrect.\"\n",
    "\n",
    "b = np.array([[0.,0.,1.,0.,0.], [0.,0.,1.,0.,0.], [0.,0.,1.,0.,0.], [0.,0.,1.,0.,0.], [0.,0.,1.,0.,0.], [0.,0.,1.,0.,0.], [0.,0.,1.,0.,0.], [0.,0.,1.,0.,0.], [0.,0.,1.,0.,0.], [0.,0.,1.,0.,0.], [0.,0.,1.,0.,0.], [0.,0.,1.,0.,0.], [0.,0.,1.,0.,0.], [0.,0.,1.,0.,0.], [0.,0.,1.,0.,0.], [0.,0.,1.,0.,0.], [0.,0.,1.,0.,0.], [0.,0.,1.,0.,0.], [0.,0.,1.,0.,0.], [0.,0.,1.,0.,0.], [0.,0.,1.,0.,0.], [0.,0.,1.,0.,0.], [0.,0.,1.,0.,0.], [0.,0.,1.,0.,0.], [0.,0.,1.,0.,0.], [0.,0.,1.,0.,0.], [0.,0.,1.,0.,0.], [0.,0.,1.,0.,0.], [0.,0.,1.,0.,0.], [0.,0.,1.,0.,0.], [0.,0.,1.,0.,0.], [0.,0.,1.,0.,0.], [0.,0.,1.,0.,0.], [0.,0.,1.,0.,0.], [0.,0.,1.,0.,0.], [0.,0.,1.,0.,0.], [0.,0.,1.,0.,0.], [0.,0.,1.,0.,0.], [0.,0.,1.,0.,0.], [0.,0.,1.,0.,0.], [0.,0.,1.,0.,0.], [0.,0.,1.,0.,0.], [0.,0.,1.,0.,0.], [0.,0.,1.,0.,0.], [0.,0.,1.,0.,0.], [0.,0.,1.,0.,0.], [0.,0.,1.,0.,0.], [0.,0.,1.,0.,0.], [0.,0.,1.,0.,0.], [0.,0.,1.,0.,0.], [0.,0.,0.,0.,1.], [0.,0.,0.,0.,1.], [0.,0.,0.,1.,0.], [1.,0.,0.,0.,0.], [0.,0.,0.,0.,1.], [0.,0.,0.,0.,1.], [0.,0.,0.,0.,1.], [1.,0.,0.,0.,0.], [0.,0.,0.,0.,1.], [1.,0.,0.,0.,0.], [1.,0.,0.,0.,0.], [1.,0.,0.,0.,0.], [1.,0.,0.,0.,0.], [0.,0.,0.,0.,1.], [1.,0.,0.,0.,0.], [0.,0.,0.,0.,1.], [0.,0.,0.,0.,1.], [1.,0.,0.,0.,0.], [0.,0.,0.,0.,1.], [1.,0.,0.,0.,0.], [0.,0.,0.,1.,0.], [1.,0.,0.,0.,0.], [0.,0.,0.,1.,0.], [0.,0.,0.,0.,1.], [1.,0.,0.,0.,0.], [0.,0.,0.,0.,1.], [0.,0.,0.,0.,1.], [0.,0.,0.,1.,0.], [0.,0.,0.,0.,1.], [1.,0.,0.,0.,0.], [1.,0.,0.,0.,0.], [1.,0.,0.,0.,0.], [1.,0.,0.,0.,0.], [0.,0.,0.,1.,0.], [0.,0.,0.,0.,1.], [0.,0.,0.,0.,1.], [0.,0.,0.,0.,1.], [1.,0.,0.,0.,0.], [1.,0.,0.,0.,0.], [1.,0.,0.,0.,0.], [1.,0.,0.,0.,0.], [0.,0.,0.,0.,1.], [1.,0.,0.,0.,0.], [1.,0.,0.,0.,0.], [1.,0.,0.,0.,0.], [1.,0.,0.,0.,0.], [1.,0.,0.,0.,0.], [1.,0.,0.,0.,0.], [1.,0.,0.,0.,0.], [1.,0.,0.,0.,0.], [0.,1.,0.,0.,0.], [0.,0.,0.,1.,0.], [0.,1.,0.,0.,0.], [0.,1.,0.,0.,0.], [0.,1.,0.,0.,0.], [0.,1.,0.,0.,0.], [0.,0.,0.,0.,1.], [0.,1.,0.,0.,0.], [0.,1.,0.,0.,0.], [0.,1.,0.,0.,0.], [0.,0.,0.,1.,0.], [0.,1.,0.,0.,0.], [0.,1.,0.,0.,0.], [0.,0.,0.,1.,0.], [0.,1.,0.,0.,0.], [0.,1.,0.,0.,0.], [0.,1.,0.,0.,0.], [0.,1.,0.,0.,0.], [0.,1.,0.,0.,0.], [0.,0.,0.,1.,0.], [0.,1.,0.,0.,0.], [0.,0.,0.,1.,0.], [0.,1.,0.,0.,0.], [0.,0.,0.,1.,0.], [0.,1.,0.,0.,0.], [0.,1.,0.,0.,0.], [0.,0.,0.,1.,0.], [0.,0.,0.,1.,0.], [0.,1.,0.,0.,0.], [0.,1.,0.,0.,0.], [0.,1.,0.,0.,0.], [0.,1.,0.,0.,0.], [0.,1.,0.,0.,0.], [0.,0.,0.,1.,0.], [0.,0.,0.,1.,0.], [0.,1.,0.,0.,0.], [0.,1.,0.,0.,0.], [0.,1.,0.,0.,0.], [0.,0.,0.,1.,0.], [0.,1.,0.,0.,0.], [0.,1.,0.,0.,0.], [0.,1.,0.,0.,0.], [0.,0.,0.,1.,0.], [0.,1.,0.,0.,0.], [0.,1.,0.,0.,0.], [0.,1.,0.,0.,0.], [0.,0.,0.,1.,0.], [0.,1.,0.,0.,0.], [0.,1.,0.,0.,0.], [0.,0.,0.,1.,0.]])\n",
    "\n",
    "assert np.allclose(compute_means(data, b), np.array([[3.92222222, 1.1962963], [5.79142857, 2.12857143], [1.462, 0.246], [5.00526316, 1.74736842], [4.57368421, 1.45263158]])), \"The computed means are incorrect.\"\n",
    "\n",
    "assert compute_means(np.array([[1, 3, 0], [0, 2, 3], [1, 0, 1]]), np.array([[1, 0],[1, 0], [1, 0]]))[1] in  np.array([[1, 3, 0], [0, 2, 3], [1, 0, 1]]), \"The compute_means function does not properly handle clusters that have no assigned points.\""
   ]
  },
  {
   "cell_type": "markdown",
   "metadata": {},
   "source": [
    "### `plot_clusters` [4 pts]\n",
    "Plot the `means` (as x's) and their assigned points (as dots), with a different color for each cluster (here you may assume the points will all be 2-dimensional, to allow them to be plotted)."
   ]
  },
  {
   "cell_type": "code",
   "execution_count": 26,
   "metadata": {},
   "outputs": [
    {
     "data": {
      "image/png": "[encoded data removed]",
      "text/plain": [
       "<Figure size 432x288 with 1 Axes>"
      ]
     },
     "metadata": {
      "needs_background": "light"
     },
     "output_type": "display_data"
    }
   ],
   "source": [
    "def plot_clusters(data, b, means):\n",
    "    ### YOUR SOLUTION HERE\n",
    "    colors = ['b', 'g', 'r', 'c', 'm', 'y', 'k', 'w']\n",
    "    for i in range(b.shape[1]):\n",
    "        a = b[:, i] == 1\n",
    "        plt.plot(data[a, 0], data[a, 1], '.'+colors[i])\n",
    "    for i in range(means.shape[0]):\n",
    "        plt.plot(means[i, 0], means[i, 1], 'x'+colors[i])\n",
    "    plt.show()\n",
    "    ### END SOLUTION\n",
    "\n",
    "plot_clusters(data, b, means)"
   ]
  },
  {
   "cell_type": "markdown",
   "metadata": {},
   "source": [
    "### `is_converged` [2 pts]\n",
    "Determine if the algorithm has converged based on the sets of `old` and `new` cluster means. "
   ]
  },
  {
   "cell_type": "code",
   "execution_count": 47,
   "metadata": {},
   "outputs": [],
   "source": [
    "def is_converged(old, new):\n",
    "    ### YOUR SOLUTION HERE\n",
    "    return np.allclose(old, new)"
   ]
  },
  {
   "cell_type": "code",
   "execution_count": 48,
   "metadata": {},
   "outputs": [],
   "source": [
    "assert is_converged(np.array([[1, 0]]), np.array([[1, 0]])), \"Incorrect output for two equal mean matrices.\"\n",
    "assert is_converged(np.array([[1, 0, 0], [0, 1, 0]]), np.array([[1, 0, 0], [0, 1, 0]])), \"Incorrect output for two equal mean matrices.\"\n",
    "assert is_converged(means, means), \"Incorrect output for two equal mean matrices.\"\n",
    "assert not is_converged(np.array([[1, 0]]), np.array([[0, 1]])), \"Incorrect output for two unequal mean matrices.\""
   ]
  },
  {
   "cell_type": "markdown",
   "metadata": {},
   "source": [
    "### `kmeans`  [3 pts]\n",
    "Combine all these functions in a general k-means function. Recall the pseudocode we have shown at the start:\n",
    "\n",
    "* Initialize $m_i$, $i$ = $1$, ... , $k$, for example, to $k$ random $x^t$\n",
    "* Until $m_i$ converges\n",
    "    * For all $x^t \\in X$\n",
    "        * $b_i^t \\leftarrow \\left\\{\\begin{array}{ll} 1 & if\\ \\Vert x^t − m_i \\Vert \\ =\\ min_j\\ \\Vert x^t − m_j \\Vert\\\\ \n",
    "            0 & otherwise \\\\ \\end{array}\\right.$\n",
    "    * For all $m_i$, $i$ = $1$, ... , $k$\n",
    "        * $m_i \\leftarrow \\sum_t b_i^t x^t / \\sum_t b_i^t$\n",
    "\n",
    "Or in text:\n",
    "\n",
    "* Initialize the means\n",
    "* While not converged\n",
    "    * Get the new cluster assignment\n",
    "    * Get the new cluster mean\n",
    "    \n",
    "At the end of the function, return the resulting cluster `means`."
   ]
  },
  {
   "cell_type": "code",
   "execution_count": 80,
   "metadata": {},
   "outputs": [],
   "source": [
    "def kmeans(data, k):\n",
    "    ### YOUR SOLUTION HERE\n",
    "    means = init_clusters(data, k)\n",
    "    old_means = means + 1\n",
    "    \n",
    "    while not is_converged(old_means, means):\n",
    "        old_means = means\n",
    "        b = cluster_assignment(data, means)\n",
    "        means = compute_means(data, b)    \n",
    "        \n",
    "    return means"
   ]
  },
  {
   "cell_type": "code",
   "execution_count": 85,
   "metadata": {},
   "outputs": [],
   "source": [
    "assert kmeans(data, 3).shape == (3, data.shape[1]), \"Your output has the incorrect shape.\"\n",
    "assert kmeans(data, 12).shape == (12, data.shape[1]), \"Your output has the incorrect shape.\"\n",
    "assert np.all([mean in np.array([[1, 3, 0], [0, 2, 3], [1, 0, 1]]) for mean in kmeans(np.array([[1, 3, 0], [0, 2, 3], [1, 0, 1]]), 3)]), \"Your function assigns incorrect means\""
   ]
  },
  {
   "cell_type": "markdown",
   "metadata": {},
   "source": [
    "## Showing the results [4pt]\n",
    "\n",
    "To show that your code works, run parts of the algorithm on the Iris dataset using `data`; use $k=3$ and plot the means with their assignments using `plot_clusters`. \n",
    "\n",
    "Start with the random means and then show at least 2 steps (just copy the code from your `kmeans` function), to show the means moving as the algorithm iterates. \n",
    "\n",
    "Finally, show the resulting plot where the means have converged and the algorithm has stopped."
   ]
  },
  {
   "cell_type": "code",
   "execution_count": 87,
   "metadata": {},
   "outputs": [
    {
     "name": "stdout",
     "output_type": "stream",
     "text": [
      "Iteration:  0\n"
     ]
    },
    {
     "data": {
      "image/png": "[encoded data removed]",
      "text/plain": [
       "<Figure size 432x288 with 1 Axes>"
      ]
     },
     "metadata": {
      "needs_background": "light"
     },
     "output_type": "display_data"
    },
    {
     "name": "stdout",
     "output_type": "stream",
     "text": [
      "Iteration:  1\n"
     ]
    },
    {
     "data": {
      "image/png": "[encoded data removed]",
      "text/plain": [
       "<Figure size 432x288 with 1 Axes>"
      ]
     },
     "metadata": {
      "needs_background": "light"
     },
     "output_type": "display_data"
    },
    {
     "name": "stdout",
     "output_type": "stream",
     "text": [
      "Iteration:  2\n"
     ]
    },
    {
     "data": {
      "image/png": "[encoded data removed]",
      "text/plain": [
       "<Figure size 432x288 with 1 Axes>"
      ]
     },
     "metadata": {
      "needs_background": "light"
     },
     "output_type": "display_data"
    },
    {
     "name": "stdout",
     "output_type": "stream",
     "text": [
      "Converged Result\n"
     ]
    },
    {
     "data": {
      "image/png": "[encoded data removed]",
      "text/plain": [
       "<Figure size 432x288 with 1 Axes>"
      ]
     },
     "metadata": {
      "needs_background": "light"
     },
     "output_type": "display_data"
    }
   ],
   "source": [
    "### YOUR SOLUTION HERE\n",
    "means = init_clusters(data, 3)\n",
    "for i in range(3):\n",
    "    print(\"Iteration: \", i)\n",
    "    b = cluster_assignment(data, means)\n",
    "    plot_clusters(data, b, means)\n",
    "    means = compute_means(data, b)\n",
    "    \n",
    "print(\"Converged Result\")\n",
    "means = kmeans(data, 3)\n",
    "b = cluster_assignment(data, means)\n",
    "plot_clusters(data, b, means)"
   ]
  },
  {
   "cell_type": "markdown",
   "metadata": {},
   "source": [
    "# Part 2: elbow method\n",
    "\n",
    "For this dataset we have the benefit that it is possible to see the correct number of clusters (either 2 or 3 clusters). However, even if the number clusters is not known or set before hand, there are ways to solve the clustering problem. One such possbile approach is the *elbow method*. If you have not watched the video on \"Choosing the number of clusters\" from Andrew Ng, please do so before continuing.\n",
    "\n",
    "Now extend your implementation to include the following:\n",
    "\n",
    "* `cost`: Create a sensible cost function that is minimized when steps of the algorithm are done. Use the data and the current values of $b$ and $m$. [2 pts]\n",
    "* `average_cost`: Create a function to compute the converged cost of a specific value of $k$ repeatedly and averaging this. [2 pts]\n",
    "* Compute the average cost for k values $1$ to $10$ and combine them in a plot. Briefly discuss if this plot corresponds with your expectations. [2 pts]"
   ]
  },
  {
   "cell_type": "code",
   "execution_count": 3,
   "metadata": {},
   "outputs": [
    {
     "data": {
      "image/png": "[encoded data removed]",
      "text/plain": [
       "<Figure size 432x288 with 1 Axes>"
      ]
     },
     "metadata": {
      "needs_background": "light"
     },
     "output_type": "display_data"
    }
   ],
   "source": [
    "def cost(data, means, b):\n",
    "    ### YOUR SOLUTION HERE\n",
    "    c = 0\n",
    "    for i in range(means.shape[0]):\n",
    "        c += sum([distance(means[i, :], elem) for elem in data[b[:, i] == 1, :]])\n",
    "    return c\n",
    "\n",
    "def average_cost(data, k, n):\n",
    "    ### YOUR SOLUTION HERE\n",
    "    c = 0\n",
    "    for i in range(n):\n",
    "        m = kmeans(data, k)\n",
    "        b = cluster_assignment(data, m)\n",
    "        c += cost(data, m, b)\n",
    "    return c / n\n",
    "\n",
    "### YOUR SOLUTION HERE\n",
    "k_vals = range(1, 11)\n",
    "c_vals = []\n",
    "for k in k_vals:\n",
    "    c_vals.append(average_cost(data, k, 10))\n",
    "\n",
    "plt.plot(k_vals, c_vals)\n",
    "plt.show()"
   ]
  }
 ],
 "metadata": {
  "kernelspec": {
   "display_name": "Python 3",
   "language": "python",
   "name": "python3"
  },
  "language_info": {
   "codemirror_mode": {
    "name": "ipython",
    "version": 3
   },
   "file_extension": ".py",
   "mimetype": "text/x-python",
   "name": "python",
   "nbconvert_exporter": "python",
   "pygments_lexer": "ipython3",
   "version": "3.7.4"
  }
 },
 "nbformat": 4,
 "nbformat_minor": 2
}
