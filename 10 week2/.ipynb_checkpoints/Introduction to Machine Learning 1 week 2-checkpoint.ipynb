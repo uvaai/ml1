{
 "cells": [
  {
   "cell_type": "markdown",
   "metadata": {},
   "source": [
    "# k-Nearest Neighbours (k-NN)\n",
    "**If you have not yet read and done the exercises of chapters 4-6 https://course.elementsofai.com/, please do so now.**\n",
    "\n",
    "Who is k-NN? Is it some underground band that is bringing a new sound with the banjo that lives next door? Steve Martin, watch out now. What is it? Does it make a pie better than [Patti LaBelle’s sweet potato pie](https://www.youtube.com/watch?v=eQRwFn7WPk8)? Well, no. \n",
    "\n",
    "Chapter 4.2 of https://course.elementsofai.com/ discussed the Nearest Neighbour (NN) classifier, wherein unclassified items are classified using the \"nearest\" known training-data-point's label. The k-NN classifier works very similarly; instead of using the single nearest known neighbour of an unknown datapoint, it uses the \"k\" nearest known neighbours and takes the most common class among those neighbours. Basically, with $k = 1$ k-NN would do the exact same as the NN classifier.\n",
    "\n",
    "Consider the following example where the test sample (green dot) should be classified either to blue squares or to red triangles:\n",
    "\n",
    "<img src=\"knn_classification.png\" alt=\"k-NN\" style=\"width: 400px;\"/>\n",
    "\n",
    "\n",
    "In the case of $k = 1$ k-NN would assign the test sample (green circle) to the class of red triangles, because the nearest other datapoint is a red triangle. If $k = 3$ (solid circle) it is assigned to the red triangles because there are 2 triangles and only 1 square inside the inner circle. If $k = 5$ (dashed circle) it is assigned to the blue squares (3 squares vs. 2 triangles inside the outer circle).\n",
    "\n",
    "Why or when would you use this? Well, there are times where data may be given that is anonymized and the goal is to attempt to classify it, without really knowing the context of the data. Think of grouping customer personalities to recommend specific products on websites like Amazon or AliExpress. \n",
    "\n",
    "This notebook will guide you through the process of classification using k-NN.\n",
    "\n",
    "## Nearest Neighbour\n",
    "\n",
    "First we will try to tackle the problem of finding the nearest neighbour. We will use the geometric distance (also known as straight-line distance, or Euclidean distance) to decide which is the nearest item. \n",
    "\n",
    "#### Euclidean Distance\n",
    "\n",
    "The euclidean distance $d$ between point $p$ with coordinates $(p_x, p_y)$ and point $q$ with coordinates $(q_x, q_y)$ is defined as:\n",
    "\n",
    "$$ d(p,q) = \\sqrt{(p_x - q_x)^2 + (p_y - q_y)^2} $$\n",
    "\n",
    "This can be read as; the straight-line distance between $p$ and $q$ is equal to the square root of the sum of squared differences in the $x$ and $y$ dimensions. (Which is still quite abstract).\n",
    "\n",
    "To make this more clear, consider the following example:\n",
    "\n",
    "![euclidean_distance.png](euclidean_distance.png)\n",
    "\n",
    "The Euclidean distance between point $p$ and $q$ is depicted as the blue line ($C$). As you can see, we can use the Pythagorean Theorem ($A^2 + B^2 = C^2$) to calculate the length of $C$. To do this, we first need the length of $A$ and $B$. The length of $A$ is equal to $(q_x - p_x)$, while the length of $B$ is equal to $(q_y - p_y)$. Now, applying the Pythagorean Theorem we end up with:\n",
    "\n",
    "$$ C^2 = A^2 + B^2 $$\n",
    "\n",
    "$$ C = \\sqrt{A^2 + B^2} = \\sqrt{(p_x - q_x)^2 + (p_y - q_y)^2} = d(p,q)$$\n",
    "\n",
    "If we now define the $x$ and $y$ dimensions to be $1$ and $2$, we can even rewrite our formula for the distance like this:\n",
    "\n",
    "$$ d(p,q) = \\sqrt{(p_1 - q_1)^2 + (p_2 - q_2)^2} $$ \n",
    "\n",
    "Which can be rewritten more formally:\n",
    "\n",
    "$$ d(p,q) = \\sqrt{\\sum^2_{i=1}(p_i - q_i)^2} $$\n",
    "\n",
    "__Write a piece of code that calculates the Euclidean distance between two sets of coordinates (`p` and `q`) and stores the solution in the variable `distance`.__ Write it such that it works for any `p` and `q`, as you will need this code later.\n",
    "\n",
    "*Disclaimer; normally you would write functions to prevent duplicate code, but for this exercise \"copy and pasting\" code is okay. If, however, you would like to try to solve it using functions, you are free to do so.*"
   ]
  },
  {
   "cell_type": "code",
   "execution_count": 2,
   "metadata": {},
   "outputs": [],
   "source": [
    "import math\n",
    "\n",
    "p = (1, 2)\n",
    "q = (3, 4)\n",
    "\n",
    "### YOUR SOLUTION HERE\n",
    "distance = 0\n",
    "\n",
    "for p_i, q_i in zip(p, q):\n",
    "    distance += (p_i - q_i) ** 2\n",
    "    \n",
    "distance = math.sqrt(distance)"
   ]
  },
  {
   "cell_type": "code",
   "execution_count": 3,
   "metadata": {},
   "outputs": [],
   "source": [
    "# Testing cell\n",
    "assert distance == math.sqrt(8), \"Something is wrong in your calculation.\""
   ]
  },
  {
   "cell_type": "markdown",
   "metadata": {},
   "source": [
    "#### Finding the closest neighbour\n",
    "Now that we can define the distance between two points, we can also find the closest neighbouring point of any given set of coordinates. This can be done by looping over every available point one by one, and saving both the distance and the point that is the closest every step.\n",
    "\n",
    "We have provided you with a dictionary `points` that holds the values for the classes of our dataset. There are two possible class-values; $1$ and $-1$. For this exercise you do not need the values, but you can use the coordinates of the points. The plot below shows how the points are distributed. "
   ]
  },
  {
   "cell_type": "code",
   "execution_count": 36,
   "metadata": {},
   "outputs": [
    {
     "data": {
      "image/png": "[encoded data removed]",
      "text/plain": [
       "<Figure size 432x288 with 1 Axes>"
      ]
     },
     "metadata": {
      "needs_background": "light"
     },
     "output_type": "display_data"
    }
   ],
   "source": [
    "import matplotlib.pyplot as plt\n",
    "\n",
    "points = {(20, 14): 1, (9, 23): -1, (2, 4): -1, (39, 9): 1, (34, 5): 1, (18, 18): -1, (22, 4): 1, (3, 27):-1}\n",
    "\n",
    "# Loop over all points and assign red when the class is -1, green when 1\n",
    "for point, class_value in points.items():\n",
    "    if class_value == -1:\n",
    "        plt.scatter(*point, color=\"red\")\n",
    "    else:\n",
    "        plt.scatter(*point, color=\"green\")\n",
    "\n",
    "plt.show()"
   ]
  },
  {
   "cell_type": "markdown",
   "metadata": {},
   "source": [
    "__Write code that can find the closest point to point `p` from a dictionary of `points`, and save the result in `nearest_point` and the distance in `nearest_distance`.__ Copy the code from the last assignment and use it here to calculate the distances.\n",
    "\n",
    "*Disclaimer; normally you would write functions to prevent duplicate code, but for this exercise \"copy and pasting\" code is okay. If, however, you would like to try to solve it using functions, you are free to do so.*"
   ]
  },
  {
   "cell_type": "code",
   "execution_count": 37,
   "metadata": {},
   "outputs": [],
   "source": [
    "p = (23, 9)\n",
    "\n",
    "# Set closest point to something very far away\n",
    "nearest_point = None\n",
    "nearest_distance = math.inf\n",
    "\n",
    "# Loop over the coordinates in our `points` dictionary\n",
    "for q in points:\n",
    "    ### YOUR SOLUTION HERE\n",
    "    distance = 0\n",
    "\n",
    "    for p_i, q_i in zip(p, q):\n",
    "        distance += (p_i - q_i) ** 2\n",
    "\n",
    "    distance = math.sqrt(distance)\n",
    "    \n",
    "    if distance < nearest_distance:\n",
    "        nearest_distance = distance\n",
    "        nearest_point = q"
   ]
  },
  {
   "cell_type": "code",
   "execution_count": 38,
   "metadata": {},
   "outputs": [],
   "source": [
    "# Testing cell\n",
    "assert nearest_point == (22, 4), \"This is not the closest point.\"\n",
    "assert nearest_distance == math.sqrt(26), \"This is not the correct distance.\""
   ]
  },
  {
   "cell_type": "markdown",
   "metadata": {},
   "source": [
    "#### Classifying\n",
    "Finally, we need to classify our unknown point. We know what the nearest point is, so all we need to know now is what class it had. As we have discussed before, we have provided you with a dictionary that holds the values for the classes of the `points`. There are two possible class-values; $1$ and $-1$. Getting a value from the dictionary can be done as follows:"
   ]
  },
  {
   "cell_type": "code",
   "execution_count": 6,
   "metadata": {},
   "outputs": [
    {
     "name": "stdout",
     "output_type": "stream",
     "text": [
      "The class-value for point (9, 23) is: -1\n",
      "The class-value for point (22, 4) is: 1\n"
     ]
    }
   ],
   "source": [
    "# Example using direct coordinates\n",
    "print(f'The class-value for point {(9, 23)} is: {points[(9, 23)]}')\n",
    "\n",
    "# Example using the nearest_point found in the last exercise\n",
    "print(f'The class-value for point {nearest_point} is: {points[nearest_point]}')"
   ]
  },
  {
   "cell_type": "markdown",
   "metadata": {},
   "source": [
    "__Write code that can find the class of point `p` and store the class-value in `p_class`.__ Copy the code from the last assignment and use it here to find the nearest neighbour.\n",
    "\n",
    "*Disclaimer; normally you would write functions to prevent duplicate code, but for this exercise \"copy and pasting\" code is okay. If, however, you would like to try to solve it using functions, you are free to do so.*"
   ]
  },
  {
   "cell_type": "code",
   "execution_count": 9,
   "metadata": {},
   "outputs": [],
   "source": [
    "p = (9, 12)\n",
    "\n",
    "p_class = 0\n",
    "\n",
    "# Set closest point to something very far away\n",
    "nearest_point = None\n",
    "nearest_distance = math.inf\n",
    "\n",
    "### YOUR SOLUTION HERE\n",
    "for q in points:\n",
    "    distance = 0\n",
    "\n",
    "    for p_i, q_i in zip(p, q):\n",
    "        distance += (p_i - q_i) ** 2\n",
    "\n",
    "    distance = math.sqrt(distance)\n",
    "    \n",
    "    if distance < nearest_distance:\n",
    "        nearest_distance = distance\n",
    "        nearest_point = q\n",
    "        \n",
    "p_class = points[nearest_point]"
   ]
  },
  {
   "cell_type": "code",
   "execution_count": 10,
   "metadata": {},
   "outputs": [],
   "source": [
    "# Testing cell\n",
    "assert p_class == -1, \"You have not found the correct class.\""
   ]
  },
  {
   "cell_type": "markdown",
   "metadata": {},
   "source": [
    "## k-NN\n",
    "Now that we have a method of finding the Nearest Neighbour, the step to finding $k$-Nearest Neighbours is fairly small. We can just repeat our previous method $k$ times while ignoring the points that we have already found.\n",
    "\n",
    "There are several methods that you can use to ignore points that you have already determined were the closest. The simplest method, however, is using some python built-in tricks:\n",
    "\n",
    "```python\n",
    "example_list = [(10, 12), (13, 4), (20, 5)]\n",
    "\n",
    "if (20, 5) in example_list:\n",
    "    print(\"The coordinate (20, 5) is in our list!\"\n",
    "else:\n",
    "    print(\"The coordinate (20, 5) is not in our list...\"\n",
    "          \n",
    "if (30, 3) not in example_list:\n",
    "    print(\"The coordinate (30, 3) is not in our list...\")\n",
    "```\n",
    "\n",
    "As you can see, you can use the keyword `in` to see if a set of coordinates is in a `list`.\n",
    "\n",
    "Below, we have provided you with a framework of code that saves which sets of coordinates were already found to be the closest. __Copy your code that finds the nearest neighbour. Then, add a piece of code that makes sure that `nearest_point` can not become a point that is already in `neighbours`.__\n",
    "\n",
    "*Disclaimer; normally you would write functions to prevent duplicate code, but for this exercise \"copy and pasting\" code is okay. If, however, you would like to try to solve it using functions, you are free to do so.*"
   ]
  },
  {
   "cell_type": "code",
   "execution_count": 40,
   "metadata": {},
   "outputs": [
    {
     "name": "stdout",
     "output_type": "stream",
     "text": [
      "[(2, 4), (18, 18), (9, 23)]\n"
     ]
    }
   ],
   "source": [
    "k = 3\n",
    "\n",
    "p = (9, 12)\n",
    "p_class = 0\n",
    "\n",
    "neighbours = []\n",
    "\n",
    "for i in range(k):\n",
    "    # Set closest point to something very far away\n",
    "    nearest_point = None\n",
    "    nearest_distance = math.inf\n",
    "    \n",
    "    ### YOUR SOLUTION HERE\n",
    "    for q in points:\n",
    "        if q in neighbours:\n",
    "            continue\n",
    "            \n",
    "        distance = 0\n",
    "\n",
    "        for p_i, q_i in zip(p, q):\n",
    "            distance += (p_i - q_i) ** 2\n",
    "\n",
    "        distance = math.sqrt(distance)\n",
    "\n",
    "        if distance < nearest_distance:\n",
    "            nearest_distance = distance\n",
    "            nearest_point = q\n",
    "    ### END SOLUTION\n",
    "    \n",
    "    # Add the point to our list of neighbours\n",
    "    neighbours.append(nearest_point)\n",
    "    \n",
    "print(neighbours)"
   ]
  },
  {
   "cell_type": "code",
   "execution_count": 42,
   "metadata": {},
   "outputs": [],
   "source": [
    "assert neighbours == [(2, 4), (18, 18), (9, 23)], \"You have not found the correct neighbours.\""
   ]
  },
  {
   "cell_type": "markdown",
   "metadata": {},
   "source": [
    "Of course, this is not the most efficient method, as we have to re-calculate the distances every single time we try to find a new Nearest Neighbour. If you would like an added challenge, try to find a method that does not require you to re-calculate the distances. _(This is not a required exercise)_"
   ]
  },
  {
   "cell_type": "markdown",
   "metadata": {},
   "source": [
    "### Determining the class-value\n",
    "\n",
    "Now, we have to determine the class of our unknown datapoint. In k-NN this is done by taking the most common class among the Nearest Neighbours. Since we have defined our two possible class-values as $-1$ and $1$, this can easily be done by just taking the sum of the class labels of our `neighbours`, and seeing if this value is negative, positive, or zero. When the value of this sum is negative, there were more points with the class-value of $-1$ than there were points with the class-value of $1$. When the value of this sum is positive, the opposite is the case. When the value is zero, there were just as many points with a class-value of $-1$ as there were points with a class-value of $1$.\n",
    "\n",
    "__Write code that can loop over the list `neighbours` and sums all class-values. Then, determine the resulting class value for our unknown datapoint and store the result in `class_outcome`.__"
   ]
  },
  {
   "cell_type": "code",
   "execution_count": 45,
   "metadata": {},
   "outputs": [],
   "source": [
    "class_outcome = 0\n",
    "\n",
    "### YOUR SOLUTION HERE\n",
    "class_sum = 0\n",
    "\n",
    "for neighbour in neighbours:\n",
    "    class_sum += points[neighbour]\n",
    "    \n",
    "if class_sum < 0:\n",
    "    class_outcome = -1\n",
    "elif class_sum > 0:\n",
    "    class_outcome = 1"
   ]
  },
  {
   "cell_type": "code",
   "execution_count": 46,
   "metadata": {},
   "outputs": [],
   "source": [
    "assert class_outcome == -1, \"The outcome is not correct.\""
   ]
  },
  {
   "cell_type": "markdown",
   "metadata": {},
   "source": [
    "### Combining everything\n",
    "Finally, we get to combine everything into one! \n",
    "\n",
    "__Fill in the blanks in the cell below using your code from the exercises above.__\n",
    "\n",
    "*Disclaimer; normally you would write functions to prevent duplicate code, but for this exercise \"copy and pasting\" code is okay. If, however, you would like to try to solve it using functions, you are free to do so.*"
   ]
  },
  {
   "cell_type": "code",
   "execution_count": 90,
   "metadata": {},
   "outputs": [],
   "source": [
    "k = 5\n",
    "\n",
    "p = (20,17)\n",
    "p_class = 0\n",
    "class_outcome = 0\n",
    "\n",
    "neighbours = []\n",
    "\n",
    "### YOUR SOLUTION HERE\n",
    "for i in range(k):\n",
    "    # Set closest point to something very far away\n",
    "    nearest_point = None\n",
    "    nearest_distance = math.inf\n",
    "\n",
    "    for q in points:\n",
    "        if q in neighbours:\n",
    "            continue\n",
    "\n",
    "        distance = 0\n",
    "\n",
    "        for p_i, q_i in zip(p, q):\n",
    "            distance += (p_i - q_i) ** 2\n",
    "\n",
    "        distance = math.sqrt(distance)\n",
    "\n",
    "        if distance < nearest_distance:\n",
    "            nearest_distance = distance\n",
    "            nearest_point = q\n",
    "\n",
    "    # Add the point to our list of neighbours\n",
    "    neighbours.append(nearest_point)\n",
    "\n",
    "class_sum = 0\n",
    "\n",
    "for neighbour in neighbours:\n",
    "    class_sum += points[neighbour]\n",
    "\n",
    "if class_sum < 0:\n",
    "    class_outcome = -1\n",
    "elif class_sum > 0:\n",
    "    class_outcome = 1\n",
    "### END SOLUTION"
   ]
  },
  {
   "cell_type": "code",
   "execution_count": 89,
   "metadata": {},
   "outputs": [],
   "source": [
    "assert class_outcome == 1, \"The point was classified incorrectly.\""
   ]
  },
  {
   "cell_type": "markdown",
   "metadata": {},
   "source": [
    "## Questions\n",
    "Answer the following questions about this notebook. Write your answers below each question in this cell.\n",
    "\n",
    "__What happens if there is no clear winner in the majority voting? E.g. for $k=4$ there are 2 neighbours from class A and 2 neighbours from class B. Describe a solution to this problem, and argue why it would work.__\n",
    "\n",
    "YOUR ANSWER HERE\n",
    "\n",
    "__Does $k=1$ have high bias, or high variance? Explain.__\n",
    "\n",
    "YOUR ANSWER HERE\n",
    "\n",
    "__What is the tradeoff you are making when you are increasing the value of $k$? Relate your answer to the terms bias and variance.__\n",
    "\n",
    "YOUR ANSWER HERE\n",
    "\n",
    "\n"
   ]
  }
 ],
 "metadata": {
  "kernelspec": {
   "display_name": "Python 3",
   "language": "python",
   "name": "python3"
  },
  "language_info": {
   "codemirror_mode": {
    "name": "ipython",
    "version": 3
   },
   "file_extension": ".py",
   "mimetype": "text/x-python",
   "name": "python",
   "nbconvert_exporter": "python",
   "pygments_lexer": "ipython3",
   "version": "3.7.4"
  }
 },
 "nbformat": 4,
 "nbformat_minor": 2
}
