{
 "cells": [
  {
   "cell_type": "markdown",
   "metadata": {},
   "source": [
    "# Notebook cells\n",
    "\n",
    "A notebook consists of a sequence of cells, which usually consist of either text or code. If you haven't clicked anything yet, this box of text should be the cell that is currently selected, indicated by the blue bar on the right. You can select other cells by clicking them *once* or using the arrow keys to navigate between cells. You can run any selected cell by typing `Shift-Enter`, or by clicking the `Run` button in the toolbar at the top.\n",
    "\n",
    "What running a cell does exactly, depends on the type of cell. There are four types of cells: *code* cells, *markdown* cells, *raw* cells and *heading* cells. We will only focus on the first two types for now; code and markdown. The type of cell can always be changed by using the dropdown menu in the toolbar at the top. Currently, the type of this cell should be set to *markdown*."
   ]
  },
  {
   "cell_type": "markdown",
   "metadata": {},
   "source": [
    "## Code cells\n",
    "\n",
    "In a code cell you can write *Python* code. When you run a *code* cell (select the cell and press `Shift-Enter`) the code in the cell will run, and the output of the cell will be displayed beneath the cell.\n",
    "\n",
    "Below is a simple example code cell. Run the cell to try it out."
   ]
  },
  {
   "cell_type": "code",
   "execution_count": null,
   "metadata": {},
   "outputs": [],
   "source": [
    "# This is the first code cell\n",
    "\n",
    "x = 5\n",
    "x = x + 2\n",
    "print(x)"
   ]
  },
  {
   "cell_type": "markdown",
   "metadata": {},
   "source": [
    "Running this cell produces the output you might expect; it is the exact the same result as executing that bit of *Python* code in a terminal. You can modify the contents of the code cell and run it again with `Shift-Enter`, or click the `Run` button in toolbar, to see how the output changes.\n",
    "\n",
    "Variables you define are *remembered* between cells. This means we can still use variables from the first cell in a second cell. Run the cell below and try it out."
   ]
  },
  {
   "cell_type": "code",
   "execution_count": null,
   "metadata": {},
   "outputs": [],
   "source": [
    "# This is the second code cell\n",
    "\n",
    "y = 2 * x\n",
    "print(y)"
   ]
  },
  {
   "cell_type": "markdown",
   "metadata": {},
   "source": [
    "## Markdown cells\n",
    "\n",
    "*Markdown* is a simple way to format text using some extra symbols like asterisks (`*`) and underscores (`_`). You can do a simple [10 minute tutorial](http://www.markdowntutorial.com) or reference the [CheatSheet](http://commonmark.org/help/) for the available commands.\n",
    "\n",
    "If you set a notebook cell as a *markdown* cell, you can write *markdown* directly in the cell. When you run a *markdown* cell, the markdown will be formatted to the *rich text*. If you **double-click** the *rich text*, you can edit the markdown source.\n",
    "\n",
    "Double-click this cell to see the markdown source it was written in. Run the cell to create the *rich text* output again."
   ]
  },
  {
   "cell_type": "markdown",
   "metadata": {},
   "source": [
    "## Cell continuity\n",
    "\n",
    "The most important (and often confusing) thing to remember about notebooks, is that variables you define are remembered between cells. This can be very useful, like in the *Code* cells above, where we define `x` in one cell and then reuse `x` in the next cell, without having to define it again. However, this feature is also the one that causes the most errors when people just start learning about notebooks.\n",
    "\n",
    "There are several ways this feature might lead to errors. For example, if you ran the second code cell before your ran the first, you would get an error saying `x` is not defined, because you didn't run the code defining `x` yet. However, in this case, you probably already ran both cells, so if you ran the second cell now, no error would occur! In order to see this error, you'll need to restart the *Kernel*, which contains all the stored variables. In the menu at the top, navigate to **Kernel > Restart**. Next, run the second cell *without* running the first, and you should see the error.\n",
    "\n",
    "Now, if you run the first cell, and then run the second cell, everything should work as expected again. This is a very simple example where the order of execution between the cells matters, but there are much more subtle problems that can arise too. The best way to avoid these types of problems is to always use **Cell > Run All**. This runs every cell from the top to the bottom, in the order they appear in the notebook. Most errors with cell continuity can be avoided by always running all cells instead of just executing a single cell. In some cases though, it might also be required to restart the *Kernel*, so if you're getting unexpected errors, it might help to try a restart too."
   ]
  },
  {
   "cell_type": "markdown",
   "metadata": {},
   "source": [
    "# Quick practice\n",
    "\n",
    "The goal of this assignment is to just practice working with notebooks. For this, you should create some of your own cells.\n",
    "\n",
    "Create a new cell using the `+` button in the toolbar (next to the *save* icon). A new cell will always start out being a code cell. The type of any cell can be changed using the dropdown menu in the toolbar.\n",
    "\n",
    "Now, try and create the following cells\n",
    "\n",
    "1. Create a new code cell and define some variables in it.\n",
    "\n",
    "2. Create a markdown cells and add some bold text\n",
    "\n",
    "3. Create another code cell that using some variables from you first code cell.\n",
    "\n",
    "Make sure all cells in this notebook can run top to bottom without errors."
   ]
  }
 ],
 "metadata": {
  "kernelspec": {
   "display_name": "Python 3",
   "language": "python",
   "name": "python3"
  },
  "language_info": {
   "codemirror_mode": {
    "name": "ipython",
    "version": 3
   },
   "file_extension": ".py",
   "mimetype": "text/x-python",
   "name": "python",
   "nbconvert_exporter": "python",
   "pygments_lexer": "ipython3",
   "version": "3.7.2"
  }
 },
 "nbformat": 4,
 "nbformat_minor": 2
}
