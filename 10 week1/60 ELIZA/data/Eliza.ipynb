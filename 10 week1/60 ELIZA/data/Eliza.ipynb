{
 "cells": [
  {
   "cell_type": "markdown",
   "metadata": {
    "deletable": false,
    "editable": false,
    "nbgrader": {
     "cell_type": "markdown",
     "checksum": "cdf49538656248de043166b9219b9cb9",
     "grade": false,
     "grade_id": "cell-b7889863d73aa73c",
     "locked": true,
     "schema_version": 3,
     "solution": false,
     "task": false
    }
   },
   "source": [
    "# Chatbots: ELIZA\n",
    "\n",
    "For this first assignment we'll take a look at some simple chatbots, and their sometimes seemingly human responses. We'll start with a demo of ELIZA, a chatbot created in the 60's by Joseph Weizenbaum at MIT. It was created to demonstrate the superficiality of communication between humans and machines, but Weizenbaum was surprised by the number of individuals who attributed humanlike feelings to the computer program. ELIZA is considered one of the first programs capable of attempting the Turing test.\n",
    "\n",
    "## NLTK Demo\n",
    "\n",
    "The ELIZA program is so classic that you can find many versions of it online. It also comes already included in `nltk`, a Natural Language ToolKit for Python. Natural language here means human language (as opposed to formal languages like programming languages) and being able to process and \"understand\" this has many applications in AI. A chatbot can be a good demonstration of some of these features, which is why it comes included.\n",
    "\n",
    "This ELIZA script is intended to simulate the role of a therapist trying to help you, as a patient. Try out the demo below and have a conversation with ELIZA. You can type `quit` to stop the conversations. Afterwards, answer the questions below.\n"
   ]
  },
  {
   "cell_type": "code",
   "execution_count": null,
   "metadata": {},
   "outputs": [],
   "source": [
    "from nltk.chat import eliza\n",
    "\n",
    "eliza.demo()"
   ]
  },
  {
   "cell_type": "markdown",
   "metadata": {},
   "source": [
    "### ELIZA's answers\n",
    "\n",
    "For each of the questions below, include your own remark and ELIZA's answer. Add a one sentence comment on why the response stood out.\n",
    "\n",
    "**Q1. What was the most humanlike response ELIZA gave in your conversation?**\n",
    "\n",
    "*Your answer goes here.*\n",
    "\n",
    "**Q2. What was the response where it was most clear you were talking to a program?**\n",
    "\n",
    "*Your answer goes here.*\n"
   ]
  },
  {
   "cell_type": "markdown",
   "metadata": {
    "deletable": false,
    "editable": false,
    "nbgrader": {
     "cell_type": "markdown",
     "checksum": "8482ca1743f51a89adbc2f0b13552baa",
     "grade": false,
     "grade_id": "cell-6963a0acf4e31363",
     "locked": true,
     "schema_version": 3,
     "solution": false,
     "task": false
    }
   },
   "source": [
    "## Quitting the program\n",
    "\n",
    "These chat programs can take many lines of input and thus remain active until the user types `quit`. In a notebook, only one cell can run at each time, therefore it is very important you actually `quit` the program before moving on to the next cells, as the next cells won't be able to run otherwise. Make sure you've done this with the ELIZA cell above.\n",
    "\n",
    "If you use `Cell > Run All`, then you will need to stop all *three* chat programs started in this notebook before some cells might run. You can comment out the line starting the ELIZA demo, by replacing it with `# eliza.demo()`. This way, this chat program won't run again when you run all cells.\n",
    "\n",
    "\n",
    "## Reflections on what makes ELIZA tick\n",
    "\n",
    "The nice thing of using `nltk` for the demo, is that we can quite easily inspect the rules and code that make up ELIZA. There are only a few components needed, the first of which is a dictionary of *reflections*. Reflections are used to switch the language between first-person singular and second-person singular. So, for example, if you are talking with ELIZA about a dog and say \"my dog\", then there is a rule to switch this to \"your dog\" when responding.\n",
    "\n",
    "Below is some code to print out the reflections used. We'll use the `pprint` library to format everything a little more nicely. Run the code and take a look at the results."
   ]
  },
  {
   "cell_type": "code",
   "execution_count": null,
   "metadata": {},
   "outputs": [],
   "source": [
    "import pprint\n",
    "from nltk.chat.util import reflections\n",
    "\n",
    "pp = pprint.PrettyPrinter(indent=2)\n",
    "\n",
    "pp.pprint(reflections)"
   ]
  },
  {
   "cell_type": "markdown",
   "metadata": {
    "deletable": false,
    "editable": false,
    "nbgrader": {
     "cell_type": "markdown",
     "checksum": "546631c94005af669b986e5735ea9684",
     "grade": false,
     "grade_id": "cell-f3cb20b88272587b",
     "locked": true,
     "schema_version": 3,
     "solution": false,
     "task": false
    }
   },
   "source": [
    "## Pairs\n",
    "\n",
    "Perhaps surprisingly, the only other component needed for ELIZA is a list of *pairs*. These pairs are rules that match the input and then give a number of possible responses, one of which is randomly selected and applied. Run the code below to see all the pairs that make up the \"brain\" of ELIZA. Next, answer the questions below."
   ]
  },
  {
   "cell_type": "code",
   "execution_count": null,
   "metadata": {},
   "outputs": [],
   "source": [
    "from nltk.chat.eliza import pairs\n",
    "\n",
    "pp.pprint(pairs)"
   ]
  },
  {
   "cell_type": "markdown",
   "metadata": {},
   "source": [
    "### Responses rules\n",
    "\n",
    "In the pairs printed above, try to find the rules that were used to give both the most humanlike response and most programlike response ELIZA gave you. Include both the rule matched on the input and the selected response.\n",
    "\n",
    "**Q3. What do you think the rule was that produced ELIZA's most humanlike response (from your earlier answers)?** \n",
    "\n",
    "*Your answer goes here.*\n",
    "\n",
    "**Q4. What do you think the rule was that produced ELIZA's most programlike response  (from your earlier answers)?** \n",
    "\n",
    "*Your answer goes here.*\n"
   ]
  },
  {
   "cell_type": "markdown",
   "metadata": {
    "deletable": false,
    "editable": false,
    "nbgrader": {
     "cell_type": "markdown",
     "checksum": "c2ca676c183aa389fc5f7bfef7150795",
     "grade": false,
     "grade_id": "cell-3c4151c7a22a1c35",
     "locked": true,
     "schema_version": 3,
     "solution": false,
     "task": false
    }
   },
   "source": [
    "## Creating ELIZA\n",
    "\n",
    "The last element we need is a `Chat` object that will actually process the text and apply the rules, however it contains no rules or logic of its own. Just as an example, the code below would recreate the `ELIZA` demo from earlier, only without the intro text."
   ]
  },
  {
   "cell_type": "code",
   "execution_count": null,
   "metadata": {},
   "outputs": [],
   "source": [
    "from nltk.chat.util import Chat\n",
    "\n",
    "chat = Chat(pairs, reflections)\n",
    "\n",
    "chat.converse()"
   ]
  },
  {
   "cell_type": "markdown",
   "metadata": {
    "deletable": false,
    "editable": false,
    "nbgrader": {
     "cell_type": "markdown",
     "checksum": "2effc127c614d9b356a290b43056aff4",
     "grade": false,
     "grade_id": "cell-88a8e631e3ee4df8",
     "locked": true,
     "schema_version": 3,
     "solution": false,
     "task": false
    }
   },
   "source": [
    "### Creating HAL\n",
    "\n",
    "If we create a different set of pairs, we can also use this to make a new chatbot. The reflections are general, so they can be kept the same.\n",
    "\n",
    "Below is a small example of a HAL chatbot. The left side is the rule used for the input and the right side is a list of possible responses, as required by the `Chat` object. Each of the response lists contains only 1 option here, so this chatbot is entirely deterministic. Also, as there are even several rules that lead to the same response, these response lists are defined as separate variables, to avoid code duplication.\n",
    "\n",
    "Once the pairs of rules have been defined, the chatbot can be created and started in exactly the same way as the ELIZA bot."
   ]
  },
  {
   "cell_type": "code",
   "execution_count": null,
   "metadata": {},
   "outputs": [],
   "source": [
    "greeting = ['I am the H.A.L. 9000. You may call me Hal. What is your name?']\n",
    "introduction = ['Good morning %1. How may I be of service?']\n",
    "goodbye = ['This conversation can serve no purpose anymore. Goodbye.']\n",
    "\n",
    "hal_pairs = (\n",
    "    ('Hello', greeting),\n",
    "    ('Hi', greeting),\n",
    "    (\"I'm (.*)\", introduction),\n",
    "    ('My name is (.*)', introduction),\n",
    "    ('(.*)Bye', goodbye),\n",
    "    ('quit', goodbye),\n",
    "    ('(.*)', [\"I am sorry, I'm afraid I can't %1.\"])\n",
    ")\n",
    "\n",
    "hal_9000 = Chat(hal_pairs, reflections)\n",
    "\n",
    "hal_9000.converse()"
   ]
  },
  {
   "cell_type": "markdown",
   "metadata": {
    "deletable": false,
    "editable": false,
    "nbgrader": {
     "cell_type": "markdown",
     "checksum": "3a335efd083b11a853fdb3b829c32b30",
     "grade": false,
     "grade_id": "cell-c845769bb7c82bde",
     "locked": true,
     "schema_version": 3,
     "solution": false,
     "task": false
    }
   },
   "source": [
    "### Assignment: Create your own chatbot\n",
    "\n",
    "Use the code above as a template to create your own chatbot. The special sequence of characters `(.*)` can be used to match *anything* in your input rules. The sequence `%1` will then reproduce whatever was matched in your output rules, after applying the reflection rules to the match.\n",
    "\n",
    "This type of matching is called *regular expressions* or *regex*. If you are interested, you can read more about regex in the Python documentation [here](https://docs.python.org/3/howto/regex.html). On this page you can also find ways to create more complicated rules for your bot. Note that this is *not* a requirement for the assignment, and simply using `(.*)` to match elements is enough.\n",
    "\n",
    "The `Chat` object will try to match each of your rules in the order they are given, so the order you put them in might matter. Specifically, the most general rule, containing only `(.*)`, which will match *any* input, should always be tried last.\n",
    "\n",
    "Create your own chatbot using at least 5 pairs of rules and run it."
   ]
  },
  {
   "cell_type": "code",
   "execution_count": null,
   "metadata": {},
   "outputs": [],
   "source": [
    "# Your chatbot goes here\n"
   ]
  },
  {
   "cell_type": "markdown",
   "metadata": {},
   "source": [
    "### Further reflections\n",
    "\n",
    "Based on your experience with the type of `Chat` framework used here, answer the questions below.\n",
    "\n",
    "**Q5. What type of interaction could such a system *never* have, no matter how many rules are added? Motivate your answer.**\n",
    "\n",
    "*Your answer goes here.*\n",
    "\n",
    "**Q6. Write a short script of questions that would make up your own Turing test to establish if you are conversing with such a rule based system.**\n",
    "\n",
    "*Your answer goes here.*\n"
   ]
  }
 ],
 "metadata": {
  "kernelspec": {
   "display_name": "Python 3",
   "language": "python",
   "name": "python3"
  },
  "language_info": {
   "codemirror_mode": {
    "name": "ipython",
    "version": 3
   },
   "file_extension": ".py",
   "mimetype": "text/x-python",
   "name": "python",
   "nbconvert_exporter": "python",
   "pygments_lexer": "ipython3",
   "version": "3.7.2"
  }
 },
 "nbformat": 4,
 "nbformat_minor": 2
}
